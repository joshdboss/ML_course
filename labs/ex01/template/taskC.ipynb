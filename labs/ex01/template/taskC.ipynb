{
 "cells": [
  {
   "cell_type": "code",
   "execution_count": 1,
   "metadata": {},
   "outputs": [],
   "source": [
    "%matplotlib inline\n",
    "import numpy as np\n",
    "import matplotlib.pyplot as plt\n",
    "%load_ext autoreload\n",
    "%autoreload 2"
   ]
  },
  {
   "cell_type": "markdown",
   "metadata": {},
   "source": [
    "Data Generation\n",
    "==="
   ]
  },
  {
   "cell_type": "code",
   "execution_count": 2,
   "metadata": {},
   "outputs": [],
   "source": [
    "from numpy.random import rand, randn"
   ]
  },
  {
   "cell_type": "code",
   "execution_count": 489,
   "metadata": {},
   "outputs": [],
   "source": [
    "n, d, k = 100, 3, 2"
   ]
  },
  {
   "cell_type": "code",
   "execution_count": 490,
   "metadata": {},
   "outputs": [
    {
     "name": "stdout",
     "output_type": "stream",
     "text": [
      "[[0.75290762 0.96224455 0.82506169]\n",
      " [0.2202413  0.23810885 0.31070211]]\n",
      "[[[1.01987846 0.         0.        ]\n",
      "  [0.         1.56538481 0.        ]\n",
      "  [0.         0.         1.10507203]]\n",
      "\n",
      " [[1.01987846 0.         0.        ]\n",
      "  [0.         1.56538481 0.        ]\n",
      "  [0.         0.         1.10507203]]]\n"
     ]
    }
   ],
   "source": [
    "np.random.seed(20)\n",
    "X = rand(n, d)\n",
    "\n",
    "means = np.array([rand(d)  for _ in range(k)])  # works for any k\n",
    "#means = [rand(d) * 0.5 + 0.5 , - rand(d)  * 0.5 + 0.5]  # for better plotting when k = 2\n",
    "\n",
    "S = np.diag(rand(d))\n",
    "\n",
    "sigmas = np.array([S]*k) # we'll use the same Sigma for all clusters for better visual results\n",
    "\n",
    "#rows, cols = np.indices((X.shape[0], q.shape[0]))\n",
    "print(means)\n",
    "print(np.linalg.inv(sigmas))"
   ]
  },
  {
   "cell_type": "markdown",
   "metadata": {},
   "source": [
    "Solution\n",
    "==="
   ]
  },
  {
   "cell_type": "code",
   "execution_count": 495,
   "metadata": {
    "scrolled": true
   },
   "outputs": [],
   "source": [
    "def compute_log_p(X, mean, sigma):\n",
    "    ''' \n",
    "        compute_log_p\n",
    "        Returns the probabilities that elements in X are in the set given by the mean and sigma provided\n",
    "        \n",
    "        INPUTS\n",
    "        X: An n by d array of data points\n",
    "        mean: A 1 by d array of the mean of the set given\n",
    "        sigma: A d by d covariance matrix of the set given\n",
    "        \n",
    "        OUTPUTS\n",
    "        An n by 1 array representing the probabilities that the elements of X are in the set\n",
    "    '''\n",
    "    x_diff = (X-mean)\n",
    "    num = np.sum(-0.5*(x_diff)*(np.linalg.inv(sigma).dot((x_diff).T)).T,axis=1)\n",
    "    denom = np.log((2*np.pi)**(X.shape[1]/2)*np.linalg.det(sigma)**(1/2))\n",
    "    return (num - denom)"
   ]
  },
  {
   "cell_type": "code",
   "execution_count": 491,
   "metadata": {},
   "outputs": [],
   "source": [
    "def compute_log_ps(X, means, sigmas):\n",
    "    ''' \n",
    "        compute_log_p\n",
    "        Returns the probabilities that elements in X are in the set given by the mean and sigma provided\n",
    "        \n",
    "        INPUTS\n",
    "        X: An n by d array of data points\n",
    "        means: A k by d array of the mean of the sets given\n",
    "        sigmas: A d by d by k covariance matrix of the sets given\n",
    "        \n",
    "        OUTPUTS\n",
    "        An n by 1 array representing the probabilities that the elements of X are in the set\n",
    "    '''\n",
    "    d = X.shape[1]\n",
    "    n = X.shape[0]\n",
    "    k = means.shape[0]\n",
    "    \n",
    "    rows, cols = np.indices((k,n))\n",
    "    diff = (X[cols.ravel()] - means[rows.ravel()])\n",
    "    sigma_inv = np.linalg.inv(sigmas[rows.ravel()])\n",
    "    c = np.einsum('ij,ijk->ik',diff,sigma_inv)\n",
    "    num = np.sum(c*diff,axis=1).reshape(n,k)\n",
    "    \n",
    "    denom = np.log((2*np.pi)**(d/2)*np.linalg.det(sigmas)**(1/2))\n",
    "    return (num - denom).reshape(k,n)"
   ]
  },
  {
   "cell_type": "code",
   "execution_count": 492,
   "metadata": {},
   "outputs": [
    {
     "data": {
      "text/plain": [
       "(2, 100)"
      ]
     },
     "execution_count": 492,
     "metadata": {},
     "output_type": "execute_result"
    }
   ],
   "source": [
    "log_ps = compute_log_ps(X,means,sigmas)\n",
    "log_ps.shape"
   ]
  },
  {
   "cell_type": "code",
   "execution_count": 496,
   "metadata": {
    "scrolled": true
   },
   "outputs": [
    {
     "ename": "AttributeError",
     "evalue": "'list' object has no attribute 'shape'",
     "output_type": "error",
     "traceback": [
      "\u001b[1;31m---------------------------------------------------------------------------\u001b[0m",
      "\u001b[1;31mAttributeError\u001b[0m                            Traceback (most recent call last)",
      "\u001b[1;32m<ipython-input-496-e7891128f987>\u001b[0m in \u001b[0;36m<module>\u001b[1;34m\u001b[0m\n\u001b[0;32m      1\u001b[0m \u001b[0mlog_ps\u001b[0m \u001b[1;33m=\u001b[0m \u001b[1;33m[\u001b[0m\u001b[0mcompute_log_p\u001b[0m\u001b[1;33m(\u001b[0m\u001b[0mX\u001b[0m\u001b[1;33m,\u001b[0m \u001b[0mm\u001b[0m\u001b[1;33m,\u001b[0m \u001b[0ms\u001b[0m\u001b[1;33m)\u001b[0m \u001b[1;32mfor\u001b[0m \u001b[0mm\u001b[0m\u001b[1;33m,\u001b[0m \u001b[0ms\u001b[0m \u001b[1;32min\u001b[0m \u001b[0mzip\u001b[0m\u001b[1;33m(\u001b[0m\u001b[0mmeans\u001b[0m\u001b[1;33m,\u001b[0m \u001b[0msigmas\u001b[0m\u001b[1;33m)\u001b[0m\u001b[1;33m]\u001b[0m  \u001b[1;31m# exercise: try to do this without looping\u001b[0m\u001b[1;33m\u001b[0m\u001b[1;33m\u001b[0m\u001b[0m\n\u001b[1;32m----> 2\u001b[1;33m \u001b[0mlog_ps\u001b[0m\u001b[1;33m.\u001b[0m\u001b[0mshape\u001b[0m\u001b[1;33m\u001b[0m\u001b[1;33m\u001b[0m\u001b[0m\n\u001b[0m",
      "\u001b[1;31mAttributeError\u001b[0m: 'list' object has no attribute 'shape'"
     ]
    }
   ],
   "source": [
    "log_ps = [compute_log_p(X, m, s) for m, s in zip(means, sigmas)]  # exercise: try to do this without looping"
   ]
  },
  {
   "cell_type": "code",
   "execution_count": 497,
   "metadata": {},
   "outputs": [
    {
     "name": "stdout",
     "output_type": "stream",
     "text": [
      "[0 1 1 1 0 1 1 1 0 1 1 1 1 1 1 1 1 0 0 1 1 0 1 0 0 0 1 1 1 1 0 0 0 0 1 1 1\n",
      " 1 1 1 1 0 0 0 0 1 1 0 1 0 1 0 1 1 0 0 0 0 0 0 1 0 0 0 0 0 0 1 1 1 0 1 1 1\n",
      " 0 1 0 0 1 1 1 1 1 0 1 0 0 1 0 1 1 0 0 1 1 0 1 1 1 0]\n"
     ]
    }
   ],
   "source": [
    "assignments = np.argmax(log_ps, axis=0)\n",
    "print(assignments)"
   ]
  },
  {
   "cell_type": "code",
   "execution_count": 498,
   "metadata": {
    "scrolled": true
   },
   "outputs": [
    {
     "data": {
      "image/png": "[encoded data removed]",
      "text/plain": [
       "<Figure size 432x288 with 1 Axes>"
      ]
     },
     "metadata": {
      "needs_background": "light"
     },
     "output_type": "display_data"
    }
   ],
   "source": [
    "if k == 2:\n",
    "    colors = np.array(['red', 'green'])[assignments]\n",
    "elif k ==3:\n",
    "    colors = np.array(['red', 'green', 'blue'])[assignments]\n",
    "plt.scatter(X[:, 0], X[:, 1], c=colors, s=100)\n",
    "plt.scatter(np.array(means)[:, 0], np.array(means)[:, 1], marker='*', s=200)\n",
    "plt.show()"
   ]
  }
 ],
 "metadata": {
  "kernelspec": {
   "display_name": "Python 3",
   "language": "python",
   "name": "python3"
  },
  "language_info": {
   "codemirror_mode": {
    "name": "ipython",
    "version": 3
   },
   "file_extension": ".py",
   "mimetype": "text/x-python",
   "name": "python",
   "nbconvert_exporter": "python",
   "pygments_lexer": "ipython3",
   "version": "3.8.3"
  }
 },
 "nbformat": 4,
 "nbformat_minor": 1
}
