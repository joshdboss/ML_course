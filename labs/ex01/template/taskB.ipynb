{
 "cells": [
  {
   "cell_type": "code",
   "execution_count": 1,
   "metadata": {},
   "outputs": [],
   "source": [
    "%matplotlib inline\n",
    "import numpy as np\n",
    "import matplotlib.pyplot as plt\n",
    "%load_ext autoreload\n",
    "%autoreload 2"
   ]
  },
  {
   "cell_type": "markdown",
   "metadata": {},
   "source": [
    "Data Generation\n",
    "==="
   ]
  },
  {
   "cell_type": "code",
   "execution_count": 2,
   "metadata": {},
   "outputs": [
    {
     "name": "stdout",
     "output_type": "stream",
     "text": [
      "[[0.77132064 0.02075195]\n",
      " [0.63364823 0.74880388]\n",
      " [0.49850701 0.22479665]\n",
      " [0.19806286 0.76053071]] \n",
      "\n",
      " [[0.16911084 0.08833981]\n",
      " [0.68535982 0.95339335]\n",
      " [0.00394827 0.51219226]\n",
      " [0.81262096 0.61252607]\n",
      " [0.72175532 0.29187607]]\n",
      "4\n"
     ]
    }
   ],
   "source": [
    "np.random.seed(10)\n",
    "p, q = (np.random.rand(i, 2) for i in (4, 5))\n",
    "p_big, q_big = (np.random.rand(i, 80) for i in (100, 120))\n",
    "\n",
    "print(p, \"\\n\\n\", q)\n",
    "print(p.shape[0])"
   ]
  },
  {
   "cell_type": "markdown",
   "metadata": {},
   "source": [
    "Solution\n",
    "==="
   ]
  },
  {
   "cell_type": "code",
   "execution_count": 3,
   "metadata": {},
   "outputs": [],
   "source": [
    "def naive(p, q):\n",
    "    ''' \n",
    "        naive\n",
    "        Returns the euclidean distances between points in two arrays\n",
    "        Uses a naive (and slow!) for loop method\n",
    "        \n",
    "        INPUTS\n",
    "        p: An m by 2 array representing 2 dimensional points in R^m\n",
    "        q: An m by 2 array representing 2 dimensional points in R^m\n",
    "        \n",
    "        OUTPUTS\n",
    "        d: A p by q array representing the euclidean distances between two points in p and q\n",
    "    '''\n",
    "    d = np.zeros(p.shape[0]*q.shape[0])\n",
    "    i = 0\n",
    "    for point_p in p:\n",
    "        for point_q in q:\n",
    "            d[i] = np.sqrt((point_p[0]-point_q[0])**2+(point_p[1]-point_q[1])**2)\n",
    "            i = i+1\n",
    "    d.reshape([p.shape[0],q.shape[0]])\n",
    "    return d\n",
    " \n",
    "            "
   ]
  },
  {
   "cell_type": "code",
   "execution_count": 11,
   "metadata": {},
   "outputs": [],
   "source": [
    "def improved_naive(p, q):\n",
    "    ''' \n",
    "        naive\n",
    "        Returns the euclidean distances between points in two arrays\n",
    "        Uses a naive (and slow!) for loop method\n",
    "        \n",
    "        INPUTS\n",
    "        p: An m by 2 array representing 2 dimensional points in R^m\n",
    "        q: An m by 2 array representing 2 dimensional points in R^m\n",
    "        \n",
    "        OUTPUTS\n",
    "        d: A p by q array representing the euclidean distances between two points in p and q\n",
    "    '''\n",
    "    d = np.zeros(p.shape[0]*q.shape[0])\n",
    "    i = 0\n",
    "    for point_p in p:\n",
    "        for point_q in q:\n",
    "            d[i] = np.sqrt(np.sum((point_p-point_q)**2))\n",
    "            i = i+1\n",
    "    return d"
   ]
  },
  {
   "cell_type": "code",
   "execution_count": 12,
   "metadata": {},
   "outputs": [
    {
     "data": {
      "text/plain": [
       "array([0.60599073, 0.93659449, 0.91124856, 0.59321356, 0.27561751,\n",
       "       0.80746999, 0.21102354, 0.67268649, 0.22495084, 0.46534491,\n",
       "       0.35654215, 0.75217493, 0.57200052, 0.49900068, 0.23310825,\n",
       "       0.67281411, 0.52407472, 0.31520226, 0.63212897, 0.70277376])"
      ]
     },
     "execution_count": 12,
     "metadata": {},
     "output_type": "execute_result"
    }
   ],
   "source": [
    "improved_naive(p,q)"
   ]
  },
  {
   "cell_type": "markdown",
   "metadata": {},
   "source": [
    "### Use matching indices\n",
    "\n",
    "Instead of iterating through indices, one can use them directly to parallelize the operations with Numpy."
   ]
  },
  {
   "cell_type": "code",
   "execution_count": 13,
   "metadata": {},
   "outputs": [
    {
     "name": "stdout",
     "output_type": "stream",
     "text": [
      "[[0 0 0 0 0]\n",
      " [1 1 1 1 1]\n",
      " [2 2 2 2 2]\n",
      " [3 3 3 3 3]]\n",
      "\n",
      "[[0 1 2 3 4]\n",
      " [0 1 2 3 4]\n",
      " [0 1 2 3 4]\n",
      " [0 1 2 3 4]]\n"
     ]
    }
   ],
   "source": [
    "rows, cols = np.indices((p.shape[0], q.shape[0]))\n",
    "print(rows, end='\\n\\n')\n",
    "print(cols)"
   ]
  },
  {
   "cell_type": "code",
   "execution_count": 4,
   "metadata": {},
   "outputs": [
    {
     "data": {
      "text/plain": [
       "array([0, 0, 0, 0, 0, 1, 1, 1, 1, 1, 2, 2, 2, 2, 2, 3, 3, 3, 3, 3])"
      ]
     },
     "execution_count": 4,
     "metadata": {},
     "output_type": "execute_result"
    }
   ],
   "source": [
    "rows.ravel()"
   ]
  },
  {
   "cell_type": "code",
   "execution_count": 91,
   "metadata": {},
   "outputs": [
    {
     "name": "stdout",
     "output_type": "stream",
     "text": [
      "[[0.77132064 0.02075195]\n",
      " [0.77132064 0.02075195]\n",
      " [0.77132064 0.02075195]\n",
      " [0.77132064 0.02075195]\n",
      " [0.77132064 0.02075195]\n",
      " [0.63364823 0.74880388]\n",
      " [0.63364823 0.74880388]\n",
      " [0.63364823 0.74880388]\n",
      " [0.63364823 0.74880388]\n",
      " [0.63364823 0.74880388]\n",
      " [0.49850701 0.22479665]\n",
      " [0.49850701 0.22479665]\n",
      " [0.49850701 0.22479665]\n",
      " [0.49850701 0.22479665]\n",
      " [0.49850701 0.22479665]\n",
      " [0.19806286 0.76053071]\n",
      " [0.19806286 0.76053071]\n",
      " [0.19806286 0.76053071]\n",
      " [0.19806286 0.76053071]\n",
      " [0.19806286 0.76053071]]\n",
      "\n",
      "[[0.16911084 0.08833981]\n",
      " [0.68535982 0.95339335]\n",
      " [0.00394827 0.51219226]\n",
      " [0.81262096 0.61252607]\n",
      " [0.72175532 0.29187607]\n",
      " [0.16911084 0.08833981]\n",
      " [0.68535982 0.95339335]\n",
      " [0.00394827 0.51219226]\n",
      " [0.81262096 0.61252607]\n",
      " [0.72175532 0.29187607]\n",
      " [0.16911084 0.08833981]\n",
      " [0.68535982 0.95339335]\n",
      " [0.00394827 0.51219226]\n",
      " [0.81262096 0.61252607]\n",
      " [0.72175532 0.29187607]\n",
      " [0.16911084 0.08833981]\n",
      " [0.68535982 0.95339335]\n",
      " [0.00394827 0.51219226]\n",
      " [0.81262096 0.61252607]\n",
      " [0.72175532 0.29187607]]\n",
      "[0.77132064 0.77132064 0.77132064 0.77132064 0.77132064 0.63364823\n",
      " 0.63364823 0.63364823 0.63364823 0.63364823 0.49850701 0.49850701\n",
      " 0.49850701 0.49850701 0.49850701 0.19806286 0.19806286 0.19806286\n",
      " 0.19806286 0.19806286]\n"
     ]
    }
   ],
   "source": [
    "print(p[rows.ravel()], end='\\n\\n')\n",
    "print(q[cols.ravel()])\n",
    "print(p[rows.ravel(),0])"
   ]
  },
  {
   "cell_type": "code",
   "execution_count": 14,
   "metadata": {},
   "outputs": [],
   "source": [
    "def with_indices(p, q):\n",
    "    ''' \n",
    "        naive\n",
    "        Returns the euclidean distances between points in two arrays\n",
    "        Uses a faster method using array indexing\n",
    "        \n",
    "        INPUTS\n",
    "        p: An m by 2 array representing 2 dimensional points in R^m\n",
    "        q: An m by 2 array representing 2 dimensional points in R^m\n",
    "        \n",
    "        OUTPUTS\n",
    "        d: A p by q array representing the euclidean distances between two points in p and q\n",
    "    '''\n",
    "    rows, cols = np.indices((p.shape[0], q.shape[0])) # get a row-col representation of p and q\n",
    "    d = np.sqrt((p[rows.ravel(),0]-q[cols.ravel(),0])**2+(p[rows.ravel(),1]-q[cols.ravel(),1])**2) # compute the distances\n",
    "    d.reshape([p.shape[0],q.shape[0]]) # reshape d into a p by a matrix\n",
    "    return d"
   ]
  },
  {
   "cell_type": "code",
   "execution_count": 104,
   "metadata": {},
   "outputs": [
    {
     "data": {
      "text/plain": [
       "array([0.60599073, 0.93659449, 0.91124856, 0.59321356, 0.27561751,\n",
       "       0.80746999, 0.21102354, 0.67268649, 0.22495084, 0.46534491,\n",
       "       0.35654215, 0.75217493, 0.57200052, 0.49900068, 0.23310825,\n",
       "       0.67281411, 0.52407472, 0.31520226, 0.63212897, 0.70277376])"
      ]
     },
     "execution_count": 104,
     "metadata": {},
     "output_type": "execute_result"
    }
   ],
   "source": [
    "with_indices(p,q)"
   ]
  },
  {
   "cell_type": "markdown",
   "metadata": {},
   "source": [
    "### Use a library\n",
    "\n",
    "`scipy` is the equivalent of matlab toolboxes and have a lot to offer. Actually the pairwise computation is part of the library through the `spatial` module."
   ]
  },
  {
   "cell_type": "code",
   "execution_count": 15,
   "metadata": {},
   "outputs": [],
   "source": [
    "from scipy.spatial.distance import cdist\n",
    "\n",
    "def scipy_version(p, q):\n",
    "    return cdist(p, q)"
   ]
  },
  {
   "cell_type": "markdown",
   "metadata": {},
   "source": [
    "### Numpy Magic"
   ]
  },
  {
   "cell_type": "code",
   "execution_count": 16,
   "metadata": {},
   "outputs": [],
   "source": [
    "def tensor_broadcasting(p, q):\n",
    "    return np.sqrt(np.sum((p[:,np.newaxis,:]-q[np.newaxis,:,:])**2, axis=2))"
   ]
  },
  {
   "cell_type": "markdown",
   "metadata": {},
   "source": [
    "# Compare methods"
   ]
  },
  {
   "cell_type": "code",
   "execution_count": 18,
   "metadata": {},
   "outputs": [
    {
     "name": "stdout",
     "output_type": "stream",
     "text": [
      "105 ms ± 29 ms per loop (mean ± std. dev. of 7 runs, 10 loops each)\n",
      "192 ms ± 8.45 ms per loop (mean ± std. dev. of 7 runs, 1 loop each)\n",
      "412 µs ± 22.6 µs per loop (mean ± std. dev. of 7 runs, 1000 loops each)\n",
      "1.55 ms ± 86.4 µs per loop (mean ± std. dev. of 7 runs, 1000 loops each)\n",
      "14.8 ms ± 856 µs per loop (mean ± std. dev. of 7 runs, 100 loops each)\n"
     ]
    }
   ],
   "source": [
    "methods = [naive, improved_naive, with_indices, scipy_version, tensor_broadcasting]\n",
    "timers = []\n",
    "for f in methods:\n",
    "    r = %timeit -o f(p_big, q_big)\n",
    "    timers.append(r)"
   ]
  },
  {
   "cell_type": "code",
   "execution_count": 19,
   "metadata": {},
   "outputs": [
    {
     "data": {
      "image/png": "[encoded data removed]",
      "text/plain": [
       "<Figure size 720x432 with 1 Axes>"
      ]
     },
     "metadata": {
      "needs_background": "light"
     },
     "output_type": "display_data"
    }
   ],
   "source": [
    "plt.figure(figsize=(10,6))\n",
    "plt.bar(np.arange(len(methods)), [r.best*1000 for r in timers], log=False)  # Set log to True for logarithmic scale\n",
    "plt.xticks(np.arange(len(methods))+0.2, [f.__name__ for f in methods], rotation=30)\n",
    "plt.xlabel('Method')\n",
    "plt.ylabel('Time (ms)')\n",
    "plt.show()"
   ]
  },
  {
   "cell_type": "code",
   "execution_count": null,
   "metadata": {
    "collapsed": true
   },
   "outputs": [],
   "source": []
  }
 ],
 "metadata": {
  "kernelspec": {
   "display_name": "Python 3",
   "language": "python",
   "name": "python3"
  },
  "language_info": {
   "codemirror_mode": {
    "name": "ipython",
    "version": 3
   },
   "file_extension": ".py",
   "mimetype": "text/x-python",
   "name": "python",
   "nbconvert_exporter": "python",
   "pygments_lexer": "ipython3",
   "version": "3.8.3"
  }
 },
 "nbformat": 4,
 "nbformat_minor": 1
}
