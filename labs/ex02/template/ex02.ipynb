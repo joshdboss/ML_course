{
 "cells": [
  {
   "cell_type": "code",
   "execution_count": 2,
   "metadata": {
    "colab": {},
    "colab_type": "code",
    "id": "E36Dmb944R4f"
   },
   "outputs": [],
   "source": [
    "# Useful starting lines\n",
    "%matplotlib inline\n",
    "import numpy as np\n",
    "import matplotlib.pyplot as plt\n",
    "%load_ext autoreload\n",
    "%autoreload 2"
   ]
  },
  {
   "cell_type": "code",
   "execution_count": 3,
   "metadata": {
    "colab": {},
    "colab_type": "code",
    "id": "n9wTXLa64WaB"
   },
   "outputs": [
    {
     "ename": "ModuleNotFoundError",
     "evalue": "No module named 'google'",
     "output_type": "error",
     "traceback": [
      "\u001b[1;31m---------------------------------------------------------------------------\u001b[0m",
      "\u001b[1;31mModuleNotFoundError\u001b[0m                       Traceback (most recent call last)",
      "\u001b[1;32m<ipython-input-3-d5df0069828e>\u001b[0m in \u001b[0;36m<module>\u001b[1;34m\u001b[0m\n\u001b[1;32m----> 1\u001b[1;33m \u001b[1;32mfrom\u001b[0m \u001b[0mgoogle\u001b[0m\u001b[1;33m.\u001b[0m\u001b[0mcolab\u001b[0m \u001b[1;32mimport\u001b[0m \u001b[0mdrive\u001b[0m\u001b[1;33m\u001b[0m\u001b[1;33m\u001b[0m\u001b[0m\n\u001b[0m\u001b[0;32m      2\u001b[0m \u001b[0mdrive\u001b[0m\u001b[1;33m.\u001b[0m\u001b[0mmount\u001b[0m\u001b[1;33m(\u001b[0m\u001b[1;34m'/content/drive'\u001b[0m\u001b[1;33m)\u001b[0m\u001b[1;33m\u001b[0m\u001b[1;33m\u001b[0m\u001b[0m\n",
      "\u001b[1;31mModuleNotFoundError\u001b[0m: No module named 'google'"
     ]
    }
   ],
   "source": [
    "from google.colab import drive\n",
    "drive.mount('/content/drive')"
   ]
  },
  {
   "cell_type": "markdown",
   "metadata": {
    "colab_type": "text",
    "id": "XF4whlJ24R4l"
   },
   "source": [
    "# Load the data"
   ]
  },
  {
   "cell_type": "code",
   "execution_count": 3,
   "metadata": {
    "colab": {},
    "colab_type": "code",
    "id": "7527Di4P4R4m"
   },
   "outputs": [],
   "source": [
    "import datetime\n",
    "from helpers import *\n",
    "\n",
    "height, weight, gender = load_data(sub_sample=False, add_outlier=False)\n",
    "x, mean_x, std_x = standardize(height)\n",
    "y, tx = build_model_data(x, weight)"
   ]
  },
  {
   "cell_type": "markdown",
   "metadata": {
    "colab_type": "text",
    "id": "NXJdtBJY4R42"
   },
   "source": [
    "# 1 Computing the Cost Function"
   ]
  },
  {
   "cell_type": "markdown",
   "metadata": {
    "colab_type": "text",
    "id": "2btbowMg4R43"
   },
   "source": [
    "Fill in the `compute_loss` function below:\n",
    "<a id='compute_loss'></a>\n"
   ]
  },
  {
   "cell_type": "code",
   "execution_count": 4,
   "metadata": {
    "colab": {},
    "colab_type": "code",
    "id": "ATTGqHEo4R43"
   },
   "outputs": [],
   "source": [
    "def compute_loss_mse(y, tx, w):\n",
    "    \"\"\" COMPUTE_LOSS_MSE\n",
    "        Calculates the loss of a dataset using MSE.\n",
    "\n",
    "        INPUTS:\n",
    "        y: an Nx1 array of the output variable\n",
    "        tx: an Nxd array of the input variable\n",
    "        w: a dx1 array of the model\n",
    "\n",
    "        OUTPUTS:\n",
    "        A scalar of the mean square error of the model applied on the dataset\n",
    "    \"\"\"\n",
    "    return sum((y - tx @ w)**2)/len(y)\n",
    "\n",
    "def compute_loss_mae(y, tx, w):\n",
    "    \"\"\" COMPUTE_LOSS_MAE\n",
    "        Calculates the loss of a dataset using MAE.\n",
    "\n",
    "        INPUTS:\n",
    "        y: an Nx1 array of the output variable\n",
    "        tx: an Nxd array of the input variable\n",
    "        w: a dx1 array of the model\n",
    "\n",
    "        OUTPUTS:\n",
    "        A scalar of the mean square error of the model applied on the dataset\n",
    "    \"\"\"\n",
    "    return sum(np.abs(y-tx @ w))/len(y)\n",
    "\n",
    "def compute_loss(y, tx, w, method=\"mse\"):\n",
    "    \"\"\" COMPUTE_LOSS Computes loss of a dataset\n",
    "        Calculates the loss of a dataset using MSE or MAE.\n",
    "        Defaults to using MSE if nothing is specified, or if an invalid method is chosen.\n",
    "\n",
    "        INPUTS:\n",
    "        y: an Nx1 array of the output variable\n",
    "        tx: an Nxd array of the input variable\n",
    "        w: a dx1 array of the model\n",
    "\n",
    "        OUTPUTS:\n",
    "        A scalar of the mean square error of the model applied on the dataset\n",
    "    \"\"\"\n",
    "    if (method==\"mae\"): # return loss of mae function\n",
    "        return sum(np.abs(y-tx @ w))/len(y)\n",
    "    elif (method==\"mse\"): # return loss of mse function\n",
    "        return sum((y - tx @ w)**2)/len(y)\n",
    "    else:\n",
    "        print(\"Incorrect method chosen for compute_loss function. Defaulting to MSE\") # change to warnings.warn when library added\n",
    "        return sum((y - tx @ w)**2)/len(y)"
   ]
  },
  {
   "cell_type": "code",
   "execution_count": 5,
   "metadata": {},
   "outputs": [
    {
     "ename": "NameError",
     "evalue": "name 'w' is not defined",
     "output_type": "error",
     "traceback": [
      "\u001b[1;31m---------------------------------------------------------------------------\u001b[0m",
      "\u001b[1;31mNameError\u001b[0m                                 Traceback (most recent call last)",
      "\u001b[1;32m<ipython-input-5-ba4c5fe71a6c>\u001b[0m in \u001b[0;36m<module>\u001b[1;34m\u001b[0m\n\u001b[1;32m----> 1\u001b[1;33m \u001b[0mcompute_loss\u001b[0m\u001b[1;33m(\u001b[0m\u001b[0my\u001b[0m\u001b[1;33m,\u001b[0m\u001b[0mtx\u001b[0m\u001b[1;33m,\u001b[0m\u001b[0mw\u001b[0m\u001b[1;33m,\u001b[0m\u001b[0mmethod\u001b[0m\u001b[1;33m=\u001b[0m\u001b[1;34m'msda'\u001b[0m\u001b[1;33m)\u001b[0m\u001b[1;33m\u001b[0m\u001b[1;33m\u001b[0m\u001b[0m\n\u001b[0m",
      "\u001b[1;31mNameError\u001b[0m: name 'w' is not defined"
     ]
    }
   ],
   "source": [
    "compute_loss(y,tx,w,method='msda')"
   ]
  },
  {
   "cell_type": "markdown",
   "metadata": {
    "colab_type": "text",
    "id": "j3KXEKjn4R4_"
   },
   "source": [
    "# 2 Grid Search\n",
    "\n",
    "Fill in the function `grid_search()` below:"
   ]
  },
  {
   "cell_type": "code",
   "execution_count": 6,
   "metadata": {
    "colab": {},
    "colab_type": "code",
    "id": "rzb791fV4R5A"
   },
   "outputs": [],
   "source": [
    "def grid_search(y, tx, w0, w1):\n",
    "    \"\"\" GRID_SEARCH\n",
    "        Performs a naive grid search of parameters w0 and w1 as a model\n",
    "        for the output variable y\n",
    "\n",
    "        INPUTS:\n",
    "        y: an Nx1 array of the output variable\n",
    "        tx: an Nxd array of the input variable\n",
    "        w0: An m-dimensional array of the first elements (offset) of the model\n",
    "        w1: An n-dimensional array of the second elements of the model\n",
    "\n",
    "        OUTPUTS:\n",
    "        An m by n array of the costs for each of the combinations of w0 and w1\n",
    "    \"\"\"\n",
    "    losses = np.zeros((len(w0), len(w1)))\n",
    "\n",
    "    for i in range(0,len(w0)):\n",
    "        for j in range(0,len(w1)):\n",
    "            losses[i,j] = compute_loss_mse(y, tx, np.array([w0[i],w1[j]]).T)\n",
    "    return losses"
   ]
  },
  {
   "cell_type": "markdown",
   "metadata": {
    "colab_type": "text",
    "id": "e_GZwB_D4R5H"
   },
   "source": [
    "Let us play with the grid search demo now!"
   ]
  },
  {
   "cell_type": "code",
   "execution_count": 7,
   "metadata": {
    "colab": {
     "base_uri": "https://localhost:8080/",
     "height": 411
    },
    "colab_type": "code",
    "id": "i7g_B5Z84R5I",
    "outputId": "dcd81131-72e2-48ec-cc89-f848b4282ae0"
   },
   "outputs": [
    {
     "name": "stdout",
     "output_type": "stream",
     "text": [
      "Grid Search: loss*=84.84896629356506, w0*=66.66666666666669, w1*=16.666666666666686, execution time=0.662 seconds\n"
     ]
    },
    {
     "data": {
      "image/png": "[encoded data removed]",
      "text/plain": [
       "<Figure size 720x432 with 3 Axes>"
      ]
     },
     "metadata": {
      "needs_background": "light"
     },
     "output_type": "display_data"
    }
   ],
   "source": [
    "from grid_search import generate_w, get_best_parameters\n",
    "from plots import grid_visualization\n",
    "\n",
    "# Generate the grid of parameters to be swept\n",
    "grid_w0, grid_w1 = generate_w(num_intervals=10)\n",
    "\n",
    "# Start the grid search\n",
    "start_time = datetime.datetime.now()\n",
    "grid_losses = grid_search(y, tx, grid_w0, grid_w1)\n",
    "\n",
    "# Select the best combinaison\n",
    "loss_star, w0_star, w1_star = get_best_parameters(grid_w0, grid_w1, grid_losses)\n",
    "end_time = datetime.datetime.now()\n",
    "execution_time = (end_time - start_time).total_seconds()\n",
    "\n",
    "# Print the results\n",
    "print(\"Grid Search: loss*={l}, w0*={w0}, w1*={w1}, execution time={t:.3f} seconds\".format(\n",
    "      l=loss_star, w0=w0_star, w1=w1_star, t=execution_time))\n",
    "\n",
    "# Plot the results\n",
    "fig = grid_visualization(grid_losses, grid_w0, grid_w1, mean_x, std_x, height, weight)\n",
    "fig.set_size_inches(10.0,6.0)\n",
    "fig.savefig(\"grid_plot\")  # Optional saving"
   ]
  },
  {
   "cell_type": "markdown",
   "metadata": {
    "colab_type": "text",
    "id": "ZW0nvsT24R5U"
   },
   "source": [
    "# 3 Gradient Descent"
   ]
  },
  {
   "cell_type": "markdown",
   "metadata": {
    "colab_type": "text",
    "id": "4NRoTLnQ4R5V"
   },
   "source": [
    "Again, please fill in the functions `compute_gradient` below:"
   ]
  },
  {
   "cell_type": "code",
   "execution_count": 8,
   "metadata": {
    "colab": {},
    "colab_type": "code",
    "id": "fiK6_zCU4R5W"
   },
   "outputs": [],
   "source": [
    "def compute_gradient_mse(y, tx, w):\n",
    "    \"\"\" COMPUTE_GRADIENT\n",
    "        Computes the gradient of the MSE of a model applied on a set\n",
    "\n",
    "        INPUTS:\n",
    "        y: an Nx1 array of the output variable\n",
    "        tx: an Nxd array of the input variable\n",
    "        w: a dx1 array of the model\n",
    "\n",
    "        OUTPUTS:\n",
    "        A dx1 array of the gradient \n",
    "    \"\"\"\n",
    "    return -1/len(y) * tx.T @ (y - tx @ w)\n",
    "\n",
    "def compute_gradient_mae(y, tx, w):\n",
    "    \"\"\" COMPUTE_GRADIENT\n",
    "        Computes the gradient of the MAE of a model applied on a set\n",
    "\n",
    "        INPUTS:\n",
    "        y: an Nx1 array of the output variable\n",
    "        tx: an Nxd array of the input variable\n",
    "        w: a dx1 array of the model\n",
    "\n",
    "        OUTPUTS:\n",
    "        A dx1 array of the gradient \n",
    "    \"\"\"\n",
    "    return -1/len(y) * np.sign(y - tx @ w) @ tx\n",
    "\n",
    "def compute_gradient(y, tx, w, method='mse'):\n",
    "    \"\"\" COMPUTE_GRADIENT\n",
    "        Computes the gradient of a model applied on a set using MSE or MAE.\n",
    "        Defaults to using MSE if nothing is specified, or if an invalid method is chosen\n",
    "\n",
    "        INPUTS:\n",
    "        y: an Nx1 array of the output variable\n",
    "        tx: an Nxd array of the input variable\n",
    "        w: a dx1 array of the model\n",
    "\n",
    "        OUTPUTS:\n",
    "        A dx1 array of the gradient \n",
    "    \"\"\"\n",
    "    \n",
    "    if (method=='mae'): # return gradient of mae function\n",
    "        return -1/len(y) * np.sign(y - tx @ w) @ tx\n",
    "    elif (method=='mse'): # return loss of mse function\n",
    "        return -1/len(y) * tx.T @ (y - tx @ w)\n",
    "    else:\n",
    "        print(\"Incorrect method chosen for compute_loss function. Defaulting to MSE\") # change to warnings.warn when library added\n",
    "        return -1/len(y) * tx.T @ (y - tx @ w)"
   ]
  },
  {
   "cell_type": "code",
   "execution_count": 93,
   "metadata": {},
   "outputs": [
    {
     "data": {
      "text/plain": [
       "array([-0.10891089, -0.79136429])"
      ]
     },
     "execution_count": 93,
     "metadata": {},
     "output_type": "execute_result"
    }
   ],
   "source": [
    "compute_gradient_mae(y, tx, w)"
   ]
  },
  {
   "cell_type": "code",
   "execution_count": 9,
   "metadata": {
    "colab": {
     "base_uri": "https://localhost:8080/",
     "height": 34
    },
    "colab_type": "code",
    "id": "TOJHAhP6Wigz",
    "outputId": "9498bc20-71a3-48d8-a886-634029b4d510"
   },
   "outputs": [
    {
     "name": "stdout",
     "output_type": "stream",
     "text": [
      "Gradient 1: [26.706078    6.52028757], Gradient 2: [-23.293922    -3.47971243]\n"
     ]
    }
   ],
   "source": [
    "w_test1 = np.array([100,20]).T\n",
    "w_test2 = np.array([50,10]).T\n",
    "grad1 = compute_gradient_mse(y,tx,w_test1)\n",
    "grad2 = compute_gradient_mse(y,tx,w_test2)\n",
    "print('Gradient 1: %s, Gradient 2: %s' % (grad1, grad2))"
   ]
  },
  {
   "cell_type": "markdown",
   "metadata": {
    "colab_type": "text",
    "id": "0X2vycdv4R5c"
   },
   "source": [
    "Please fill in the functions `gradient_descent` below:"
   ]
  },
  {
   "cell_type": "code",
   "execution_count": 10,
   "metadata": {
    "colab": {},
    "colab_type": "code",
    "id": "3AJG0jwz4R5e"
   },
   "outputs": [],
   "source": [
    "def gradient_descent_mse(y, tx, initial_w, max_iters, gamma):\n",
    "    \"\"\" GRADIENT_DESCENT\n",
    "        Iterates and finds the best model using gradient descent and MSE\n",
    "\n",
    "        INPUTS:\n",
    "        y: an Nx1 array of the output variable\n",
    "        tx: an Nxd array of the input variable\n",
    "        initial_w: a dx1 array of the initial model to use\n",
    "        max_iters: a scalar representing the maximum number of iterations\n",
    "        gamma: a scalar representing the step size/learning rate\n",
    "\n",
    "        OUTPUTS:\n",
    "        losses: a max_iters dimensional array representing losses for iterations\n",
    "        ws: a max_iters dimensional array representing models over iterations\n",
    "    \"\"\"\n",
    "    # Define parameters to store w and loss\n",
    "    ws = [initial_w]\n",
    "    losses = []\n",
    "    w = initial_w\n",
    "    for n_iter in range(max_iters):\n",
    "        # compute the gradient and loss given the current w\n",
    "        grad = compute_gradient_mse(y, tx, w)\n",
    "        loss = compute_loss_mse(y, tx, w)\n",
    "        # update w by gradient descent\n",
    "        w = w - gamma*grad\n",
    "        # store w and loss\n",
    "        ws.append(w)\n",
    "        losses.append(loss)\n",
    "        print(\"Gradient Descent({bi}/{ti}): loss={l}, w0={w0}, w1={w1}\".format(\n",
    "              bi=n_iter, ti=max_iters - 1, l=loss, w0=w[0], w1=w[1]))\n",
    "\n",
    "    return losses, ws\n",
    "\n",
    "def gradient_descent_mae(y, tx, initial_w, max_iters, gamma):\n",
    "    \"\"\" GRADIENT_DESCENT\n",
    "        Iterates and finds the best model using gradient descent and MAE\n",
    "\n",
    "        INPUTS:\n",
    "        y: an Nx1 array of the output variable\n",
    "        tx: an Nxd array of the input variable\n",
    "        initial_w: a dx1 array of the initial model to use\n",
    "        max_iters: a scalar representing the maximum number of iterations\n",
    "        gamma: a scalar representing the step size/learning rate\n",
    "\n",
    "        OUTPUTS:\n",
    "        losses: a max_iters dimensional array representing losses for iterations\n",
    "        ws: a max_iters dimensional array representing models over iterations\n",
    "    \"\"\"\n",
    "    # Define parameters to store w and loss\n",
    "    ws = [initial_w]\n",
    "    losses = []\n",
    "    w = initial_w\n",
    "    for n_iter in range(max_iters):\n",
    "        # compute the gradient and loss given the current w\n",
    "        grad = compute_gradient_mae(y, tx, w)\n",
    "        loss = compute_loss_mae(y, tx, w)\n",
    "        # update w by gradient descent\n",
    "        w = w - gamma*grad\n",
    "        # store w and loss\n",
    "        ws.append(w)\n",
    "        losses.append(loss)\n",
    "        print(\"Gradient Descent({bi}/{ti}): loss={l}, w0={w0}, w1={w1}\".format(\n",
    "              bi=n_iter, ti=max_iters - 1, l=loss, w0=w[0], w1=w[1]))\n",
    "\n",
    "    return losses, ws\n",
    "\n",
    "def gradient_descent(y, tx, initial_w, max_iters, gamma, method='mse'):\n",
    "    \"\"\" GRADIENT_DESCENT Finds best model using gradient descent\n",
    "        Iterates and finds the best model using gradient descent.\n",
    "        Uses MSE or MAE, defaulting to MSE if nothing specified or wrong method given.\n",
    "\n",
    "        INPUTS:\n",
    "        y: an Nx1 array of the output variable\n",
    "        tx: an Nxd array of the input variable\n",
    "        initial_w: a dx1 array of the initial model to use\n",
    "        max_iters: a scalar representing the maximum number of iterations\n",
    "        gamma: a scalar representing the step size/learning rate\n",
    "\n",
    "        OUTPUTS:\n",
    "        losses: a max_iters dimensional array representing losses for iterations\n",
    "        ws: a max_iters dimensional array representing models over iterations\n",
    "    \"\"\"\n",
    "    \n",
    "    # Define parameters to store w and loss\n",
    "    ws = [initial_w]\n",
    "    losses = []\n",
    "    w = initial_w\n",
    "    \n",
    "    if not method:\n",
    "        method = 'mse'\n",
    "    \n",
    "    for n_iter in range(max_iters):\n",
    "        # compute the gradient and loss given the current w\n",
    "        grad = compute_gradient(y, tx, w, method)\n",
    "        loss = compute_loss(y, tx, w, method)\n",
    "        # update w by gradient descent\n",
    "        w = w - gamma*grad\n",
    "        # store w and loss\n",
    "        ws.append(w)\n",
    "        losses.append(loss)\n",
    "        print(\"Gradient Descent {method}({bi}/{ti}): loss={l}, w0={w0}, w1={w1}\".format(\n",
    "              method=method, bi=n_iter, ti=max_iters - 1, l=loss, w0=w[0], w1=w[1]))\n",
    "            \n",
    "    return losses, ws"
   ]
  },
  {
   "cell_type": "markdown",
   "metadata": {
    "colab_type": "text",
    "id": "Hj4doDiP4R5j"
   },
   "source": [
    "Test your gradient descent function through gradient descent demo shown below:"
   ]
  },
  {
   "cell_type": "code",
   "execution_count": 13,
   "metadata": {
    "colab": {
     "base_uri": "https://localhost:8080/",
     "height": 874
    },
    "colab_type": "code",
    "id": "vTWfRSeX4R5l",
    "outputId": "a5c9bd49-6e76-4f01-9722-712c2b378fa0"
   },
   "outputs": [
    {
     "name": "stdout",
     "output_type": "stream",
     "text": [
      "Gradient Descent mae(0/49): loss=73.29392200210475, w0=0.6999999999999457, w1=-1.6708856520608605e-15\n",
      "Gradient Descent mae(1/49): loss=72.59392200210573, w0=1.3999999999998913, w1=-3.341771304121721e-15\n",
      "Gradient Descent mae(2/49): loss=71.89392200210521, w0=2.099999999999837, w1=-5.012656956182582e-15\n",
      "Gradient Descent mae(3/49): loss=71.19392200210541, w0=2.7999999999997827, w1=-6.683542608243442e-15\n",
      "Gradient Descent mae(4/49): loss=70.49392200210544, w0=3.499999999999728, w1=-8.354428260304303e-15\n",
      "Gradient Descent mae(5/49): loss=69.79392200210495, w0=4.199999999999674, w1=-1.0025313912365163e-14\n",
      "Gradient Descent mae(6/49): loss=69.09392200210587, w0=4.89999999999962, w1=-1.1696199564426024e-14\n",
      "Gradient Descent mae(7/49): loss=68.39392200210568, w0=5.599999999999566, w1=-1.3367085216486884e-14\n",
      "Gradient Descent mae(8/49): loss=67.69392200210594, w0=6.299999999999512, w1=-1.5037970868547744e-14\n",
      "Gradient Descent mae(9/49): loss=66.9939220021058, w0=6.999999999999458, w1=-1.6708856520608606e-14\n",
      "Gradient Descent mae(10/49): loss=66.29392200210525, w0=7.699999999999404, w1=-1.8379742172669468e-14\n",
      "Gradient Descent mae(11/49): loss=65.59392200210613, w0=8.39999999999935, w1=-2.005062782473033e-14\n",
      "Gradient Descent mae(12/49): loss=64.89392200210567, w0=9.099999999999296, w1=-2.172151347679119e-14\n",
      "Gradient Descent mae(13/49): loss=64.19392200210612, w0=9.799999999999242, w1=-2.3392399128852053e-14\n",
      "Gradient Descent mae(14/49): loss=63.49392200210603, w0=10.499999999999188, w1=-2.5063284780912915e-14\n",
      "Gradient Descent mae(15/49): loss=62.79392200210559, w0=11.199999999999134, w1=-2.6734170432973777e-14\n",
      "Gradient Descent mae(16/49): loss=62.09392200210617, w0=11.89999999999908, w1=-2.840505608503464e-14\n",
      "Gradient Descent mae(17/49): loss=61.3939220021061, w0=12.599999999999026, w1=-3.00759417370955e-14\n",
      "Gradient Descent mae(18/49): loss=60.69392200210653, w0=13.299999999998972, w1=-3.174682738915636e-14\n",
      "Gradient Descent mae(19/49): loss=59.99392200210616, w0=13.999999999998918, w1=-3.3417713041217224e-14\n",
      "Gradient Descent mae(20/49): loss=59.29392200210602, w0=14.699999999998864, w1=-3.5088598693278086e-14\n",
      "Gradient Descent mae(21/49): loss=58.5939220021064, w0=15.39999999999881, w1=-3.675948434533895e-14\n",
      "Gradient Descent mae(22/49): loss=57.89392200210629, w0=16.099999999998754, w1=-3.843036999739981e-14\n",
      "Gradient Descent mae(23/49): loss=57.193922002106625, w0=16.7999999999987, w1=-4.010125564946067e-14\n",
      "Gradient Descent mae(24/49): loss=56.49392200210636, w0=17.499999999998646, w1=-4.1772141301521534e-14\n",
      "Gradient Descent mae(25/49): loss=55.79392200210646, w0=18.199999999998592, w1=-4.3443026953582396e-14\n",
      "Gradient Descent mae(26/49): loss=55.09392200210664, w0=18.89999999999854, w1=-4.511391260564326e-14\n",
      "Gradient Descent mae(27/49): loss=54.39392200210681, w0=19.599999999998484, w1=-4.678479825770412e-14\n",
      "Gradient Descent mae(28/49): loss=53.69392200210679, w0=20.29999999999843, w1=-4.845568390976498e-14\n",
      "Gradient Descent mae(29/49): loss=52.9939220021064, w0=20.999999999998376, w1=-5.012656956182584e-14\n",
      "Gradient Descent mae(30/49): loss=52.293922002106754, w0=21.699999999998322, w1=-5.1797455213886705e-14\n",
      "Gradient Descent mae(31/49): loss=51.59392200210675, w0=22.39999999999827, w1=-5.3468340865947567e-14\n",
      "Gradient Descent mae(32/49): loss=50.89392200210721, w0=23.099999999998214, w1=-5.513922651800843e-14\n",
      "Gradient Descent mae(33/49): loss=50.19392200210711, w0=23.79999999999816, w1=-5.681011217006929e-14\n",
      "Gradient Descent mae(34/49): loss=49.49392200210663, w0=24.499999999998106, w1=-5.848099782213015e-14\n",
      "Gradient Descent mae(35/49): loss=48.79392200210704, w0=25.199999999998052, w1=-6.0151883474191e-14\n",
      "Gradient Descent mae(36/49): loss=48.09392200210707, w0=25.899999999998, w1=-6.182276912625186e-14\n",
      "Gradient Descent mae(37/49): loss=47.39392200210753, w0=26.599999999997944, w1=-6.349365477831271e-14\n",
      "Gradient Descent mae(38/49): loss=46.693922002107385, w0=27.29999999999789, w1=-6.516454043037357e-14\n",
      "Gradient Descent mae(39/49): loss=45.99392200210691, w0=27.999999999997836, w1=-6.683542608243442e-14\n",
      "Gradient Descent mae(40/49): loss=45.29392200210729, w0=28.699999999997782, w1=-6.850631173449528e-14\n",
      "Gradient Descent mae(41/49): loss=44.59392200210737, w0=29.39999999999773, w1=-7.017719738655613e-14\n",
      "Gradient Descent mae(42/49): loss=43.89392723060227, w0=30.099859999997673, w1=0.0004404657702370806\n",
      "Gradient Descent mae(43/49): loss=43.19420692544463, w0=30.799719999997617, w1=0.0008809315405443384\n",
      "Gradient Descent mae(44/49): loss=42.49448662028755, w0=31.49957999999756, w1=0.0013213973108515962\n",
      "Gradient Descent mae(45/49): loss=41.79480188244229, w0=32.19929999999751, w1=0.0021512000587982916\n",
      "Gradient Descent mae(46/49): loss=41.09536078676751, w0=32.89901999999745, w1=0.0029810028067449867\n",
      "Gradient Descent mae(47/49): loss=40.3960151217647, w0=33.5985999999974, w1=0.004238399708366919\n",
      "Gradient Descent mae(48/49): loss=39.69696463183938, w0=34.29803999999734, w1=0.005823822408786189\n",
      "Gradient Descent mae(49/49): loss=38.99808059303208, w0=34.99747999999729, w1=0.007409245109205459\n",
      "Gradient Descent: execution time=0.287 seconds\n"
     ]
    }
   ],
   "source": [
    "# from gradient_descent import *\n",
    "from plots import gradient_descent_visualization\n",
    "\n",
    "# Define the parameters of the algorithm.\n",
    "max_iters = 50\n",
    "gamma = 0.7\n",
    "\n",
    "# Initialization\n",
    "w_initial = np.array([0,0])\n",
    "\n",
    "# Start gradient descent.\n",
    "start_time = datetime.datetime.now()\n",
    "gradient_losses, gradient_ws = gradient_descent(y, tx, w_initial, max_iters, gamma,'mae')\n",
    "end_time = datetime.datetime.now()\n",
    "\n",
    "# Print result\n",
    "exection_time = (end_time - start_time).total_seconds()\n",
    "print(\"Gradient Descent: execution time={t:.3f} seconds\".format(t=exection_time))"
   ]
  },
  {
   "cell_type": "code",
   "execution_count": 14,
   "metadata": {
    "colab": {
     "base_uri": "https://localhost:8080/",
     "height": 443,
     "referenced_widgets": [
      "34087f8c5e6644eebd74b6b0604ac1d4",
      "c26c784f79e049f78d190f7ce569ccc5",
      "1c19f6cf3b1b4d17af410a43d876e838",
      "762e37be70c946ebac27cd053e3187c9",
      "4727775060a248cbaabb446340a4a211",
      "25439517258f43088e1339f712ccec52",
      "d5030c42c8244ce7b8bad7cd6e248296"
     ]
    },
    "colab_type": "code",
    "id": "DYioIvuC4R5r",
    "outputId": "6f3c0e88-2de5-488f-c4bd-bc1d40a75f20"
   },
   "outputs": [
    {
     "data": {
      "application/vnd.jupyter.widget-view+json": {
       "model_id": "fd47138cbc624057b04223067124eb83",
       "version_major": 2,
       "version_minor": 0
      },
      "text/plain": [
       "interactive(children=(IntSlider(value=1, description='n_iter', max=51, min=1), Output()), _dom_classes=('widge…"
      ]
     },
     "metadata": {},
     "output_type": "display_data"
    },
    {
     "data": {
      "text/plain": [
       "<function __main__.plot_figure(n_iter)>"
      ]
     },
     "execution_count": 14,
     "metadata": {},
     "output_type": "execute_result"
    }
   ],
   "source": [
    "# Time Visualization\n",
    "from ipywidgets import IntSlider, interact\n",
    "\n",
    "def plot_figure(n_iter):\n",
    "    fig = gradient_descent_visualization(\n",
    "        gradient_losses, gradient_ws, grid_losses, grid_w0, grid_w1, mean_x, std_x, height, weight, n_iter)\n",
    "    fig.set_size_inches(10.0, 6.0)\n",
    "\n",
    "interact(plot_figure, n_iter=IntSlider(min=1, max=len(gradient_ws)))"
   ]
  },
  {
   "cell_type": "markdown",
   "metadata": {
    "colab_type": "text",
    "id": "ynJ9e8454R5y"
   },
   "source": [
    "# 4 Stochastic gradient descent"
   ]
  },
  {
   "cell_type": "code",
   "execution_count": 71,
   "metadata": {
    "colab": {},
    "colab_type": "code",
    "id": "GRFTbKRC4R5z"
   },
   "outputs": [],
   "source": [
    "def compute_stoch_gradient(y, tx, w):\n",
    "    \"\"\" COMPUTE_STOCH_GRADIENT\n",
    "        Compute a stochastic gradient from just few examples n and\n",
    "        their corresponding y_n labels.\n",
    "    \"\"\"\n",
    "    return -1/len(y) * tx.T @ (y - tx @ w)\n",
    "\n",
    "\n",
    "def stochastic_gradient_descent_mse(\n",
    "        y, tx, initial_w, batch_size, max_iters, gamma):\n",
    "    \"\"\"Stochastic gradient descent algorithm.\"\"\"\n",
    "    data_size = len(y)\n",
    "    # Define parameters to store w and loss\n",
    "    ws = [initial_w]\n",
    "    losses = []\n",
    "    w = initial_w\n",
    "    for n_iter in range(max_iters):\n",
    "        # generate a batch dataset\n",
    "        shuffle_indices = np.random.permutation(np.arange(data_size))\n",
    "        batch_y = y[shuffle_indices < batch_size]\n",
    "        batch_tx = tx[shuffle_indices < batch_size]\n",
    "        # compute the gradient and loss given the current w\n",
    "        grad = compute_gradient_mse(batch_y, batch_tx, w)\n",
    "        loss = compute_loss_mse(batch_y, batch_tx, w)\n",
    "        # update w by gradient descent\n",
    "        w = w - gamma*grad\n",
    "        # store w and loss\n",
    "        ws.append(w)\n",
    "        losses.append(loss)\n",
    "        print(\"Stochastic gradient Descent({bi}/{ti}): loss={l}, w0={w0}, w1={w1}\".format(\n",
    "              bi=n_iter, ti=max_iters - 1, l=loss, w0=w[0], w1=w[1]))\n",
    "    return losses, ws\n",
    "\n",
    "def stochastic_gradient_descent_mae(\n",
    "        y, tx, initial_w, batch_size, max_iters, gamma):\n",
    "    \"\"\"Stochastic gradient descent algorithm.\"\"\"\n",
    "    data_size = len(y)\n",
    "    # Define parameters to store w and loss\n",
    "    ws = [initial_w]\n",
    "    losses = []\n",
    "    w = initial_w\n",
    "    for n_iter in range(max_iters):\n",
    "        # generate a batch dataset\n",
    "        shuffle_indices = np.random.permutation(np.arange(data_size))\n",
    "        batch_y = y[shuffle_indices < batch_size]\n",
    "        batch_tx = tx[shuffle_indices < batch_size]\n",
    "        # compute the gradient and loss given the current w\n",
    "        grad = compute_gradient_mae(batch_y, batch_tx, w)\n",
    "        loss = compute_loss_mae(batch_y, batch_tx, w)\n",
    "        # update w by gradient descent\n",
    "        w = w - gamma*grad\n",
    "        # store w and loss\n",
    "        ws.append(w)\n",
    "        losses.append(loss)\n",
    "        print(\"Stochastic gradient Descent({bi}/{ti}): loss={l}, w0={w0}, w1={w1}\".format(\n",
    "              bi=n_iter, ti=max_iters - 1, l=loss, w0=w[0], w1=w[1]))\n",
    "    return losses, ws"
   ]
  },
  {
   "cell_type": "code",
   "execution_count": 18,
   "metadata": {
    "colab": {
     "base_uri": "https://localhost:8080/",
     "height": 874
    },
    "colab_type": "code",
    "id": "7jM-qrUm4R53",
    "outputId": "2ac85c23-5384-4796-a7c8-7bf00b6a40e7"
   },
   "outputs": [
    {
     "name": "stdout",
     "output_type": "stream",
     "text": [
      "Stochastic gradient Descent(0/49): loss=3848.1273951545745, w0=42.17638199529454, w1=-21.831320019004252\n",
      "Stochastic gradient Descent(1/49): loss=4445.5467876828425, w0=70.65863772818062, w1=35.25367623564381\n",
      "Stochastic gradient Descent(2/49): loss=445.6643382205046, w0=65.70132718313354, w1=19.47146690309242\n",
      "Stochastic gradient Descent(3/49): loss=135.4692037530904, w0=71.14348022193141, w1=15.064583275687871\n",
      "Stochastic gradient Descent(4/49): loss=35.874488722385934, w0=71.30754596426583, w1=13.942414240240502\n",
      "Stochastic gradient Descent(5/49): loss=39.87980159245835, w0=73.85417780464138, w1=15.747353086171167\n",
      "Stochastic gradient Descent(6/49): loss=24.15827941605895, w0=73.59001326601029, w1=13.20560120561304\n",
      "Stochastic gradient Descent(7/49): loss=23.30423380453672, w0=71.87780741885655, w1=14.972999186289961\n",
      "Stochastic gradient Descent(8/49): loss=45.29612894446459, w0=73.7188302060555, w1=11.750116262643678\n",
      "Stochastic gradient Descent(9/49): loss=31.134965917063123, w0=75.44897432754321, w1=13.355223232629923\n",
      "Stochastic gradient Descent(10/49): loss=50.45827559077166, w0=79.86467901525994, w1=14.343440560825977\n",
      "Stochastic gradient Descent(11/49): loss=70.47184304838063, w0=74.18958529390233, w1=16.313078012898135\n",
      "Stochastic gradient Descent(12/49): loss=24.597666133232405, w0=73.48652046291801, w1=15.177304427633047\n",
      "Stochastic gradient Descent(13/49): loss=7.746008962155374, w0=72.88154456758625, w1=15.959133376987513\n",
      "Stochastic gradient Descent(14/49): loss=44.157304427395324, w0=76.40051599872099, w1=14.709593011477565\n",
      "Stochastic gradient Descent(15/49): loss=21.627853276245265, w0=74.07243730207794, w1=13.978746684426639\n",
      "Stochastic gradient Descent(16/49): loss=76.12898227065874, w0=70.15475660012065, w1=11.631337651436397\n",
      "Stochastic gradient Descent(17/49): loss=79.96410611618282, w0=72.56627399166823, w1=7.744643436454584\n",
      "Stochastic gradient Descent(18/49): loss=46.31028707850878, w0=75.47303920089156, w1=8.217829293638653\n",
      "Stochastic gradient Descent(19/49): loss=32.89355399959142, w0=76.25708872367737, w1=9.807667928085214\n",
      "Stochastic gradient Descent(20/49): loss=8.363482870178437, w0=75.43838122813627, w1=9.361170612076194\n",
      "Stochastic gradient Descent(21/49): loss=23.482746388833935, w0=74.09760220884068, w1=9.598423921306408\n",
      "Stochastic gradient Descent(22/49): loss=33.59591383313403, w0=73.57017347709426, w1=11.094544889355985\n",
      "Stochastic gradient Descent(23/49): loss=74.87132886442399, w0=74.70429542753473, w1=12.904067914737634\n",
      "Stochastic gradient Descent(24/49): loss=50.69679715529876, w0=73.37957592595895, w1=11.175732713508802\n",
      "Stochastic gradient Descent(25/49): loss=25.795998350331967, w0=72.31149269824044, w1=12.675322726930602\n",
      "Stochastic gradient Descent(26/49): loss=16.892699951498457, w0=74.04714771330552, w1=15.166844392966981\n",
      "Stochastic gradient Descent(27/49): loss=109.50575685197973, w0=71.7795383205356, w1=15.647080606008755\n",
      "Stochastic gradient Descent(28/49): loss=71.84296766123946, w0=72.305432761702, w1=12.531663999853741\n",
      "Stochastic gradient Descent(29/49): loss=52.26249508174844, w0=74.05821827048995, w1=15.854660136575864\n",
      "Stochastic gradient Descent(30/49): loss=40.09413079870841, w0=73.57816814288019, w1=16.537700188053226\n",
      "Stochastic gradient Descent(31/49): loss=40.98344234327711, w0=71.65213549951731, w1=14.256282285142206\n",
      "Stochastic gradient Descent(32/49): loss=11.840077797423335, w0=71.13663182691842, w1=12.610508939365408\n",
      "Stochastic gradient Descent(33/49): loss=23.25033625484239, w0=68.44077634919606, w1=13.772439743036335\n",
      "Stochastic gradient Descent(34/49): loss=43.27119314395047, w0=71.53782239771088, w1=11.335609526710922\n",
      "Stochastic gradient Descent(35/49): loss=46.2187256822534, w0=71.15449299217885, w1=14.036900576577708\n",
      "Stochastic gradient Descent(36/49): loss=73.46291718102749, w0=73.51632193180693, w1=15.078878776066398\n",
      "Stochastic gradient Descent(37/49): loss=54.26911146916537, w0=73.94594288589866, w1=13.260090198215655\n",
      "Stochastic gradient Descent(38/49): loss=63.62246787729102, w0=74.9030748406088, w1=15.253777025300385\n",
      "Stochastic gradient Descent(39/49): loss=2.14511963081841, w0=75.48448999073031, w1=15.900106379244011\n",
      "Stochastic gradient Descent(40/49): loss=62.97771692809632, w0=75.02305638259692, w1=7.997285783063423\n",
      "Stochastic gradient Descent(41/49): loss=93.17525177725783, w0=75.61694942679172, w1=17.330921074242028\n",
      "Stochastic gradient Descent(42/49): loss=23.72494335627214, w0=73.7517981077268, w1=16.324021246752597\n",
      "Stochastic gradient Descent(43/49): loss=53.448190264832895, w0=70.66512125012045, w1=14.685405734776822\n",
      "Stochastic gradient Descent(44/49): loss=54.669793516175616, w0=73.47160806430126, w1=14.189019650197698\n",
      "Stochastic gradient Descent(45/49): loss=23.836644722768785, w0=74.01996734276497, w1=15.382610811948696\n",
      "Stochastic gradient Descent(46/49): loss=46.263760922464286, w0=71.79446021076762, w1=15.949980743301111\n",
      "Stochastic gradient Descent(47/49): loss=11.520034014683496, w0=71.23362135020513, w1=15.100569327834478\n",
      "Stochastic gradient Descent(48/49): loss=24.725921417262015, w0=71.84779808785215, w1=12.514167275235977\n",
      "Stochastic gradient Descent(49/49): loss=15.787343630814338, w0=73.51058233222606, w1=13.072758189861347\n",
      "SGD: execution time=0.040 seconds\n"
     ]
    }
   ],
   "source": [
    "# from stochastic_gradient_descent import *\n",
    "\n",
    "# Define the parameters of the algorithm.\n",
    "max_iters = 50\n",
    "gamma = 0.7\n",
    "batch_size = 5\n",
    "\n",
    "# Initialization\n",
    "w_initial = np.array([0, 0])\n",
    "\n",
    "# Start SGD.\n",
    "start_time = datetime.datetime.now()\n",
    "sgd_losses, sgd_ws = stochastic_gradient_descent_MSE(\n",
    "    y, tx, w_initial, batch_size, max_iters, gamma)\n",
    "end_time = datetime.datetime.now()\n",
    "\n",
    "# Print result\n",
    "exection_time = (end_time - start_time).total_seconds()\n",
    "print(\"SGD: execution time={t:.3f} seconds\".format(t=exection_time))"
   ]
  },
  {
   "cell_type": "code",
   "execution_count": 19,
   "metadata": {
    "colab": {
     "base_uri": "https://localhost:8080/",
     "height": 443,
     "referenced_widgets": [
      "6fa4786e0a6147938c00867b94c7a34b",
      "e5aa88b87f5f4c91a27a773672729c78",
      "a205d21a26f84251a113ba903e8c1fbc",
      "e83c9d9f7274469483e64962513f056a",
      "c9cec6f4a24e42348ddccaef7fbd4988",
      "33509e899e2e41df8d906a91a47f7bcc",
      "881c2236fddc4437a513230e48344cf1"
     ]
    },
    "colab_type": "code",
    "id": "K51ThNBM4R58",
    "outputId": "9b5cac04-f2b3-4f06-c3e1-917544a4c093"
   },
   "outputs": [
    {
     "data": {
      "application/vnd.jupyter.widget-view+json": {
       "model_id": "8f57767a217648c9a6de565387837d20",
       "version_major": 2,
       "version_minor": 0
      },
      "text/plain": [
       "interactive(children=(IntSlider(value=1, description='n_iter', max=51, min=1), Output()), _dom_classes=('widge…"
      ]
     },
     "metadata": {},
     "output_type": "display_data"
    },
    {
     "data": {
      "text/plain": [
       "<function __main__.plot_figure(n_iter)>"
      ]
     },
     "execution_count": 19,
     "metadata": {},
     "output_type": "execute_result"
    }
   ],
   "source": [
    "# Time Visualization\n",
    "from ipywidgets import IntSlider, interact\n",
    "def plot_figure(n_iter):\n",
    "    fig = gradient_descent_visualization(\n",
    "        sgd_losses, sgd_ws, grid_losses, grid_w0, grid_w1, mean_x, std_x, height, weight, n_iter)\n",
    "    fig.set_size_inches(10.0, 6.0)\n",
    "\n",
    "interact(plot_figure, n_iter=IntSlider(min=1, max=len(gradient_ws)))"
   ]
  },
  {
   "cell_type": "markdown",
   "metadata": {
    "colab_type": "text",
    "id": "OPRgT8-_4R6D"
   },
   "source": [
    "# 5 Effect of Outliers"
   ]
  },
  {
   "cell_type": "markdown",
   "metadata": {
    "colab_type": "text",
    "id": "GiI48UPm4R6D"
   },
   "source": [
    "### Exercise 5\n"
   ]
  },
  {
   "cell_type": "code",
   "execution_count": 23,
   "metadata": {
    "colab": {},
    "colab_type": "code",
    "id": "ckAxteP-4R6E"
   },
   "outputs": [],
   "source": [
    "height, weight, gender = load_data(sub_sample=True, add_outlier=True)\n",
    "x, mean_x, std_x = standardize(height)\n",
    "y, tx = build_model_data(x, weight)\n",
    "\n"
   ]
  },
  {
   "cell_type": "code",
   "execution_count": 24,
   "metadata": {},
   "outputs": [
    {
     "name": "stdout",
     "output_type": "stream",
     "text": [
      "Gradient Descent(0/49): loss=5739.6702290717085, w0=51.847464098448434, w1=7.724426406192428\n",
      "Gradient Descent(1/49): loss=636.5642494031922, w0=67.40170332798299, w1=10.041754328050118\n",
      "Gradient Descent(2/49): loss=177.28471123302543, w0=72.06797509684336, w1=10.736952704607411\n",
      "Gradient Descent(3/49): loss=135.94955279771037, w0=73.46785662750146, w1=10.945512217574596\n",
      "Gradient Descent(4/49): loss=132.22938853853205, w0=73.88782108669889, w1=11.00808007146475\n",
      "Gradient Descent(5/49): loss=131.89457375520604, w0=74.01381042445813, w1=11.026850427631796\n",
      "Gradient Descent(6/49): loss=131.8644404247067, w0=74.0516072257859, w1=11.03248153448191\n",
      "Gradient Descent(7/49): loss=131.8617284249617, w0=74.06294626618423, w1=11.034170866536943\n",
      "Gradient Descent(8/49): loss=131.8614843449847, w0=74.06634797830372, w1=11.034677666153454\n",
      "Gradient Descent(9/49): loss=131.86146237778678, w0=74.06736849193958, w1=11.034829706038407\n",
      "Gradient Descent(10/49): loss=131.86146040073896, w0=74.06767464603033, w1=11.034875318003893\n",
      "Gradient Descent(11/49): loss=131.86146022280465, w0=74.06776649225755, w1=11.03488900159354\n",
      "Gradient Descent(12/49): loss=131.86146020679053, w0=74.06779404612573, w1=11.034893106670435\n",
      "Gradient Descent(13/49): loss=131.86146020534932, w0=74.06780231228618, w1=11.0348943381935\n",
      "Gradient Descent(14/49): loss=131.86146020521957, w0=74.06780479213431, w1=11.034894707650423\n",
      "Gradient Descent(15/49): loss=131.86146020520795, w0=74.06780553608876, w1=11.034894818487498\n",
      "Gradient Descent(16/49): loss=131.86146020520684, w0=74.06780575927509, w1=11.034894851738622\n",
      "Gradient Descent(17/49): loss=131.86146020520675, w0=74.06780582623098, w1=11.034894861713957\n",
      "Gradient Descent(18/49): loss=131.86146020520675, w0=74.06780584631775, w1=11.034894864706558\n",
      "Gradient Descent(19/49): loss=131.86146020520675, w0=74.06780585234378, w1=11.03489486560434\n",
      "Gradient Descent(20/49): loss=131.86146020520675, w0=74.06780585415159, w1=11.034894865873675\n",
      "Gradient Descent(21/49): loss=131.86146020520678, w0=74.06780585469393, w1=11.034894865954474\n",
      "Gradient Descent(22/49): loss=131.86146020520675, w0=74.06780585485663, w1=11.034894865978712\n",
      "Gradient Descent(23/49): loss=131.86146020520675, w0=74.06780585490544, w1=11.034894865985985\n",
      "Gradient Descent(24/49): loss=131.86146020520675, w0=74.0678058549201, w1=11.034894865988166\n",
      "Gradient Descent(25/49): loss=131.86146020520675, w0=74.06780585492449, w1=11.03489486598882\n",
      "Gradient Descent(26/49): loss=131.86146020520673, w0=74.06780585492581, w1=11.034894865989015\n",
      "Gradient Descent(27/49): loss=131.86146020520675, w0=74.06780585492619, w1=11.034894865989076\n",
      "Gradient Descent(28/49): loss=131.86146020520678, w0=74.06780585492632, w1=11.034894865989093\n",
      "Gradient Descent(29/49): loss=131.86146020520675, w0=74.06780585492635, w1=11.034894865989099\n",
      "Gradient Descent(30/49): loss=131.86146020520678, w0=74.06780585492636, w1=11.034894865989102\n",
      "Gradient Descent(31/49): loss=131.86146020520678, w0=74.06780585492636, w1=11.034894865989102\n",
      "Gradient Descent(32/49): loss=131.86146020520678, w0=74.06780585492636, w1=11.034894865989102\n",
      "Gradient Descent(33/49): loss=131.86146020520678, w0=74.06780585492636, w1=11.034894865989102\n",
      "Gradient Descent(34/49): loss=131.86146020520678, w0=74.06780585492636, w1=11.034894865989102\n",
      "Gradient Descent(35/49): loss=131.86146020520678, w0=74.06780585492636, w1=11.034894865989102\n",
      "Gradient Descent(36/49): loss=131.86146020520678, w0=74.06780585492636, w1=11.034894865989102\n",
      "Gradient Descent(37/49): loss=131.86146020520678, w0=74.06780585492636, w1=11.034894865989102\n",
      "Gradient Descent(38/49): loss=131.86146020520678, w0=74.06780585492636, w1=11.034894865989102\n",
      "Gradient Descent(39/49): loss=131.86146020520678, w0=74.06780585492636, w1=11.034894865989102\n",
      "Gradient Descent(40/49): loss=131.86146020520678, w0=74.06780585492636, w1=11.034894865989102\n",
      "Gradient Descent(41/49): loss=131.86146020520678, w0=74.06780585492636, w1=11.034894865989102\n",
      "Gradient Descent(42/49): loss=131.86146020520678, w0=74.06780585492636, w1=11.034894865989102\n",
      "Gradient Descent(43/49): loss=131.86146020520678, w0=74.06780585492636, w1=11.034894865989102\n",
      "Gradient Descent(44/49): loss=131.86146020520678, w0=74.06780585492636, w1=11.034894865989102\n",
      "Gradient Descent(45/49): loss=131.86146020520678, w0=74.06780585492636, w1=11.034894865989102\n",
      "Gradient Descent(46/49): loss=131.86146020520678, w0=74.06780585492636, w1=11.034894865989102\n",
      "Gradient Descent(47/49): loss=131.86146020520678, w0=74.06780585492636, w1=11.034894865989102\n",
      "Gradient Descent(48/49): loss=131.86146020520678, w0=74.06780585492636, w1=11.034894865989102\n",
      "Gradient Descent(49/49): loss=131.86146020520678, w0=74.06780585492636, w1=11.034894865989102\n",
      "Gradient Descent: execution time=0.016 seconds\n"
     ]
    }
   ],
   "source": [
    "# from gradient_descent import *\n",
    "from plots import gradient_descent_visualization\n",
    "\n",
    "# Define the parameters of the algorithm.\n",
    "max_iters = 50\n",
    "gamma = 0.7\n",
    "\n",
    "# Initialization\n",
    "w_initial = np.array([0,0])\n",
    "\n",
    "# Start gradient descent.\n",
    "start_time = datetime.datetime.now()\n",
    "gradient_losses, gradient_ws = gradient_descent_mse(y, tx, w_initial, max_iters, gamma)\n",
    "end_time = datetime.datetime.now()\n",
    "\n",
    "# Print result\n",
    "exection_time = (end_time - start_time).total_seconds()\n",
    "print(\"Gradient Descent: execution time={t:.3f} seconds\".format(t=exection_time))"
   ]
  },
  {
   "cell_type": "code",
   "execution_count": 1,
   "metadata": {},
   "outputs": [
    {
     "ename": "NameError",
     "evalue": "name 'gradient_ws' is not defined",
     "output_type": "error",
     "traceback": [
      "\u001b[1;31m---------------------------------------------------------------------------\u001b[0m",
      "\u001b[1;31mNameError\u001b[0m                                 Traceback (most recent call last)",
      "\u001b[1;32m<ipython-input-1-5b60b1d44d94>\u001b[0m in \u001b[0;36m<module>\u001b[1;34m\u001b[0m\n\u001b[0;32m      7\u001b[0m     \u001b[0mfig\u001b[0m\u001b[1;33m.\u001b[0m\u001b[0mset_size_inches\u001b[0m\u001b[1;33m(\u001b[0m\u001b[1;36m10.0\u001b[0m\u001b[1;33m,\u001b[0m \u001b[1;36m6.0\u001b[0m\u001b[1;33m)\u001b[0m\u001b[1;33m\u001b[0m\u001b[1;33m\u001b[0m\u001b[0m\n\u001b[0;32m      8\u001b[0m \u001b[1;33m\u001b[0m\u001b[0m\n\u001b[1;32m----> 9\u001b[1;33m \u001b[0minteract\u001b[0m\u001b[1;33m(\u001b[0m\u001b[0mplot_figure\u001b[0m\u001b[1;33m,\u001b[0m \u001b[0mn_iter\u001b[0m\u001b[1;33m=\u001b[0m\u001b[0mIntSlider\u001b[0m\u001b[1;33m(\u001b[0m\u001b[0mmin\u001b[0m\u001b[1;33m=\u001b[0m\u001b[1;36m1\u001b[0m\u001b[1;33m,\u001b[0m \u001b[0mmax\u001b[0m\u001b[1;33m=\u001b[0m\u001b[0mlen\u001b[0m\u001b[1;33m(\u001b[0m\u001b[0mgradient_ws\u001b[0m\u001b[1;33m)\u001b[0m\u001b[1;33m)\u001b[0m\u001b[1;33m)\u001b[0m\u001b[1;33m\u001b[0m\u001b[1;33m\u001b[0m\u001b[0m\n\u001b[0m",
      "\u001b[1;31mNameError\u001b[0m: name 'gradient_ws' is not defined"
     ]
    }
   ],
   "source": [
    "# Time Visualization\n",
    "from ipywidgets import IntSlider, interact\n",
    "\n",
    "def plot_figure(n_iter):\n",
    "    fig = gradient_descent_visualization(\n",
    "        gradient_losses, gradient_ws, grid_losses, grid_w0, grid_w1, mean_x, std_x, height, weight, n_iter)\n",
    "    fig.set_size_inches(10.0, 6.0)\n",
    "\n",
    "interact(plot_figure, n_iter=IntSlider(min=1, max=len(gradient_ws)))"
   ]
  },
  {
   "cell_type": "markdown",
   "metadata": {
    "colab_type": "text",
    "id": "iCnPJPV14R6I"
   },
   "source": [
    "# 6 Subgradient Descent"
   ]
  },
  {
   "cell_type": "markdown",
   "metadata": {
    "colab_type": "text",
    "id": "8j3a0oe_4R6J"
   },
   "source": [
    "### Exercise 6"
   ]
  },
  {
   "cell_type": "markdown",
   "metadata": {
    "colab_type": "text",
    "id": "pFG8WDpY4R6J"
   },
   "source": [
    "Modify the function `compute_loss(y, tx, w)` for the Mean Absolute Error cost function [here](#compute_loss)"
   ]
  },
  {
   "cell_type": "code",
   "execution_count": 73,
   "metadata": {
    "colab": {},
    "colab_type": "code",
    "id": "0pTQDa7p4R6L"
   },
   "outputs": [
    {
     "name": "stdout",
     "output_type": "stream",
     "text": [
      "Stochastic gradient Descent(0/249): loss=68.88275348050516, w0=0.7, w1=-0.0981644495541004\n",
      "Stochastic gradient Descent(1/249): loss=64.19002750745253, w0=1.4, w1=-0.3868140822359485\n",
      "Stochastic gradient Descent(2/249): loss=83.16734574287881, w0=2.0999999999999996, w1=0.2585560250577439\n",
      "Stochastic gradient Descent(3/249): loss=63.630200627733885, w0=2.8, w1=0.014909600134114825\n",
      "Stochastic gradient Descent(4/249): loss=78.25272788283492, w0=3.5, w1=0.41658761385036336\n",
      "Stochastic gradient Descent(5/249): loss=75.3202947511958, w0=4.2, w1=0.7599194214681521\n",
      "Stochastic gradient Descent(6/249): loss=75.83935897412874, w0=4.9, w1=1.0302338560762356\n",
      "Stochastic gradient Descent(7/249): loss=74.86382505466246, w0=5.6000000000000005, w1=1.3712271908409626\n",
      "Stochastic gradient Descent(8/249): loss=74.3286542051892, w0=6.300000000000001, w1=1.7056365593697305\n",
      "Stochastic gradient Descent(9/249): loss=66.31331104673734, w0=7.000000000000001, w1=1.7097155731911073\n",
      "Stochastic gradient Descent(10/249): loss=71.25722055226491, w0=7.700000000000001, w1=1.724387896069123\n",
      "Stochastic gradient Descent(11/249): loss=70.88479294975858, w0=8.4, w1=1.9552036482120083\n",
      "Stochastic gradient Descent(12/249): loss=61.062834346248664, w0=9.1, w1=1.7773281545394075\n",
      "Stochastic gradient Descent(13/249): loss=66.47364850073374, w0=9.799999999999999, w1=1.8322770257270562\n",
      "Stochastic gradient Descent(14/249): loss=66.13073158413407, w0=10.499999999999998, w1=1.951467484959977\n",
      "Stochastic gradient Descent(15/249): loss=51.73677402297693, w0=11.199999999999998, w1=1.3401629964851223\n",
      "Stochastic gradient Descent(16/249): loss=54.995577703263244, w0=11.899999999999997, w1=1.071876843226883\n",
      "Stochastic gradient Descent(17/249): loss=52.583169208089885, w0=12.599999999999996, w1=0.6519002904464681\n",
      "Stochastic gradient Descent(18/249): loss=55.604626809729965, w0=13.299999999999995, w1=0.38400320613310424\n",
      "Stochastic gradient Descent(19/249): loss=52.65719383711077, w0=13.999999999999995, w1=-0.03370257883908906\n",
      "Stochastic gradient Descent(20/249): loss=67.92367956438437, w0=14.699999999999994, w1=0.42022009450886477\n",
      "Stochastic gradient Descent(21/249): loss=52.183414200656, w0=15.399999999999993, w1=0.183457658692333\n",
      "Stochastic gradient Descent(22/249): loss=59.924507280648434, w0=16.099999999999994, w1=0.3610393900399939\n",
      "Stochastic gradient Descent(23/249): loss=57.90019312447422, w0=16.799999999999994, w1=0.37847877307856514\n",
      "Stochastic gradient Descent(24/249): loss=51.59810730483247, w0=17.499999999999993, w1=0.10474588453941858\n",
      "Stochastic gradient Descent(25/249): loss=55.85075971113154, w0=18.199999999999992, w1=0.08137808657437275\n",
      "Stochastic gradient Descent(26/249): loss=57.5141705964286, w0=18.89999999999999, w1=0.21410854404961643\n",
      "Stochastic gradient Descent(27/249): loss=57.60519501133912, w0=19.59999999999999, w1=0.40532974531310917\n",
      "Stochastic gradient Descent(28/249): loss=65.80434660130223, w0=20.29999999999999, w1=-0.08333262545160047\n",
      "Stochastic gradient Descent(29/249): loss=53.76441481255354, w0=20.99999999999999, w1=0.07593083510088017\n",
      "Stochastic gradient Descent(30/249): loss=53.417772586111674, w0=21.69999999999999, w1=-0.0072940405835502375\n",
      "Stochastic gradient Descent(31/249): loss=57.93186366991623, w0=22.399999999999988, w1=0.27750917418269627\n",
      "Stochastic gradient Descent(32/249): loss=51.61791013172309, w0=23.099999999999987, w1=0.33936249354353704\n",
      "Stochastic gradient Descent(33/249): loss=56.91932030415019, w0=23.799999999999986, w1=-0.32215976250895967\n",
      "Stochastic gradient Descent(34/249): loss=61.52767654923126, w0=24.499999999999986, w1=0.21931045682985545\n",
      "Stochastic gradient Descent(35/249): loss=46.81818549065292, w0=25.199999999999985, w1=0.14474006796603406\n",
      "Stochastic gradient Descent(36/249): loss=51.66853392120623, w0=25.899999999999984, w1=0.4443082658402174\n",
      "Stochastic gradient Descent(37/249): loss=40.41562883954158, w0=26.599999999999984, w1=-0.006486138951089793\n",
      "Stochastic gradient Descent(38/249): loss=45.357259945596766, w0=27.299999999999983, w1=0.027180381064435842\n",
      "Stochastic gradient Descent(39/249): loss=52.53889379599127, w0=27.999999999999982, w1=0.2228989685739294\n",
      "Stochastic gradient Descent(40/249): loss=42.439507768742054, w0=28.69999999999998, w1=0.1079352929762381\n",
      "Stochastic gradient Descent(41/249): loss=40.030704848604856, w0=29.39999999999998, w1=-0.10718971145960696\n",
      "Stochastic gradient Descent(42/249): loss=33.31370209587467, w0=30.09999999999998, w1=-0.5357991274837823\n",
      "Stochastic gradient Descent(43/249): loss=48.12211844882686, w0=30.79999999999998, w1=-0.16544821414891075\n",
      "Stochastic gradient Descent(44/249): loss=47.32642770448642, w0=31.49999999999998, w1=0.043710884283170104\n",
      "Stochastic gradient Descent(45/249): loss=34.82050074489031, w0=32.19999999999998, w1=-0.4095456602888201\n",
      "Stochastic gradient Descent(46/249): loss=47.102352819310546, w0=32.899999999999984, w1=-0.1379753920595495\n",
      "Stochastic gradient Descent(47/249): loss=46.768424511681545, w0=33.59999999999999, w1=0.02960447087788684\n",
      "Stochastic gradient Descent(48/249): loss=36.118810663222725, w0=34.29999999999999, w1=-0.2547655311907271\n",
      "Stochastic gradient Descent(49/249): loss=35.609329108782916, w0=34.99999999999999, w1=-0.3308649705956221\n",
      "Stochastic gradient Descent(50/249): loss=47.40113441729835, w0=35.699999999999996, w1=0.03807237236763411\n",
      "Stochastic gradient Descent(51/249): loss=45.075543508046714, w0=36.4, w1=0.32108957113075337\n",
      "Stochastic gradient Descent(52/249): loss=29.228507653015743, w0=37.1, w1=0.04029504248490373\n",
      "Stochastic gradient Descent(53/249): loss=27.691740963468636, w0=37.800000000000004, w1=-0.21029159640946993\n",
      "Stochastic gradient Descent(54/249): loss=40.79284153818414, w0=38.50000000000001, w1=0.10844423876105047\n",
      "Stochastic gradient Descent(55/249): loss=37.226099715360434, w0=39.20000000000001, w1=0.09825111013014708\n",
      "Stochastic gradient Descent(56/249): loss=30.720459354624165, w0=39.90000000000001, w1=0.12504773750118786\n",
      "Stochastic gradient Descent(57/249): loss=39.45927922767654, w0=40.600000000000016, w1=0.375476640083548\n",
      "Stochastic gradient Descent(58/249): loss=36.18552204719583, w0=41.30000000000002, w1=0.4107449271314453\n",
      "Stochastic gradient Descent(59/249): loss=30.89903764046188, w0=42.00000000000002, w1=0.3302436837161786\n",
      "Stochastic gradient Descent(60/249): loss=26.55715344040764, w0=42.700000000000024, w1=0.20463406129378434\n",
      "Stochastic gradient Descent(61/249): loss=24.39855331015457, w0=43.40000000000003, w1=-0.06269880617208398\n",
      "Stochastic gradient Descent(62/249): loss=13.679377954246373, w0=44.10000000000003, w1=-0.8220639427050762\n",
      "Stochastic gradient Descent(63/249): loss=24.391431255062784, w0=44.80000000000003, w1=-1.179836188421283\n",
      "Stochastic gradient Descent(64/249): loss=34.099650093766066, w0=45.500000000000036, w1=-1.9035797177679696\n",
      "Stochastic gradient Descent(65/249): loss=22.421269983559537, w0=46.20000000000004, w1=-2.0453073461380296\n",
      "Stochastic gradient Descent(66/249): loss=24.02770194950296, w0=46.90000000000004, w1=-2.0823418032652867\n",
      "Stochastic gradient Descent(67/249): loss=25.41233082440191, w0=47.600000000000044, w1=-2.0073737018517956\n",
      "Stochastic gradient Descent(68/249): loss=28.190200126539434, w0=48.30000000000005, w1=-1.8946317211469652\n",
      "Stochastic gradient Descent(69/249): loss=17.51499503946445, w0=49.00000000000005, w1=-2.061685712877054\n",
      "Stochastic gradient Descent(70/249): loss=37.96618939798741, w0=49.70000000000005, w1=-2.4073344657604667\n",
      "Stochastic gradient Descent(71/249): loss=24.6941736078223, w0=50.120000000000054, w1=-2.05454238065187\n",
      "Stochastic gradient Descent(72/249): loss=11.190347179040256, w0=50.82000000000006, w1=-2.546655388199754\n",
      "Stochastic gradient Descent(73/249): loss=21.513004902588527, w0=51.52000000000006, w1=-2.476199497500119\n",
      "Stochastic gradient Descent(74/249): loss=21.140277674256197, w0=51.94000000000006, w1=-2.165621379972079\n",
      "Stochastic gradient Descent(75/249): loss=22.14363339919151, w0=52.640000000000065, w1=-2.245428304819846\n",
      "Stochastic gradient Descent(76/249): loss=33.3974603376635, w0=53.060000000000066, w1=-1.450821531753347\n",
      "Stochastic gradient Descent(77/249): loss=30.582526718580674, w0=53.76000000000007, w1=-0.889466173905251\n",
      "Stochastic gradient Descent(78/249): loss=17.032966650122862, w0=54.46000000000007, w1=-0.8534312503904595\n",
      "Stochastic gradient Descent(79/249): loss=13.78696719135615, w0=55.160000000000075, w1=-1.2268582268797916\n",
      "Stochastic gradient Descent(80/249): loss=20.784856254853917, w0=55.300000000000075, w1=-0.6541714844626276\n",
      "Stochastic gradient Descent(81/249): loss=19.5651258169396, w0=55.72000000000008, w1=-0.3067685377370964\n",
      "Stochastic gradient Descent(82/249): loss=19.82687650660094, w0=56.42000000000008, w1=-0.22271984467723152\n",
      "Stochastic gradient Descent(83/249): loss=14.368253246561324, w0=56.84000000000008, w1=-0.14736180564450174\n",
      "Stochastic gradient Descent(84/249): loss=14.267009423510771, w0=57.26000000000008, w1=-0.0680915765854994\n",
      "Stochastic gradient Descent(85/249): loss=11.925253105188501, w0=57.680000000000085, w1=0.12827727322663002\n",
      "Stochastic gradient Descent(86/249): loss=7.142634340970543, w0=57.540000000000084, w1=0.4413732453829597\n",
      "Stochastic gradient Descent(87/249): loss=12.771676737503267, w0=58.24000000000009, w1=0.18154375522274457\n",
      "Stochastic gradient Descent(88/249): loss=24.628498824910015, w0=58.66000000000009, w1=0.7499291977229136\n",
      "Stochastic gradient Descent(89/249): loss=18.412883367733095, w0=59.08000000000009, w1=1.1643804029260745\n",
      "Stochastic gradient Descent(90/249): loss=21.736635224115147, w0=59.78000000000009, w1=1.4893674513573822\n",
      "Stochastic gradient Descent(91/249): loss=14.738103587966885, w0=60.200000000000095, w1=1.5230382625814114\n",
      "Stochastic gradient Descent(92/249): loss=24.361783248610113, w0=60.9000000000001, w1=2.0688141762919123\n",
      "Stochastic gradient Descent(93/249): loss=21.040744310708067, w0=61.3200000000001, w1=2.5851040276485806\n",
      "Stochastic gradient Descent(94/249): loss=14.555396114312305, w0=61.7400000000001, w1=2.9230830133683607\n",
      "Stochastic gradient Descent(95/249): loss=15.35264414482072, w0=62.440000000000104, w1=3.0660264338591405\n",
      "Stochastic gradient Descent(96/249): loss=23.90455632151229, w0=63.14000000000011, w1=3.8007600951158125\n",
      "Stochastic gradient Descent(97/249): loss=13.369339907187442, w0=63.28000000000011, w1=4.421286344588725\n",
      "Stochastic gradient Descent(98/249): loss=6.299535466553962, w0=63.14000000000011, w1=4.867160185710234\n",
      "Stochastic gradient Descent(99/249): loss=12.213890786787903, w0=63.28000000000011, w1=5.45265071129767\n",
      "Stochastic gradient Descent(100/249): loss=8.833551055196622, w0=63.42000000000011, w1=5.9005035938166195\n",
      "Stochastic gradient Descent(101/249): loss=12.611252810056953, w0=64.1200000000001, w1=5.908986274079641\n",
      "Stochastic gradient Descent(102/249): loss=10.85300870900021, w0=64.2600000000001, w1=6.422014069528632\n",
      "Stochastic gradient Descent(103/249): loss=13.72456946910587, w0=64.4000000000001, w1=7.078277660016587\n",
      "Stochastic gradient Descent(104/249): loss=10.762940746644349, w0=64.5400000000001, w1=7.637215006951682\n",
      "Stochastic gradient Descent(105/249): loss=12.183991937743068, w0=64.96000000000011, w1=7.908978263690038\n",
      "Stochastic gradient Descent(106/249): loss=12.183089557491648, w0=65.38000000000011, w1=8.417522682186126\n",
      "Stochastic gradient Descent(107/249): loss=19.25036357001664, w0=65.24000000000011, w1=8.36726385170042\n",
      "Stochastic gradient Descent(108/249): loss=6.840989022488789, w0=65.66000000000011, w1=8.3466082688002\n",
      "Stochastic gradient Descent(109/249): loss=7.108087670227415, w0=65.52000000000011, w1=9.008925609965939\n",
      "Stochastic gradient Descent(110/249): loss=4.357222483716534, w0=66.22000000000011, w1=9.089835645879317\n",
      "Stochastic gradient Descent(111/249): loss=11.445450695333285, w0=66.64000000000011, w1=9.529808019722717\n",
      "Stochastic gradient Descent(112/249): loss=11.172711112376188, w0=67.34000000000012, w1=9.876322822084878\n",
      "Stochastic gradient Descent(113/249): loss=13.913727827624934, w0=68.04000000000012, w1=10.570590639843712\n",
      "Stochastic gradient Descent(114/249): loss=12.531546925485895, w0=68.46000000000012, w1=11.03229682960532\n",
      "Stochastic gradient Descent(115/249): loss=6.920211643690054, w0=68.60000000000012, w1=11.379119997386319\n",
      "Stochastic gradient Descent(116/249): loss=5.7601341310899485, w0=68.46000000000012, w1=11.798264041542526\n",
      "Stochastic gradient Descent(117/249): loss=5.698163116795369, w0=68.04000000000012, w1=12.33907863777856\n",
      "Stochastic gradient Descent(118/249): loss=6.83652601414677, w0=68.46000000000012, w1=12.62090673857575\n",
      "Stochastic gradient Descent(119/249): loss=25.189705736937828, w0=68.88000000000012, w1=12.291421278490569\n",
      "Stochastic gradient Descent(120/249): loss=6.025626096408399, w0=69.30000000000013, w1=12.282021032165726\n",
      "Stochastic gradient Descent(121/249): loss=26.93500934638059, w0=69.72000000000013, w1=12.054596545976919\n",
      "Stochastic gradient Descent(122/249): loss=6.193429848264937, w0=70.42000000000013, w1=12.203170693886761\n",
      "Stochastic gradient Descent(123/249): loss=6.435039465673573, w0=70.84000000000013, w1=12.356214120402461\n",
      "Stochastic gradient Descent(124/249): loss=2.7441487444795527, w0=71.26000000000013, w1=12.453913174189163\n",
      "Stochastic gradient Descent(125/249): loss=2.6502587737914665, w0=71.12000000000013, w1=12.84553237780887\n",
      "Stochastic gradient Descent(126/249): loss=6.4974935685739315, w0=71.26000000000013, w1=13.253283119935633\n",
      "Stochastic gradient Descent(127/249): loss=7.64716892987993, w0=71.40000000000013, w1=13.984395762088269\n",
      "Stochastic gradient Descent(128/249): loss=3.9532397071092418, w0=71.26000000000013, w1=14.297864330454628\n",
      "Stochastic gradient Descent(129/249): loss=6.913659143962391, w0=71.68000000000013, w1=14.300097461638753\n",
      "Stochastic gradient Descent(130/249): loss=4.77820259352549, w0=71.82000000000014, w1=13.936511770968275\n",
      "Stochastic gradient Descent(131/249): loss=6.928485564182419, w0=71.96000000000014, w1=13.821371658640977\n",
      "Stochastic gradient Descent(132/249): loss=4.583375375581246, w0=71.54000000000013, w1=14.10095353641275\n",
      "Stochastic gradient Descent(133/249): loss=7.452672894905537, w0=71.12000000000013, w1=14.503775579079251\n",
      "Stochastic gradient Descent(134/249): loss=4.767475051709225, w0=71.26000000000013, w1=14.241925674850906\n",
      "Stochastic gradient Descent(135/249): loss=2.8827211378800057, w0=71.68000000000013, w1=14.417550549255669\n",
      "Stochastic gradient Descent(136/249): loss=2.5722243628708754, w0=72.10000000000014, w1=14.647048226670398\n",
      "Stochastic gradient Descent(137/249): loss=6.188313733811478, w0=72.24000000000014, w1=14.623752858939033\n",
      "Stochastic gradient Descent(138/249): loss=4.345780724934781, w0=71.82000000000014, w1=14.452985852121271\n",
      "Stochastic gradient Descent(139/249): loss=2.6194306295075833, w0=71.40000000000013, w1=14.725249120457455\n",
      "Stochastic gradient Descent(140/249): loss=4.8928129906929385, w0=71.26000000000013, w1=14.633706779386937\n",
      "Stochastic gradient Descent(141/249): loss=5.948392032543305, w0=71.96000000000014, w1=14.798783197664383\n",
      "Stochastic gradient Descent(142/249): loss=4.815071210733241, w0=72.38000000000014, w1=15.49073560210971\n",
      "Stochastic gradient Descent(143/249): loss=6.683091642058615, w0=71.96000000000014, w1=15.645652871899276\n",
      "Stochastic gradient Descent(144/249): loss=5.203916421568313, w0=72.38000000000014, w1=15.383585114567307\n",
      "Stochastic gradient Descent(145/249): loss=3.9331988633246966, w0=72.24000000000014, w1=15.987998275869137\n",
      "Stochastic gradient Descent(146/249): loss=5.303392845023353, w0=72.38000000000014, w1=16.054124794967716\n",
      "Stochastic gradient Descent(147/249): loss=27.99158742075499, w0=72.24000000000014, w1=15.553636538823664\n",
      "Stochastic gradient Descent(148/249): loss=2.2015748556727175, w0=71.82000000000014, w1=15.018818027223997\n",
      "Stochastic gradient Descent(149/249): loss=4.8794262243014686, w0=71.96000000000014, w1=15.215573857605245\n",
      "Stochastic gradient Descent(150/249): loss=1.7812277593897092, w0=72.10000000000014, w1=15.426111267563\n",
      "Stochastic gradient Descent(151/249): loss=3.934726285019545, w0=72.24000000000014, w1=15.706048793379832\n",
      "Stochastic gradient Descent(152/249): loss=5.081235340994931, w0=72.10000000000014, w1=15.43889239777277\n",
      "Stochastic gradient Descent(153/249): loss=2.9905460484699433, w0=71.40000000000013, w1=15.68284079573128\n",
      "Stochastic gradient Descent(154/249): loss=3.7262747928972573, w0=70.98000000000013, w1=15.37922224581683\n",
      "Stochastic gradient Descent(155/249): loss=5.734318771982234, w0=71.40000000000013, w1=15.300451838092558\n",
      "Stochastic gradient Descent(156/249): loss=5.924806020055319, w0=72.10000000000014, w1=15.196017227420413\n",
      "Stochastic gradient Descent(157/249): loss=5.2958474042444, w0=72.24000000000014, w1=15.518995803257923\n",
      "Stochastic gradient Descent(158/249): loss=6.632463477004414, w0=72.66000000000014, w1=15.315225188151548\n",
      "Stochastic gradient Descent(159/249): loss=3.205545164216524, w0=72.80000000000014, w1=15.028220596237682\n",
      "Stochastic gradient Descent(160/249): loss=6.768403896517812, w0=72.94000000000014, w1=14.97642983115927\n",
      "Stochastic gradient Descent(161/249): loss=3.0709830147065746, w0=72.52000000000014, w1=14.688324570036754\n",
      "Stochastic gradient Descent(162/249): loss=6.461807814659267, w0=72.66000000000014, w1=14.65409862045861\n",
      "Stochastic gradient Descent(163/249): loss=4.214377989505285, w0=73.08000000000014, w1=14.36590594605914\n",
      "Stochastic gradient Descent(164/249): loss=4.7332697881221035, w0=72.66000000000014, w1=14.422904655902682\n",
      "Stochastic gradient Descent(165/249): loss=3.5167278544708465, w0=72.24000000000014, w1=14.282072565965299\n",
      "Stochastic gradient Descent(166/249): loss=2.7526299622649804, w0=71.82000000000014, w1=14.440381451319759\n",
      "Stochastic gradient Descent(167/249): loss=1.728204639836808, w0=71.68000000000013, w1=14.711033292600579\n",
      "Stochastic gradient Descent(168/249): loss=1.792832041203468, w0=71.54000000000013, w1=14.988292999771597\n",
      "Stochastic gradient Descent(169/249): loss=5.453420815855781, w0=71.96000000000014, w1=15.272551326751168\n",
      "Stochastic gradient Descent(170/249): loss=5.4098608561438555, w0=71.82000000000014, w1=15.711375272246546\n",
      "Stochastic gradient Descent(171/249): loss=3.544416722646865, w0=71.68000000000013, w1=15.943160071091405\n",
      "Stochastic gradient Descent(172/249): loss=4.753198223328717, w0=71.82000000000014, w1=15.281955450718154\n",
      "Stochastic gradient Descent(173/249): loss=5.6962202571690685, w0=71.96000000000014, w1=14.73712268931568\n",
      "Stochastic gradient Descent(174/249): loss=4.62541828761983, w0=72.10000000000014, w1=14.97455545629544\n",
      "Stochastic gradient Descent(175/249): loss=3.42531489921693, w0=71.96000000000014, w1=15.289054071030758\n",
      "Stochastic gradient Descent(176/249): loss=6.369456940011588, w0=72.38000000000014, w1=15.321228613882521\n",
      "Stochastic gradient Descent(177/249): loss=4.237134291513378, w0=72.52000000000014, w1=15.428462433262261\n",
      "Stochastic gradient Descent(178/249): loss=3.88181006797065, w0=72.38000000000014, w1=15.074083563030795\n",
      "Stochastic gradient Descent(179/249): loss=5.806184735256538, w0=72.52000000000014, w1=14.630441664388252\n",
      "Stochastic gradient Descent(180/249): loss=2.505124586198545, w0=72.94000000000014, w1=14.59027158550791\n",
      "Stochastic gradient Descent(181/249): loss=4.408997733903346, w0=72.80000000000014, w1=15.258186926449417\n",
      "Stochastic gradient Descent(182/249): loss=4.241635854423892, w0=72.66000000000014, w1=15.648230315586423\n",
      "Stochastic gradient Descent(183/249): loss=4.557283435923653, w0=72.24000000000014, w1=15.519938103335964\n",
      "Stochastic gradient Descent(184/249): loss=1.5402537244293086, w0=72.38000000000014, w1=15.69183891407718\n",
      "Stochastic gradient Descent(185/249): loss=2.602520955405427, w0=72.24000000000014, w1=15.82310513848094\n",
      "Stochastic gradient Descent(186/249): loss=4.063218696856938, w0=72.10000000000014, w1=15.755546190458501\n",
      "Stochastic gradient Descent(187/249): loss=4.005217383105761, w0=72.80000000000014, w1=16.02705236552427\n",
      "Stochastic gradient Descent(188/249): loss=3.4923043437028953, w0=73.50000000000014, w1=15.980602781415676\n",
      "Stochastic gradient Descent(189/249): loss=4.3531291224385935, w0=73.64000000000014, w1=15.524323628539387\n",
      "Stochastic gradient Descent(190/249): loss=5.277706630716632, w0=74.06000000000014, w1=15.797616458506099\n",
      "Stochastic gradient Descent(191/249): loss=5.783146858838815, w0=73.92000000000014, w1=16.09924986997666\n",
      "Stochastic gradient Descent(192/249): loss=3.351517300242301, w0=73.50000000000014, w1=15.784840226323716\n",
      "Stochastic gradient Descent(193/249): loss=4.978234463171998, w0=73.36000000000014, w1=16.234754397998337\n",
      "Stochastic gradient Descent(194/249): loss=2.6182863535397756, w0=72.66000000000014, w1=16.076954169145402\n",
      "Stochastic gradient Descent(195/249): loss=1.467848365513791, w0=72.52000000000014, w1=16.501658604564714\n",
      "Stochastic gradient Descent(196/249): loss=4.8631607354365585, w0=73.22000000000014, w1=16.373160720618557\n",
      "Stochastic gradient Descent(197/249): loss=4.284323774360717, w0=72.52000000000014, w1=16.52537261500552\n",
      "Stochastic gradient Descent(198/249): loss=3.435329543624607, w0=72.66000000000014, w1=16.054556866982484\n",
      "Stochastic gradient Descent(199/249): loss=3.612296725030615, w0=72.52000000000014, w1=16.09179520975935\n",
      "Stochastic gradient Descent(200/249): loss=5.260429274020029, w0=72.66000000000014, w1=16.10392943729542\n",
      "Stochastic gradient Descent(201/249): loss=1.817733718152367, w0=72.80000000000014, w1=15.79192489035106\n",
      "Stochastic gradient Descent(202/249): loss=3.4494302434367983, w0=72.66000000000014, w1=16.204426899760712\n",
      "Stochastic gradient Descent(203/249): loss=2.715281293509638, w0=72.24000000000014, w1=16.68505853987373\n",
      "Stochastic gradient Descent(204/249): loss=2.7992993957097907, w0=72.38000000000014, w1=16.606716030341705\n",
      "Stochastic gradient Descent(205/249): loss=6.577329256803995, w0=72.24000000000014, w1=16.732779273902548\n",
      "Stochastic gradient Descent(206/249): loss=5.509411060529937, w0=72.38000000000014, w1=16.3837920640401\n",
      "Stochastic gradient Descent(207/249): loss=1.5007426192328368, w0=72.24000000000014, w1=16.492908839167598\n",
      "Stochastic gradient Descent(208/249): loss=4.102031459580019, w0=72.10000000000014, w1=16.641833646251566\n",
      "Stochastic gradient Descent(209/249): loss=4.632262248182599, w0=72.52000000000014, w1=16.597508320283396\n",
      "Stochastic gradient Descent(210/249): loss=5.6369139087275855, w0=72.38000000000014, w1=16.771939897093397\n",
      "Stochastic gradient Descent(211/249): loss=5.175789273225353, w0=72.80000000000014, w1=16.774323166194655\n",
      "Stochastic gradient Descent(212/249): loss=3.241794144602166, w0=72.66000000000014, w1=16.840209619839513\n",
      "Stochastic gradient Descent(213/249): loss=3.5333987299812604, w0=72.24000000000014, w1=17.216097416395318\n",
      "Stochastic gradient Descent(214/249): loss=5.3455047321027775, w0=71.82000000000014, w1=17.070942696542655\n",
      "Stochastic gradient Descent(215/249): loss=4.68098207594699, w0=71.68000000000013, w1=16.572930116052554\n",
      "Stochastic gradient Descent(216/249): loss=4.796958497580495, w0=71.54000000000013, w1=16.824356583865008\n",
      "Stochastic gradient Descent(217/249): loss=3.8513809620669606, w0=71.68000000000013, w1=16.6264060793133\n",
      "Stochastic gradient Descent(218/249): loss=4.1569215234379255, w0=71.54000000000013, w1=16.42923045646086\n",
      "Stochastic gradient Descent(219/249): loss=5.559973349819762, w0=71.96000000000014, w1=16.545145906021354\n",
      "Stochastic gradient Descent(220/249): loss=6.154425329300525, w0=72.38000000000014, w1=16.85567364732166\n",
      "Stochastic gradient Descent(221/249): loss=6.089448937791872, w0=72.24000000000014, w1=16.409524032324367\n",
      "Stochastic gradient Descent(222/249): loss=5.051054630312325, w0=71.82000000000014, w1=15.965134694763872\n",
      "Stochastic gradient Descent(223/249): loss=2.524636684266355, w0=72.24000000000014, w1=15.95366034585677\n",
      "Stochastic gradient Descent(224/249): loss=2.5337513870681234, w0=72.10000000000014, w1=15.963347182136701\n",
      "Stochastic gradient Descent(225/249): loss=6.2442702918029935, w0=72.24000000000014, w1=15.640322699937794\n",
      "Stochastic gradient Descent(226/249): loss=6.05908533890598, w0=72.10000000000014, w1=16.096687233622138\n",
      "Stochastic gradient Descent(227/249): loss=1.324541529619907, w0=71.68000000000013, w1=16.111311328876187\n",
      "Stochastic gradient Descent(228/249): loss=3.0721901530177775, w0=71.54000000000013, w1=15.646246221507239\n",
      "Stochastic gradient Descent(229/249): loss=30.567090989446505, w0=71.96000000000014, w1=15.606892590246792\n",
      "Stochastic gradient Descent(230/249): loss=2.4036945719908216, w0=72.38000000000014, w1=16.023619746785425\n",
      "Stochastic gradient Descent(231/249): loss=4.276817048954766, w0=72.52000000000014, w1=16.093838103443215\n",
      "Stochastic gradient Descent(232/249): loss=3.4254570865276066, w0=72.66000000000014, w1=16.10675695338833\n",
      "Stochastic gradient Descent(233/249): loss=5.6012576213779965, w0=73.36000000000014, w1=15.764659037580982\n",
      "Stochastic gradient Descent(234/249): loss=5.1854788149534015, w0=73.50000000000014, w1=16.193921656946074\n",
      "Stochastic gradient Descent(235/249): loss=5.42184009645855, w0=73.08000000000014, w1=16.511449723442542\n",
      "Stochastic gradient Descent(236/249): loss=5.478266213818673, w0=72.94000000000014, w1=16.51632413316669\n",
      "Stochastic gradient Descent(237/249): loss=3.495633617276438, w0=72.52000000000014, w1=15.903383084300266\n",
      "Stochastic gradient Descent(238/249): loss=6.605449946798845, w0=72.94000000000014, w1=15.91662454125875\n",
      "Stochastic gradient Descent(239/249): loss=4.745475762352595, w0=73.08000000000014, w1=15.673698096574256\n",
      "Stochastic gradient Descent(240/249): loss=5.333178028493367, w0=72.94000000000014, w1=15.355195417773677\n",
      "Stochastic gradient Descent(241/249): loss=3.1261977933595206, w0=72.80000000000014, w1=15.612981965770851\n",
      "Stochastic gradient Descent(242/249): loss=5.6321570578175395, w0=72.94000000000014, w1=15.631550913193351\n",
      "Stochastic gradient Descent(243/249): loss=3.8308376503092476, w0=72.80000000000014, w1=15.713691575826306\n",
      "Stochastic gradient Descent(244/249): loss=3.895343086867361, w0=73.22000000000014, w1=16.09650664035539\n",
      "Stochastic gradient Descent(245/249): loss=5.534391123652126, w0=72.52000000000014, w1=16.19450455905284\n",
      "Stochastic gradient Descent(246/249): loss=4.113514075129622, w0=72.10000000000014, w1=16.28743539527776\n",
      "Stochastic gradient Descent(247/249): loss=2.2238212353254823, w0=72.24000000000014, w1=16.536879295381535\n",
      "Stochastic gradient Descent(248/249): loss=5.3970931011434375, w0=72.94000000000014, w1=16.4510362245479\n",
      "Stochastic gradient Descent(249/249): loss=4.363216001652975, w0=72.52000000000014, w1=16.347304685111066\n",
      "Gradient Descent: execution time=0.075 seconds\n"
     ]
    }
   ],
   "source": [
    "# from gradient_descent import *\n",
    "from plots import gradient_descent_visualization\n",
    "\n",
    "# Define the parameters of the algorithm.\n",
    "max_iters = 250\n",
    "gamma = 0.7\n",
    "batch_size = 5\n",
    "\n",
    "# Initialization\n",
    "w_initial = np.array([0,0])\n",
    "\n",
    "# Start gradient descent.\n",
    "start_time = datetime.datetime.now()\n",
    "gradient_losses, gradient_ws = stochastic_gradient_descent_mae(y, tx, w_initial, batch_size, max_iters, gamma)\n",
    "end_time = datetime.datetime.now()\n",
    "\n",
    "# Print result\n",
    "exection_time = (end_time - start_time).total_seconds()\n",
    "print(\"Gradient Descent: execution time={t:.3f} seconds\".format(t=exection_time))"
   ]
  },
  {
   "cell_type": "code",
   "execution_count": 74,
   "metadata": {},
   "outputs": [
    {
     "data": {
      "application/vnd.jupyter.widget-view+json": {
       "model_id": "79f23eb1943f4a578fead2735ec3444b",
       "version_major": 2,
       "version_minor": 0
      },
      "text/plain": [
       "interactive(children=(IntSlider(value=1, description='n_iter', max=251, min=1), Output()), _dom_classes=('widg…"
      ]
     },
     "metadata": {},
     "output_type": "display_data"
    },
    {
     "data": {
      "text/plain": [
       "<function __main__.plot_figure(n_iter)>"
      ]
     },
     "execution_count": 74,
     "metadata": {},
     "output_type": "execute_result"
    }
   ],
   "source": [
    "# Time Visualization\n",
    "from ipywidgets import IntSlider, interact\n",
    "\n",
    "def plot_figure(n_iter):\n",
    "    fig = gradient_descent_visualization(\n",
    "        gradient_losses, gradient_ws, grid_losses, grid_w0, grid_w1, mean_x, std_x, height, weight, n_iter)\n",
    "    fig.set_size_inches(10.0, 6.0)\n",
    "\n",
    "interact(plot_figure, n_iter=IntSlider(min=1, max=len(gradient_ws)))"
   ]
  }
 ],
 "metadata": {
  "anaconda-cloud": {},
  "colab": {
   "name": "ex02.ipynb",
   "provenance": []
  },
  "kernelspec": {
   "display_name": "Python 3",
   "language": "python",
   "name": "python3"
  },
  "language_info": {
   "codemirror_mode": {
    "name": "ipython",
    "version": 3
   },
   "file_extension": ".py",
   "mimetype": "text/x-python",
   "name": "python",
   "nbconvert_exporter": "python",
   "pygments_lexer": "ipython3",
   "version": "3.8.3"
  },
  "widgets": {
   "application/vnd.jupyter.widget-state+json": {
    "1c19f6cf3b1b4d17af410a43d876e838": {
     "model_module": "@jupyter-widgets/controls",
     "model_name": "IntSliderModel",
     "state": {
      "_dom_classes": [],
      "_model_module": "@jupyter-widgets/controls",
      "_model_module_version": "1.5.0",
      "_model_name": "IntSliderModel",
      "_view_count": null,
      "_view_module": "@jupyter-widgets/controls",
      "_view_module_version": "1.5.0",
      "_view_name": "IntSliderView",
      "continuous_update": true,
      "description": "n_iter",
      "description_tooltip": null,
      "disabled": false,
      "layout": "IPY_MODEL_25439517258f43088e1339f712ccec52",
      "max": 51,
      "min": 1,
      "orientation": "horizontal",
      "readout": true,
      "readout_format": "d",
      "step": 1,
      "style": "IPY_MODEL_4727775060a248cbaabb446340a4a211",
      "value": 44
     }
    },
    "25439517258f43088e1339f712ccec52": {
     "model_module": "@jupyter-widgets/base",
     "model_name": "LayoutModel",
     "state": {
      "_model_module": "@jupyter-widgets/base",
      "_model_module_version": "1.2.0",
      "_model_name": "LayoutModel",
      "_view_count": null,
      "_view_module": "@jupyter-widgets/base",
      "_view_module_version": "1.2.0",
      "_view_name": "LayoutView",
      "align_content": null,
      "align_items": null,
      "align_self": null,
      "border": null,
      "bottom": null,
      "display": null,
      "flex": null,
      "flex_flow": null,
      "grid_area": null,
      "grid_auto_columns": null,
      "grid_auto_flow": null,
      "grid_auto_rows": null,
      "grid_column": null,
      "grid_gap": null,
      "grid_row": null,
      "grid_template_areas": null,
      "grid_template_columns": null,
      "grid_template_rows": null,
      "height": null,
      "justify_content": null,
      "justify_items": null,
      "left": null,
      "margin": null,
      "max_height": null,
      "max_width": null,
      "min_height": null,
      "min_width": null,
      "object_fit": null,
      "object_position": null,
      "order": null,
      "overflow": null,
      "overflow_x": null,
      "overflow_y": null,
      "padding": null,
      "right": null,
      "top": null,
      "visibility": null,
      "width": null
     }
    },
    "33509e899e2e41df8d906a91a47f7bcc": {
     "model_module": "@jupyter-widgets/base",
     "model_name": "LayoutModel",
     "state": {
      "_model_module": "@jupyter-widgets/base",
      "_model_module_version": "1.2.0",
      "_model_name": "LayoutModel",
      "_view_count": null,
      "_view_module": "@jupyter-widgets/base",
      "_view_module_version": "1.2.0",
      "_view_name": "LayoutView",
      "align_content": null,
      "align_items": null,
      "align_self": null,
      "border": null,
      "bottom": null,
      "display": null,
      "flex": null,
      "flex_flow": null,
      "grid_area": null,
      "grid_auto_columns": null,
      "grid_auto_flow": null,
      "grid_auto_rows": null,
      "grid_column": null,
      "grid_gap": null,
      "grid_row": null,
      "grid_template_areas": null,
      "grid_template_columns": null,
      "grid_template_rows": null,
      "height": null,
      "justify_content": null,
      "justify_items": null,
      "left": null,
      "margin": null,
      "max_height": null,
      "max_width": null,
      "min_height": null,
      "min_width": null,
      "object_fit": null,
      "object_position": null,
      "order": null,
      "overflow": null,
      "overflow_x": null,
      "overflow_y": null,
      "padding": null,
      "right": null,
      "top": null,
      "visibility": null,
      "width": null
     }
    },
    "34087f8c5e6644eebd74b6b0604ac1d4": {
     "model_module": "@jupyter-widgets/controls",
     "model_name": "VBoxModel",
     "state": {
      "_dom_classes": [
       "widget-interact"
      ],
      "_model_module": "@jupyter-widgets/controls",
      "_model_module_version": "1.5.0",
      "_model_name": "VBoxModel",
      "_view_count": null,
      "_view_module": "@jupyter-widgets/controls",
      "_view_module_version": "1.5.0",
      "_view_name": "VBoxView",
      "box_style": "",
      "children": [
       "IPY_MODEL_1c19f6cf3b1b4d17af410a43d876e838",
       "IPY_MODEL_762e37be70c946ebac27cd053e3187c9"
      ],
      "layout": "IPY_MODEL_c26c784f79e049f78d190f7ce569ccc5"
     }
    },
    "4727775060a248cbaabb446340a4a211": {
     "model_module": "@jupyter-widgets/controls",
     "model_name": "SliderStyleModel",
     "state": {
      "_model_module": "@jupyter-widgets/controls",
      "_model_module_version": "1.5.0",
      "_model_name": "SliderStyleModel",
      "_view_count": null,
      "_view_module": "@jupyter-widgets/base",
      "_view_module_version": "1.2.0",
      "_view_name": "StyleView",
      "description_width": "",
      "handle_color": null
     }
    },
    "6fa4786e0a6147938c00867b94c7a34b": {
     "model_module": "@jupyter-widgets/controls",
     "model_name": "VBoxModel",
     "state": {
      "_dom_classes": [
       "widget-interact"
      ],
      "_model_module": "@jupyter-widgets/controls",
      "_model_module_version": "1.5.0",
      "_model_name": "VBoxModel",
      "_view_count": null,
      "_view_module": "@jupyter-widgets/controls",
      "_view_module_version": "1.5.0",
      "_view_name": "VBoxView",
      "box_style": "",
      "children": [
       "IPY_MODEL_a205d21a26f84251a113ba903e8c1fbc",
       "IPY_MODEL_e83c9d9f7274469483e64962513f056a"
      ],
      "layout": "IPY_MODEL_e5aa88b87f5f4c91a27a773672729c78"
     }
    },
    "762e37be70c946ebac27cd053e3187c9": {
     "model_module": "@jupyter-widgets/output",
     "model_name": "OutputModel",
     "state": {
      "_dom_classes": [],
      "_model_module": "@jupyter-widgets/output",
      "_model_module_version": "1.0.0",
      "_model_name": "OutputModel",
      "_view_count": null,
      "_view_module": "@jupyter-widgets/output",
      "_view_module_version": "1.0.0",
      "_view_name": "OutputView",
      "layout": "IPY_MODEL_d5030c42c8244ce7b8bad7cd6e248296",
      "msg_id": "",
      "outputs": [
       {
        "image/png": "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\n",
        "metadata": {
         "needs_background": "light",
         "tags": []
        },
        "output_type": "display_data",
        "text/plain": "<Figure size 720x432 with 3 Axes>"
       }
      ]
     }
    },
    "881c2236fddc4437a513230e48344cf1": {
     "model_module": "@jupyter-widgets/base",
     "model_name": "LayoutModel",
     "state": {
      "_model_module": "@jupyter-widgets/base",
      "_model_module_version": "1.2.0",
      "_model_name": "LayoutModel",
      "_view_count": null,
      "_view_module": "@jupyter-widgets/base",
      "_view_module_version": "1.2.0",
      "_view_name": "LayoutView",
      "align_content": null,
      "align_items": null,
      "align_self": null,
      "border": null,
      "bottom": null,
      "display": null,
      "flex": null,
      "flex_flow": null,
      "grid_area": null,
      "grid_auto_columns": null,
      "grid_auto_flow": null,
      "grid_auto_rows": null,
      "grid_column": null,
      "grid_gap": null,
      "grid_row": null,
      "grid_template_areas": null,
      "grid_template_columns": null,
      "grid_template_rows": null,
      "height": null,
      "justify_content": null,
      "justify_items": null,
      "left": null,
      "margin": null,
      "max_height": null,
      "max_width": null,
      "min_height": null,
      "min_width": null,
      "object_fit": null,
      "object_position": null,
      "order": null,
      "overflow": null,
      "overflow_x": null,
      "overflow_y": null,
      "padding": null,
      "right": null,
      "top": null,
      "visibility": null,
      "width": null
     }
    },
    "a205d21a26f84251a113ba903e8c1fbc": {
     "model_module": "@jupyter-widgets/controls",
     "model_name": "IntSliderModel",
     "state": {
      "_dom_classes": [],
      "_model_module": "@jupyter-widgets/controls",
      "_model_module_version": "1.5.0",
      "_model_name": "IntSliderModel",
      "_view_count": null,
      "_view_module": "@jupyter-widgets/controls",
      "_view_module_version": "1.5.0",
      "_view_name": "IntSliderView",
      "continuous_update": true,
      "description": "n_iter",
      "description_tooltip": null,
      "disabled": false,
      "layout": "IPY_MODEL_33509e899e2e41df8d906a91a47f7bcc",
      "max": 51,
      "min": 1,
      "orientation": "horizontal",
      "readout": true,
      "readout_format": "d",
      "step": 1,
      "style": "IPY_MODEL_c9cec6f4a24e42348ddccaef7fbd4988",
      "value": 46
     }
    },
    "c26c784f79e049f78d190f7ce569ccc5": {
     "model_module": "@jupyter-widgets/base",
     "model_name": "LayoutModel",
     "state": {
      "_model_module": "@jupyter-widgets/base",
      "_model_module_version": "1.2.0",
      "_model_name": "LayoutModel",
      "_view_count": null,
      "_view_module": "@jupyter-widgets/base",
      "_view_module_version": "1.2.0",
      "_view_name": "LayoutView",
      "align_content": null,
      "align_items": null,
      "align_self": null,
      "border": null,
      "bottom": null,
      "display": null,
      "flex": null,
      "flex_flow": null,
      "grid_area": null,
      "grid_auto_columns": null,
      "grid_auto_flow": null,
      "grid_auto_rows": null,
      "grid_column": null,
      "grid_gap": null,
      "grid_row": null,
      "grid_template_areas": null,
      "grid_template_columns": null,
      "grid_template_rows": null,
      "height": null,
      "justify_content": null,
      "justify_items": null,
      "left": null,
      "margin": null,
      "max_height": null,
      "max_width": null,
      "min_height": null,
      "min_width": null,
      "object_fit": null,
      "object_position": null,
      "order": null,
      "overflow": null,
      "overflow_x": null,
      "overflow_y": null,
      "padding": null,
      "right": null,
      "top": null,
      "visibility": null,
      "width": null
     }
    },
    "c9cec6f4a24e42348ddccaef7fbd4988": {
     "model_module": "@jupyter-widgets/controls",
     "model_name": "SliderStyleModel",
     "state": {
      "_model_module": "@jupyter-widgets/controls",
      "_model_module_version": "1.5.0",
      "_model_name": "SliderStyleModel",
      "_view_count": null,
      "_view_module": "@jupyter-widgets/base",
      "_view_module_version": "1.2.0",
      "_view_name": "StyleView",
      "description_width": "",
      "handle_color": null
     }
    },
    "d5030c42c8244ce7b8bad7cd6e248296": {
     "model_module": "@jupyter-widgets/base",
     "model_name": "LayoutModel",
     "state": {
      "_model_module": "@jupyter-widgets/base",
      "_model_module_version": "1.2.0",
      "_model_name": "LayoutModel",
      "_view_count": null,
      "_view_module": "@jupyter-widgets/base",
      "_view_module_version": "1.2.0",
      "_view_name": "LayoutView",
      "align_content": null,
      "align_items": null,
      "align_self": null,
      "border": null,
      "bottom": null,
      "display": null,
      "flex": null,
      "flex_flow": null,
      "grid_area": null,
      "grid_auto_columns": null,
      "grid_auto_flow": null,
      "grid_auto_rows": null,
      "grid_column": null,
      "grid_gap": null,
      "grid_row": null,
      "grid_template_areas": null,
      "grid_template_columns": null,
      "grid_template_rows": null,
      "height": null,
      "justify_content": null,
      "justify_items": null,
      "left": null,
      "margin": null,
      "max_height": null,
      "max_width": null,
      "min_height": null,
      "min_width": null,
      "object_fit": null,
      "object_position": null,
      "order": null,
      "overflow": null,
      "overflow_x": null,
      "overflow_y": null,
      "padding": null,
      "right": null,
      "top": null,
      "visibility": null,
      "width": null
     }
    },
    "e5aa88b87f5f4c91a27a773672729c78": {
     "model_module": "@jupyter-widgets/base",
     "model_name": "LayoutModel",
     "state": {
      "_model_module": "@jupyter-widgets/base",
      "_model_module_version": "1.2.0",
      "_model_name": "LayoutModel",
      "_view_count": null,
      "_view_module": "@jupyter-widgets/base",
      "_view_module_version": "1.2.0",
      "_view_name": "LayoutView",
      "align_content": null,
      "align_items": null,
      "align_self": null,
      "border": null,
      "bottom": null,
      "display": null,
      "flex": null,
      "flex_flow": null,
      "grid_area": null,
      "grid_auto_columns": null,
      "grid_auto_flow": null,
      "grid_auto_rows": null,
      "grid_column": null,
      "grid_gap": null,
      "grid_row": null,
      "grid_template_areas": null,
      "grid_template_columns": null,
      "grid_template_rows": null,
      "height": null,
      "justify_content": null,
      "justify_items": null,
      "left": null,
      "margin": null,
      "max_height": null,
      "max_width": null,
      "min_height": null,
      "min_width": null,
      "object_fit": null,
      "object_position": null,
      "order": null,
      "overflow": null,
      "overflow_x": null,
      "overflow_y": null,
      "padding": null,
      "right": null,
      "top": null,
      "visibility": null,
      "width": null
     }
    },
    "e83c9d9f7274469483e64962513f056a": {
     "model_module": "@jupyter-widgets/output",
     "model_name": "OutputModel",
     "state": {
      "_dom_classes": [],
      "_model_module": "@jupyter-widgets/output",
      "_model_module_version": "1.0.0",
      "_model_name": "OutputModel",
      "_view_count": null,
      "_view_module": "@jupyter-widgets/output",
      "_view_module_version": "1.0.0",
      "_view_name": "OutputView",
      "layout": "IPY_MODEL_881c2236fddc4437a513230e48344cf1",
      "msg_id": "",
      "outputs": [
       {
        "image/png": "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\n",
        "metadata": {
         "needs_background": "light",
         "tags": []
        },
        "output_type": "display_data",
        "text/plain": "<Figure size 720x432 with 3 Axes>"
       }
      ]
     }
    }
   }
  }
 },
 "nbformat": 4,
 "nbformat_minor": 1
}
