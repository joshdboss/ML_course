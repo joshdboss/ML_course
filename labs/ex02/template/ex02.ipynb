{
  "nbformat": 4,
  "nbformat_minor": 0,
  "metadata": {
    "anaconda-cloud": {},
    "kernelspec": {
      "display_name": "Python 3",
      "language": "python",
      "name": "python3"
    },
    "language_info": {
      "codemirror_mode": {
        "name": "ipython",
        "version": 3
      },
      "file_extension": ".py",
      "mimetype": "text/x-python",
      "name": "python",
      "nbconvert_exporter": "python",
      "pygments_lexer": "ipython3",
      "version": "3.6.10"
    },
    "colab": {
      "name": "ex02.ipynb",
      "provenance": []
    },
    "widgets": {
      "application/vnd.jupyter.widget-state+json": {
        "34087f8c5e6644eebd74b6b0604ac1d4": {
          "model_module": "@jupyter-widgets/controls",
          "model_name": "VBoxModel",
          "state": {
            "_view_name": "VBoxView",
            "_dom_classes": [
              "widget-interact"
            ],
            "_model_name": "VBoxModel",
            "_view_module": "@jupyter-widgets/controls",
            "_model_module_version": "1.5.0",
            "_view_count": null,
            "_view_module_version": "1.5.0",
            "box_style": "",
            "layout": "IPY_MODEL_c26c784f79e049f78d190f7ce569ccc5",
            "_model_module": "@jupyter-widgets/controls",
            "children": [
              "IPY_MODEL_1c19f6cf3b1b4d17af410a43d876e838",
              "IPY_MODEL_762e37be70c946ebac27cd053e3187c9"
            ]
          }
        },
        "c26c784f79e049f78d190f7ce569ccc5": {
          "model_module": "@jupyter-widgets/base",
          "model_name": "LayoutModel",
          "state": {
            "_view_name": "LayoutView",
            "grid_template_rows": null,
            "right": null,
            "justify_content": null,
            "_view_module": "@jupyter-widgets/base",
            "overflow": null,
            "_model_module_version": "1.2.0",
            "_view_count": null,
            "flex_flow": null,
            "width": null,
            "min_width": null,
            "border": null,
            "align_items": null,
            "bottom": null,
            "_model_module": "@jupyter-widgets/base",
            "top": null,
            "grid_column": null,
            "overflow_y": null,
            "overflow_x": null,
            "grid_auto_flow": null,
            "grid_area": null,
            "grid_template_columns": null,
            "flex": null,
            "_model_name": "LayoutModel",
            "justify_items": null,
            "grid_row": null,
            "max_height": null,
            "align_content": null,
            "visibility": null,
            "align_self": null,
            "height": null,
            "min_height": null,
            "padding": null,
            "grid_auto_rows": null,
            "grid_gap": null,
            "max_width": null,
            "order": null,
            "_view_module_version": "1.2.0",
            "grid_template_areas": null,
            "object_position": null,
            "object_fit": null,
            "grid_auto_columns": null,
            "margin": null,
            "display": null,
            "left": null
          }
        },
        "1c19f6cf3b1b4d17af410a43d876e838": {
          "model_module": "@jupyter-widgets/controls",
          "model_name": "IntSliderModel",
          "state": {
            "_view_name": "IntSliderView",
            "style": "IPY_MODEL_4727775060a248cbaabb446340a4a211",
            "_dom_classes": [],
            "description": "n_iter",
            "step": 1,
            "_model_name": "IntSliderModel",
            "orientation": "horizontal",
            "max": 51,
            "_view_module": "@jupyter-widgets/controls",
            "_model_module_version": "1.5.0",
            "value": 44,
            "_view_count": null,
            "disabled": false,
            "_view_module_version": "1.5.0",
            "min": 1,
            "continuous_update": true,
            "readout_format": "d",
            "description_tooltip": null,
            "readout": true,
            "_model_module": "@jupyter-widgets/controls",
            "layout": "IPY_MODEL_25439517258f43088e1339f712ccec52"
          }
        },
        "762e37be70c946ebac27cd053e3187c9": {
          "model_module": "@jupyter-widgets/output",
          "model_name": "OutputModel",
          "state": {
            "_view_name": "OutputView",
            "msg_id": "",
            "_dom_classes": [],
            "_model_name": "OutputModel",
            "outputs": [
              {
                "output_type": "display_data",
                "metadata": {
                  "tags": [],
                  "needs_background": "light"
                },
                "image/png": "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\n",
                "text/plain": "<Figure size 720x432 with 3 Axes>"
              }
            ],
            "_view_module": "@jupyter-widgets/output",
            "_model_module_version": "1.0.0",
            "_view_count": null,
            "_view_module_version": "1.0.0",
            "layout": "IPY_MODEL_d5030c42c8244ce7b8bad7cd6e248296",
            "_model_module": "@jupyter-widgets/output"
          }
        },
        "4727775060a248cbaabb446340a4a211": {
          "model_module": "@jupyter-widgets/controls",
          "model_name": "SliderStyleModel",
          "state": {
            "_view_name": "StyleView",
            "handle_color": null,
            "_model_name": "SliderStyleModel",
            "description_width": "",
            "_view_module": "@jupyter-widgets/base",
            "_model_module_version": "1.5.0",
            "_view_count": null,
            "_view_module_version": "1.2.0",
            "_model_module": "@jupyter-widgets/controls"
          }
        },
        "25439517258f43088e1339f712ccec52": {
          "model_module": "@jupyter-widgets/base",
          "model_name": "LayoutModel",
          "state": {
            "_view_name": "LayoutView",
            "grid_template_rows": null,
            "right": null,
            "justify_content": null,
            "_view_module": "@jupyter-widgets/base",
            "overflow": null,
            "_model_module_version": "1.2.0",
            "_view_count": null,
            "flex_flow": null,
            "width": null,
            "min_width": null,
            "border": null,
            "align_items": null,
            "bottom": null,
            "_model_module": "@jupyter-widgets/base",
            "top": null,
            "grid_column": null,
            "overflow_y": null,
            "overflow_x": null,
            "grid_auto_flow": null,
            "grid_area": null,
            "grid_template_columns": null,
            "flex": null,
            "_model_name": "LayoutModel",
            "justify_items": null,
            "grid_row": null,
            "max_height": null,
            "align_content": null,
            "visibility": null,
            "align_self": null,
            "height": null,
            "min_height": null,
            "padding": null,
            "grid_auto_rows": null,
            "grid_gap": null,
            "max_width": null,
            "order": null,
            "_view_module_version": "1.2.0",
            "grid_template_areas": null,
            "object_position": null,
            "object_fit": null,
            "grid_auto_columns": null,
            "margin": null,
            "display": null,
            "left": null
          }
        },
        "d5030c42c8244ce7b8bad7cd6e248296": {
          "model_module": "@jupyter-widgets/base",
          "model_name": "LayoutModel",
          "state": {
            "_view_name": "LayoutView",
            "grid_template_rows": null,
            "right": null,
            "justify_content": null,
            "_view_module": "@jupyter-widgets/base",
            "overflow": null,
            "_model_module_version": "1.2.0",
            "_view_count": null,
            "flex_flow": null,
            "width": null,
            "min_width": null,
            "border": null,
            "align_items": null,
            "bottom": null,
            "_model_module": "@jupyter-widgets/base",
            "top": null,
            "grid_column": null,
            "overflow_y": null,
            "overflow_x": null,
            "grid_auto_flow": null,
            "grid_area": null,
            "grid_template_columns": null,
            "flex": null,
            "_model_name": "LayoutModel",
            "justify_items": null,
            "grid_row": null,
            "max_height": null,
            "align_content": null,
            "visibility": null,
            "align_self": null,
            "height": null,
            "min_height": null,
            "padding": null,
            "grid_auto_rows": null,
            "grid_gap": null,
            "max_width": null,
            "order": null,
            "_view_module_version": "1.2.0",
            "grid_template_areas": null,
            "object_position": null,
            "object_fit": null,
            "grid_auto_columns": null,
            "margin": null,
            "display": null,
            "left": null
          }
        },
        "6fa4786e0a6147938c00867b94c7a34b": {
          "model_module": "@jupyter-widgets/controls",
          "model_name": "VBoxModel",
          "state": {
            "_view_name": "VBoxView",
            "_dom_classes": [
              "widget-interact"
            ],
            "_model_name": "VBoxModel",
            "_view_module": "@jupyter-widgets/controls",
            "_model_module_version": "1.5.0",
            "_view_count": null,
            "_view_module_version": "1.5.0",
            "box_style": "",
            "layout": "IPY_MODEL_e5aa88b87f5f4c91a27a773672729c78",
            "_model_module": "@jupyter-widgets/controls",
            "children": [
              "IPY_MODEL_a205d21a26f84251a113ba903e8c1fbc",
              "IPY_MODEL_e83c9d9f7274469483e64962513f056a"
            ]
          }
        },
        "e5aa88b87f5f4c91a27a773672729c78": {
          "model_module": "@jupyter-widgets/base",
          "model_name": "LayoutModel",
          "state": {
            "_view_name": "LayoutView",
            "grid_template_rows": null,
            "right": null,
            "justify_content": null,
            "_view_module": "@jupyter-widgets/base",
            "overflow": null,
            "_model_module_version": "1.2.0",
            "_view_count": null,
            "flex_flow": null,
            "width": null,
            "min_width": null,
            "border": null,
            "align_items": null,
            "bottom": null,
            "_model_module": "@jupyter-widgets/base",
            "top": null,
            "grid_column": null,
            "overflow_y": null,
            "overflow_x": null,
            "grid_auto_flow": null,
            "grid_area": null,
            "grid_template_columns": null,
            "flex": null,
            "_model_name": "LayoutModel",
            "justify_items": null,
            "grid_row": null,
            "max_height": null,
            "align_content": null,
            "visibility": null,
            "align_self": null,
            "height": null,
            "min_height": null,
            "padding": null,
            "grid_auto_rows": null,
            "grid_gap": null,
            "max_width": null,
            "order": null,
            "_view_module_version": "1.2.0",
            "grid_template_areas": null,
            "object_position": null,
            "object_fit": null,
            "grid_auto_columns": null,
            "margin": null,
            "display": null,
            "left": null
          }
        },
        "a205d21a26f84251a113ba903e8c1fbc": {
          "model_module": "@jupyter-widgets/controls",
          "model_name": "IntSliderModel",
          "state": {
            "_view_name": "IntSliderView",
            "style": "IPY_MODEL_c9cec6f4a24e42348ddccaef7fbd4988",
            "_dom_classes": [],
            "description": "n_iter",
            "step": 1,
            "_model_name": "IntSliderModel",
            "orientation": "horizontal",
            "max": 51,
            "_view_module": "@jupyter-widgets/controls",
            "_model_module_version": "1.5.0",
            "value": 46,
            "_view_count": null,
            "disabled": false,
            "_view_module_version": "1.5.0",
            "min": 1,
            "continuous_update": true,
            "readout_format": "d",
            "description_tooltip": null,
            "readout": true,
            "_model_module": "@jupyter-widgets/controls",
            "layout": "IPY_MODEL_33509e899e2e41df8d906a91a47f7bcc"
          }
        },
        "e83c9d9f7274469483e64962513f056a": {
          "model_module": "@jupyter-widgets/output",
          "model_name": "OutputModel",
          "state": {
            "_view_name": "OutputView",
            "msg_id": "",
            "_dom_classes": [],
            "_model_name": "OutputModel",
            "outputs": [
              {
                "output_type": "display_data",
                "metadata": {
                  "tags": [],
                  "needs_background": "light"
                },
                "image/png": "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\n",
                "text/plain": "<Figure size 720x432 with 3 Axes>"
              }
            ],
            "_view_module": "@jupyter-widgets/output",
            "_model_module_version": "1.0.0",
            "_view_count": null,
            "_view_module_version": "1.0.0",
            "layout": "IPY_MODEL_881c2236fddc4437a513230e48344cf1",
            "_model_module": "@jupyter-widgets/output"
          }
        },
        "c9cec6f4a24e42348ddccaef7fbd4988": {
          "model_module": "@jupyter-widgets/controls",
          "model_name": "SliderStyleModel",
          "state": {
            "_view_name": "StyleView",
            "handle_color": null,
            "_model_name": "SliderStyleModel",
            "description_width": "",
            "_view_module": "@jupyter-widgets/base",
            "_model_module_version": "1.5.0",
            "_view_count": null,
            "_view_module_version": "1.2.0",
            "_model_module": "@jupyter-widgets/controls"
          }
        },
        "33509e899e2e41df8d906a91a47f7bcc": {
          "model_module": "@jupyter-widgets/base",
          "model_name": "LayoutModel",
          "state": {
            "_view_name": "LayoutView",
            "grid_template_rows": null,
            "right": null,
            "justify_content": null,
            "_view_module": "@jupyter-widgets/base",
            "overflow": null,
            "_model_module_version": "1.2.0",
            "_view_count": null,
            "flex_flow": null,
            "width": null,
            "min_width": null,
            "border": null,
            "align_items": null,
            "bottom": null,
            "_model_module": "@jupyter-widgets/base",
            "top": null,
            "grid_column": null,
            "overflow_y": null,
            "overflow_x": null,
            "grid_auto_flow": null,
            "grid_area": null,
            "grid_template_columns": null,
            "flex": null,
            "_model_name": "LayoutModel",
            "justify_items": null,
            "grid_row": null,
            "max_height": null,
            "align_content": null,
            "visibility": null,
            "align_self": null,
            "height": null,
            "min_height": null,
            "padding": null,
            "grid_auto_rows": null,
            "grid_gap": null,
            "max_width": null,
            "order": null,
            "_view_module_version": "1.2.0",
            "grid_template_areas": null,
            "object_position": null,
            "object_fit": null,
            "grid_auto_columns": null,
            "margin": null,
            "display": null,
            "left": null
          }
        },
        "881c2236fddc4437a513230e48344cf1": {
          "model_module": "@jupyter-widgets/base",
          "model_name": "LayoutModel",
          "state": {
            "_view_name": "LayoutView",
            "grid_template_rows": null,
            "right": null,
            "justify_content": null,
            "_view_module": "@jupyter-widgets/base",
            "overflow": null,
            "_model_module_version": "1.2.0",
            "_view_count": null,
            "flex_flow": null,
            "width": null,
            "min_width": null,
            "border": null,
            "align_items": null,
            "bottom": null,
            "_model_module": "@jupyter-widgets/base",
            "top": null,
            "grid_column": null,
            "overflow_y": null,
            "overflow_x": null,
            "grid_auto_flow": null,
            "grid_area": null,
            "grid_template_columns": null,
            "flex": null,
            "_model_name": "LayoutModel",
            "justify_items": null,
            "grid_row": null,
            "max_height": null,
            "align_content": null,
            "visibility": null,
            "align_self": null,
            "height": null,
            "min_height": null,
            "padding": null,
            "grid_auto_rows": null,
            "grid_gap": null,
            "max_width": null,
            "order": null,
            "_view_module_version": "1.2.0",
            "grid_template_areas": null,
            "object_position": null,
            "object_fit": null,
            "grid_auto_columns": null,
            "margin": null,
            "display": null,
            "left": null
          }
        }
      }
    }
  },
  "cells": [
    {
      "cell_type": "code",
      "metadata": {
        "id": "E36Dmb944R4f",
        "colab_type": "code",
        "colab": {}
      },
      "source": [
        "# Useful starting lines\n",
        "%matplotlib inline\n",
        "import numpy as np\n",
        "import matplotlib.pyplot as plt\n",
        "%load_ext autoreload\n",
        "%autoreload 2"
      ],
      "execution_count": 1,
      "outputs": []
    },
    {
      "cell_type": "code",
      "metadata": {
        "id": "n9wTXLa64WaB",
        "colab_type": "code",
        "colab": {}
      },
      "source": [
        "from google.colab import drive\n",
        "drive.mount('/content/drive')"
      ],
      "execution_count": null,
      "outputs": []
    },
    {
      "cell_type": "markdown",
      "metadata": {
        "id": "XF4whlJ24R4l",
        "colab_type": "text"
      },
      "source": [
        "# Load the data"
      ]
    },
    {
      "cell_type": "code",
      "metadata": {
        "id": "7527Di4P4R4m",
        "colab_type": "code",
        "colab": {}
      },
      "source": [
        "import datetime\n",
        "from helpers import *\n",
        "\n",
        "height, weight, gender = load_data(sub_sample=False, add_outlier=False)\n",
        "x, mean_x, std_x = standardize(height)\n",
        "y, tx = build_model_data(x, weight)"
      ],
      "execution_count": 3,
      "outputs": []
    },
    {
      "cell_type": "code",
      "metadata": {
        "id": "mOWLuxyF4R4w",
        "colab_type": "code",
        "colab": {},
        "outputId": "050db524-94c1-4f38-ba55-a9115f3d18dc"
      },
      "source": [
        "y.shape, tx.shape"
      ],
      "execution_count": null,
      "outputs": [
        {
          "output_type": "execute_result",
          "data": {
            "text/plain": [
              "((10000,), (10000, 2))"
            ]
          },
          "metadata": {
            "tags": []
          },
          "execution_count": 3
        }
      ]
    },
    {
      "cell_type": "markdown",
      "metadata": {
        "id": "NXJdtBJY4R42",
        "colab_type": "text"
      },
      "source": [
        "# 1 Computing the Cost Function"
      ]
    },
    {
      "cell_type": "markdown",
      "metadata": {
        "id": "2btbowMg4R43",
        "colab_type": "text"
      },
      "source": [
        "Fill in the `compute_loss` function below:\n",
        "<a id='compute_loss'></a>\n"
      ]
    },
    {
      "cell_type": "code",
      "metadata": {
        "id": "ATTGqHEo4R43",
        "colab_type": "code",
        "colab": {}
      },
      "source": [
        "def compute_loss_mse(y, tx, w):\n",
        "    \"\"\" COMPUTE_LOSS_MSE\n",
        "        Calculates the loss of a dataset using MSE.\n",
        "\n",
        "        INPUTS:\n",
        "        y: an Nx1 array of the output variable\n",
        "        tx: an Nxd array of the input variable\n",
        "        w: a dx1 array of the model\n",
        "\n",
        "        OUTPUTS:\n",
        "        A scalar of the mean square error of the model applied on the dataset\n",
        "    \"\"\"\n",
        "    return sum((y - tx @ w)**2)/len(y)"
      ],
      "execution_count": 23,
      "outputs": []
    },
    {
      "cell_type": "code",
      "metadata": {
        "id": "s_PFstvf4tzS",
        "colab_type": "code",
        "colab": {
          "base_uri": "https://localhost:8080/",
          "height": 34
        },
        "outputId": "4f4e8342-4b81-425d-c6ca-0898d6b0c410"
      },
      "source": [
        "w = np.array([50.0,-75.0]).T\n",
        "compute_loss_mse(y, tx, w)"
      ],
      "execution_count": 52,
      "outputs": [
        {
          "output_type": "execute_result",
          "data": {
            "text/plain": [
              "8402.038090556176"
            ]
          },
          "metadata": {
            "tags": []
          },
          "execution_count": 52
        }
      ]
    },
    {
      "cell_type": "markdown",
      "metadata": {
        "id": "j3KXEKjn4R4_",
        "colab_type": "text"
      },
      "source": [
        "# 2 Grid Search\n",
        "\n",
        "Fill in the function `grid_search()` below:"
      ]
    },
    {
      "cell_type": "code",
      "metadata": {
        "id": "rzb791fV4R5A",
        "colab_type": "code",
        "colab": {}
      },
      "source": [
        "def grid_search(y, tx, w0, w1):\n",
        "    \"\"\" GRID_SEARCH\n",
        "        Performs a naive grid search of parameters w0 and w1 as a model\n",
        "        for the output variable y\n",
        "\n",
        "        INPUTS:\n",
        "        y: an Nx1 array of the output variable\n",
        "        tx: an Nxd array of the input variable\n",
        "        w0: An m-dimensional array of the first elements (offset) of the model\n",
        "        w1: An n-dimensional array of the second elements of the model\n",
        "\n",
        "        OUTPUTS:\n",
        "        An m by n array of the costs for each of the combinations of w0 and w1\n",
        "    \"\"\"\n",
        "    losses = np.zeros((len(w0), len(w1)))\n",
        "\n",
        "    for i in range(0,len(w0)):\n",
        "      for j in range(0,len(w1)):\n",
        "        losses[i,j] = compute_loss_mse(y, tx, np.array([w0[i],w1[j]]).T)\n",
        "    return losses"
      ],
      "execution_count": 54,
      "outputs": []
    },
    {
      "cell_type": "markdown",
      "metadata": {
        "id": "e_GZwB_D4R5H",
        "colab_type": "text"
      },
      "source": [
        "Let us play with the grid search demo now!"
      ]
    },
    {
      "cell_type": "code",
      "metadata": {
        "id": "i7g_B5Z84R5I",
        "colab_type": "code",
        "colab": {
          "base_uri": "https://localhost:8080/",
          "height": 411
        },
        "outputId": "dcd81131-72e2-48ec-cc89-f848b4282ae0"
      },
      "source": [
        "from grid_search import generate_w, get_best_parameters\n",
        "from plots import grid_visualization\n",
        "\n",
        "# Generate the grid of parameters to be swept\n",
        "grid_w0, grid_w1 = generate_w(num_intervals=10)\n",
        "\n",
        "# Start the grid search\n",
        "start_time = datetime.datetime.now()\n",
        "grid_losses = grid_search(y, tx, grid_w0, grid_w1)\n",
        "\n",
        "# Select the best combinaison\n",
        "loss_star, w0_star, w1_star = get_best_parameters(grid_w0, grid_w1, grid_losses)\n",
        "end_time = datetime.datetime.now()\n",
        "execution_time = (end_time - start_time).total_seconds()\n",
        "\n",
        "# Print the results\n",
        "print(\"Grid Search: loss*={l}, w0*={w0}, w1*={w1}, execution time={t:.3f} seconds\".format(\n",
        "      l=loss_star, w0=w0_star, w1=w1_star, t=execution_time))\n",
        "\n",
        "# Plot the results\n",
        "fig = grid_visualization(grid_losses, grid_w0, grid_w1, mean_x, std_x, height, weight)\n",
        "fig.set_size_inches(10.0,6.0)\n",
        "fig.savefig(\"grid_plot\")  # Optional saving"
      ],
      "execution_count": 56,
      "outputs": [
        {
          "output_type": "stream",
          "text": [
            "Grid Search: loss*=84.84896629356506, w0*=66.66666666666669, w1*=16.666666666666686, execution time=0.392 seconds\n"
          ],
          "name": "stdout"
        },
        {
          "output_type": "display_data",
          "data": {
            "image/png": "[encoded data removed]",
            "text/plain": [
              "<Figure size 720x432 with 3 Axes>"
            ]
          },
          "metadata": {
            "tags": [],
            "needs_background": "light"
          }
        }
      ]
    },
    {
      "cell_type": "markdown",
      "metadata": {
        "id": "ZW0nvsT24R5U",
        "colab_type": "text"
      },
      "source": [
        "# 3 Gradient Descent"
      ]
    },
    {
      "cell_type": "markdown",
      "metadata": {
        "id": "4NRoTLnQ4R5V",
        "colab_type": "text"
      },
      "source": [
        "Again, please fill in the functions `compute_gradient` below:"
      ]
    },
    {
      "cell_type": "code",
      "metadata": {
        "id": "fiK6_zCU4R5W",
        "colab_type": "code",
        "colab": {}
      },
      "source": [
        "def compute_gradient_mse(y, tx, w):\n",
        "    \"\"\" COMPUTE_GRADIENT\n",
        "        Computes the gradient of the MSE of a model applied on a set\n",
        "\n",
        "        INPUTS:\n",
        "        y: an Nx1 array of the output variable\n",
        "        tx: an Nxd array of the input variable\n",
        "        w: a dx1 array of the model\n",
        "\n",
        "        OUTPUTS:\n",
        "        A dx1 array of the gradient \n",
        "    \"\"\"\n",
        "    return -1/len(y) * tx.T @ (y - tx @ w)"
      ],
      "execution_count": 84,
      "outputs": []
    },
    {
      "cell_type": "code",
      "metadata": {
        "id": "TOJHAhP6Wigz",
        "colab_type": "code",
        "colab": {
          "base_uri": "https://localhost:8080/",
          "height": 34
        },
        "outputId": "9498bc20-71a3-48d8-a886-634029b4d510"
      },
      "source": [
        "w_test1 = np.array([100,20]).T\n",
        "w_test2 = np.array([50,10]).T\n",
        "grad1 = compute_gradient_mse(y,tx,w_test1)\n",
        "grad2 = compute_gradient_mse(y,tx,w_test2)\n",
        "print('Gradient 1: %s, Gradient 2: %s' % (grad1, grad2))"
      ],
      "execution_count": 87,
      "outputs": [
        {
          "output_type": "stream",
          "text": [
            "Gradient 1: [26.706078    6.52028757], Gradient 2: [-23.293922    -3.47971243]\n"
          ],
          "name": "stdout"
        }
      ]
    },
    {
      "cell_type": "code",
      "metadata": {
        "id": "oYttjhhQW9Um",
        "colab_type": "code",
        "colab": {
          "base_uri": "https://localhost:8080/",
          "height": 34
        },
        "outputId": "25846fe2-20a7-4135-e5df-0fea6373e519"
      },
      "source": [
        "np.linalg.norm(grad2)"
      ],
      "execution_count": 90,
      "outputs": [
        {
          "output_type": "execute_result",
          "data": {
            "text/plain": [
              "23.55239267824768"
            ]
          },
          "metadata": {
            "tags": []
          },
          "execution_count": 90
        }
      ]
    },
    {
      "cell_type": "markdown",
      "metadata": {
        "id": "0X2vycdv4R5c",
        "colab_type": "text"
      },
      "source": [
        "Please fill in the functions `gradient_descent` below:"
      ]
    },
    {
      "cell_type": "code",
      "metadata": {
        "id": "3AJG0jwz4R5e",
        "colab_type": "code",
        "colab": {}
      },
      "source": [
        "def gradient_descent_mse(y, tx, initial_w, max_iters, gamma):\n",
        "    \"\"\" GRADIENT_DESCENT\n",
        "        Iterates and finds the best model using gradient descent and MSE\n",
        "\n",
        "        INPUTS:\n",
        "        y: an Nx1 array of the output variable\n",
        "        tx: an Nxd array of the input variable\n",
        "        initial_w: a dx1 array of the initial model to use\n",
        "        max_iters: a scalar representing the maximum number of iterations\n",
        "        gamma: a scalar representing the step size/learning rate\n",
        "\n",
        "        OUTPUTS:\n",
        "        losses: a max_iters dimensional array representing losses for iterations\n",
        "        ws: a max_iters dimensional array representing models over iterations\n",
        "    \"\"\"\n",
        "    \"\"\"Gradient descent algorithm.\"\"\"\n",
        "    # Define parameters to store w and loss\n",
        "    ws = [initial_w]\n",
        "    losses = []\n",
        "    w = initial_w\n",
        "    for n_iter in range(max_iters):\n",
        "        # compute the gradient and loss given the current w\n",
        "        grad = compute_gradient_mse(y, tx, w)\n",
        "        loss = compute_loss_mse(y, tx, w)\n",
        "        # update w by gradient descent\n",
        "        w = w - gamma*grad\n",
        "        # store w and loss\n",
        "        ws.append(w)\n",
        "        losses.append(loss)\n",
        "        print(\"Gradient Descent({bi}/{ti}): loss={l}, w0={w0}, w1={w1}\".format(\n",
        "              bi=n_iter, ti=max_iters - 1, l=loss, w0=w[0], w1=w[1]))\n",
        "\n",
        "    return losses, ws"
      ],
      "execution_count": 95,
      "outputs": []
    },
    {
      "cell_type": "markdown",
      "metadata": {
        "id": "Hj4doDiP4R5j",
        "colab_type": "text"
      },
      "source": [
        "Test your gradient descent function through gradient descent demo shown below:"
      ]
    },
    {
      "cell_type": "code",
      "metadata": {
        "id": "vTWfRSeX4R5l",
        "colab_type": "code",
        "colab": {
          "base_uri": "https://localhost:8080/",
          "height": 874
        },
        "outputId": "a5c9bd49-6e76-4f01-9722-712c2b378fa0"
      },
      "source": [
        "# from gradient_descent import *\n",
        "from plots import gradient_descent_visualization\n",
        "\n",
        "# Define the parameters of the algorithm.\n",
        "max_iters = 50\n",
        "gamma = 0.7\n",
        "\n",
        "# Initialization\n",
        "w_initial = np.array([0,0])\n",
        "\n",
        "# Start gradient descent.\n",
        "start_time = datetime.datetime.now()\n",
        "gradient_losses, gradient_ws = gradient_descent_mse(y, tx, w_initial, max_iters, gamma)\n",
        "end_time = datetime.datetime.now()\n",
        "\n",
        "# Print result\n",
        "exection_time = (end_time - start_time).total_seconds()\n",
        "print(\"Gradient Descent: execution time={t:.3f} seconds\".format(t=exection_time))"
      ],
      "execution_count": 118,
      "outputs": [
        {
          "output_type": "stream",
          "text": [
            "Gradient Descent(0/49): loss=5584.473425518329, w0=51.30574540147363, w1=9.435798704492285\n",
            "Gradient Descent(1/49): loss=530.6049242179226, w0=66.69746902191572, w1=12.26653831583999\n",
            "Gradient Descent(2/49): loss=75.7567591008824, w0=71.31498610804834, w1=13.11576019924432\n",
            "Gradient Descent(3/49): loss=34.82042424034895, w0=72.70024123388814, w1=13.370526764265628\n",
            "Gradient Descent(4/49): loss=31.13615410290091, w0=73.11581777164007, w1=13.446956733772023\n",
            "Gradient Descent(5/49): loss=30.804569790530707, w0=73.24049073296565, w1=13.469885724623941\n",
            "Gradient Descent(6/49): loss=30.77472720241716, w0=73.27789262136334, w1=13.476764421879516\n",
            "Gradient Descent(7/49): loss=30.772041369486974, w0=73.28911318788263, w1=13.478828031056189\n",
            "Gradient Descent(8/49): loss=30.771799644523412, w0=73.29247935783843, w1=13.47944711380919\n",
            "Gradient Descent(9/49): loss=30.771777889276528, w0=73.29348920882516, w1=13.47963283863509\n",
            "Gradient Descent(10/49): loss=30.771775931304298, w0=73.29379216412119, w1=13.479688556082861\n",
            "Gradient Descent(11/49): loss=30.77177575508678, w0=73.29388305071, w1=13.479705271317192\n",
            "Gradient Descent(12/49): loss=30.771775739227316, w0=73.29391031668663, w1=13.479710285887492\n",
            "Gradient Descent(13/49): loss=30.771775737800034, w0=73.29391849647962, w1=13.479711790258582\n",
            "Gradient Descent(14/49): loss=30.771775737671565, w0=73.29392095041752, w1=13.479712241569908\n",
            "Gradient Descent(15/49): loss=30.771775737659965, w0=73.29392168659889, w1=13.479712376963306\n",
            "Gradient Descent(16/49): loss=30.771775737658796, w0=73.2939219074533, w1=13.479712417581325\n",
            "Gradient Descent(17/49): loss=30.771775737658725, w0=73.29392197370962, w1=13.479712429766732\n",
            "Gradient Descent(18/49): loss=30.771775737658928, w0=73.29392199358652, w1=13.479712433422353\n",
            "Gradient Descent(19/49): loss=30.77177573765877, w0=73.2939219995496, w1=13.47971243451904\n",
            "Gradient Descent(20/49): loss=30.771775737658896, w0=73.29392200133852, w1=13.479712434848047\n",
            "Gradient Descent(21/49): loss=30.771775737658814, w0=73.29392200187519, w1=13.479712434946748\n",
            "Gradient Descent(22/49): loss=30.771775737658878, w0=73.2939220020362, w1=13.479712434976358\n",
            "Gradient Descent(23/49): loss=30.771775737658945, w0=73.29392200208449, w1=13.479712434985242\n",
            "Gradient Descent(24/49): loss=30.77177573765899, w0=73.29392200209898, w1=13.479712434987906\n",
            "Gradient Descent(25/49): loss=30.771775737658736, w0=73.29392200210333, w1=13.479712434988706\n",
            "Gradient Descent(26/49): loss=30.771775737658707, w0=73.29392200210464, w1=13.479712434988945\n",
            "Gradient Descent(27/49): loss=30.771775737658782, w0=73.29392200210502, w1=13.479712434989018\n",
            "Gradient Descent(28/49): loss=30.771775737658853, w0=73.29392200210513, w1=13.47971243498904\n",
            "Gradient Descent(29/49): loss=30.77177573765886, w0=73.29392200210518, w1=13.479712434989047\n",
            "Gradient Descent(30/49): loss=30.771775737658906, w0=73.29392200210519, w1=13.479712434989048\n",
            "Gradient Descent(31/49): loss=30.77177573765891, w0=73.29392200210519, w1=13.479712434989048\n",
            "Gradient Descent(32/49): loss=30.77177573765891, w0=73.29392200210519, w1=13.479712434989048\n",
            "Gradient Descent(33/49): loss=30.77177573765891, w0=73.29392200210519, w1=13.479712434989048\n",
            "Gradient Descent(34/49): loss=30.77177573765891, w0=73.29392200210519, w1=13.479712434989048\n",
            "Gradient Descent(35/49): loss=30.77177573765891, w0=73.29392200210519, w1=13.479712434989048\n",
            "Gradient Descent(36/49): loss=30.77177573765891, w0=73.29392200210519, w1=13.479712434989048\n",
            "Gradient Descent(37/49): loss=30.77177573765891, w0=73.29392200210519, w1=13.479712434989048\n",
            "Gradient Descent(38/49): loss=30.77177573765891, w0=73.29392200210519, w1=13.479712434989048\n",
            "Gradient Descent(39/49): loss=30.77177573765891, w0=73.29392200210519, w1=13.479712434989048\n",
            "Gradient Descent(40/49): loss=30.77177573765891, w0=73.29392200210519, w1=13.479712434989048\n",
            "Gradient Descent(41/49): loss=30.77177573765891, w0=73.29392200210519, w1=13.479712434989048\n",
            "Gradient Descent(42/49): loss=30.77177573765891, w0=73.29392200210519, w1=13.479712434989048\n",
            "Gradient Descent(43/49): loss=30.77177573765891, w0=73.29392200210519, w1=13.479712434989048\n",
            "Gradient Descent(44/49): loss=30.77177573765891, w0=73.29392200210519, w1=13.479712434989048\n",
            "Gradient Descent(45/49): loss=30.77177573765891, w0=73.29392200210519, w1=13.479712434989048\n",
            "Gradient Descent(46/49): loss=30.77177573765891, w0=73.29392200210519, w1=13.479712434989048\n",
            "Gradient Descent(47/49): loss=30.77177573765891, w0=73.29392200210519, w1=13.479712434989048\n",
            "Gradient Descent(48/49): loss=30.77177573765891, w0=73.29392200210519, w1=13.479712434989048\n",
            "Gradient Descent(49/49): loss=30.77177573765891, w0=73.29392200210519, w1=13.479712434989048\n",
            "Gradient Descent: execution time=0.224 seconds\n"
          ],
          "name": "stdout"
        }
      ]
    },
    {
      "cell_type": "code",
      "metadata": {
        "id": "DYioIvuC4R5r",
        "colab_type": "code",
        "colab": {
          "base_uri": "https://localhost:8080/",
          "height": 443,
          "referenced_widgets": [
            "34087f8c5e6644eebd74b6b0604ac1d4",
            "c26c784f79e049f78d190f7ce569ccc5",
            "1c19f6cf3b1b4d17af410a43d876e838",
            "762e37be70c946ebac27cd053e3187c9",
            "4727775060a248cbaabb446340a4a211",
            "25439517258f43088e1339f712ccec52",
            "d5030c42c8244ce7b8bad7cd6e248296"
          ]
        },
        "outputId": "6f3c0e88-2de5-488f-c4bd-bc1d40a75f20"
      },
      "source": [
        "# Time Visualization\n",
        "from ipywidgets import IntSlider, interact\n",
        "\n",
        "def plot_figure(n_iter):\n",
        "    fig = gradient_descent_visualization(\n",
        "        gradient_losses, gradient_ws, grid_losses, grid_w0, grid_w1, mean_x, std_x, height, weight, n_iter)\n",
        "    fig.set_size_inches(10.0, 6.0)\n",
        "\n",
        "interact(plot_figure, n_iter=IntSlider(min=1, max=len(gradient_ws)))"
      ],
      "execution_count": 117,
      "outputs": [
        {
          "output_type": "display_data",
          "data": {
            "application/vnd.jupyter.widget-view+json": {
              "model_id": "34087f8c5e6644eebd74b6b0604ac1d4",
              "version_minor": 0,
              "version_major": 2
            },
            "text/plain": [
              "interactive(children=(IntSlider(value=1, description='n_iter', max=51, min=1), Output()), _dom_classes=('widge…"
            ]
          },
          "metadata": {
            "tags": []
          }
        },
        {
          "output_type": "execute_result",
          "data": {
            "text/plain": [
              "<function __main__.plot_figure>"
            ]
          },
          "metadata": {
            "tags": []
          },
          "execution_count": 117
        }
      ]
    },
    {
      "cell_type": "code",
      "metadata": {
        "id": "O98AHohhtkFp",
        "colab_type": "code",
        "colab": {
          "base_uri": "https://localhost:8080/",
          "height": 34
        },
        "outputId": "fd056c88-374e-42b5-b084-61a1accb7ee8"
      },
      "source": [
        "batch_iter(y,tx,1)"
      ],
      "execution_count": 120,
      "outputs": [
        {
          "output_type": "execute_result",
          "data": {
            "text/plain": [
              "<generator object batch_iter at 0x7fe02afabd00>"
            ]
          },
          "metadata": {
            "tags": []
          },
          "execution_count": 120
        }
      ]
    },
    {
      "cell_type": "markdown",
      "metadata": {
        "id": "ynJ9e8454R5y",
        "colab_type": "text"
      },
      "source": [
        "# 4 Stochastic gradient descent"
      ]
    },
    {
      "cell_type": "code",
      "metadata": {
        "id": "GRFTbKRC4R5z",
        "colab_type": "code",
        "colab": {}
      },
      "source": [
        "def compute_stoch_gradient(y, tx, w):\n",
        "    \"\"\" COMPUTE_STOCH_GRADIENT\n",
        "        Compute a stochastic gradient from just few examples n and\n",
        "        their corresponding y_n labels.\n",
        "    \"\"\"\n",
        "    return -1/len(y) * tx.T @ (y - tx @ w)\n",
        "\n",
        "\n",
        "def stochastic_gradient_descent(\n",
        "        y, tx, initial_w, batch_size, max_iters, gamma):\n",
        "    \"\"\"Stochastic gradient descent algorithm.\"\"\"\n",
        "    data_size = len(y)\n",
        "    # Define parameters to store w and loss\n",
        "    ws = [initial_w]\n",
        "    losses = []\n",
        "    w = initial_w\n",
        "    for n_iter in range(max_iters):\n",
        "        # generate a batch dataset\n",
        "        shuffle_indices = np.random.permutation(np.arange(data_size))\n",
        "        batch_y = y[shuffle_indices < batch_size]\n",
        "        batch_tx = tx[shuffle_indices < batch_size]\n",
        "        # compute the gradient and loss given the current w\n",
        "        grad = compute_gradient_mse(batch_y, batch_tx, w)\n",
        "        loss = compute_loss_mse(batch_y, batch_tx, w)\n",
        "        # update w by gradient descent\n",
        "        w = w - gamma*grad\n",
        "        # store w and loss\n",
        "        ws.append(w)\n",
        "        losses.append(loss)\n",
        "        print(\"Stochastic gradient Descent({bi}/{ti}): loss={l}, w0={w0}, w1={w1}\".format(\n",
        "              bi=n_iter, ti=max_iters - 1, l=loss, w0=w[0], w1=w[1]))\n",
        "    return losses, ws"
      ],
      "execution_count": 135,
      "outputs": []
    },
    {
      "cell_type": "code",
      "metadata": {
        "id": "7jM-qrUm4R53",
        "colab_type": "code",
        "colab": {
          "base_uri": "https://localhost:8080/",
          "height": 874
        },
        "outputId": "2ac85c23-5384-4796-a7c8-7bf00b6a40e7"
      },
      "source": [
        "# from stochastic_gradient_descent import *\n",
        "\n",
        "# Define the parameters of the algorithm.\n",
        "max_iters = 50\n",
        "gamma = 0.7\n",
        "batch_size = 5\n",
        "\n",
        "# Initialization\n",
        "w_initial = np.array([0, 0])\n",
        "\n",
        "# Start SGD.\n",
        "start_time = datetime.datetime.now()\n",
        "sgd_losses, sgd_ws = stochastic_gradient_descent(\n",
        "    y, tx, w_initial, batch_size, max_iters, gamma)\n",
        "end_time = datetime.datetime.now()\n",
        "\n",
        "# Print result\n",
        "exection_time = (end_time - start_time).total_seconds()\n",
        "print(\"SGD: execution time={t:.3f} seconds\".format(t=exection_time))"
      ],
      "execution_count": 138,
      "outputs": [
        {
          "output_type": "stream",
          "text": [
            "Stochastic gradient Descent(0/49): loss=5521.961617011169, w0=51.58871051445896, w1=-1.9784182400472552\n",
            "Stochastic gradient Descent(1/49): loss=997.7297857823345, w0=72.37653267788635, w1=5.647818512357927\n",
            "Stochastic gradient Descent(2/49): loss=106.058070031023, w0=73.06016142383397, w1=10.801765802706061\n",
            "Stochastic gradient Descent(3/49): loss=9.738049399588323, w0=73.95877255769784, w1=10.099604930848912\n",
            "Stochastic gradient Descent(4/49): loss=41.17379408470084, w0=75.1757316482757, w1=12.933231994377868\n",
            "Stochastic gradient Descent(5/49): loss=11.651602200971116, w0=75.70941954101188, w1=13.12226916033982\n",
            "Stochastic gradient Descent(6/49): loss=58.60809508758857, w0=74.00775602763521, w1=13.401058234689298\n",
            "Stochastic gradient Descent(7/49): loss=22.533252488908172, w0=73.86263013774273, w1=11.04974808127395\n",
            "Stochastic gradient Descent(8/49): loss=22.446755886284762, w0=74.22911900615418, w1=12.184430891865686\n",
            "Stochastic gradient Descent(9/49): loss=48.902894290953554, w0=73.85904163947984, w1=13.616937713029749\n",
            "Stochastic gradient Descent(10/49): loss=34.91361540056566, w0=74.16854286899445, w1=13.015952021408982\n",
            "Stochastic gradient Descent(11/49): loss=22.705042653060378, w0=74.46436175293898, w1=13.78377619533902\n",
            "Stochastic gradient Descent(12/49): loss=9.881849709887007, w0=73.53220942492553, w1=14.945915749497026\n",
            "Stochastic gradient Descent(13/49): loss=34.316294794305776, w0=73.64423956709345, w1=13.647599955103587\n",
            "Stochastic gradient Descent(14/49): loss=31.435199032187295, w0=73.83382270081682, w1=14.972444883384636\n",
            "Stochastic gradient Descent(15/49): loss=33.97803156432947, w0=71.42679581450592, w1=13.804497995053017\n",
            "Stochastic gradient Descent(16/49): loss=19.10773303193937, w0=73.3292411997685, w1=15.442720783172836\n",
            "Stochastic gradient Descent(17/49): loss=62.3331612432749, w0=68.82850872624881, w1=14.068006387400693\n",
            "Stochastic gradient Descent(18/49): loss=49.718917976039556, w0=69.56212216916799, w1=11.007306726640598\n",
            "Stochastic gradient Descent(19/49): loss=38.40559631737891, w0=71.13143618032618, w1=12.452282835482842\n",
            "Stochastic gradient Descent(20/49): loss=42.322892808355626, w0=72.25258062363446, w1=14.347197323929342\n",
            "Stochastic gradient Descent(21/49): loss=8.214421536799199, w0=73.23583784130771, w1=15.321905182992664\n",
            "Stochastic gradient Descent(22/49): loss=31.94827991563637, w0=72.00850815399315, w1=16.35864428890408\n",
            "Stochastic gradient Descent(23/49): loss=27.43228845791753, w0=72.27500950398105, w1=14.921180471949885\n",
            "Stochastic gradient Descent(24/49): loss=26.379467255691498, w0=74.07449566689021, w1=15.30015077835385\n",
            "Stochastic gradient Descent(25/49): loss=40.79928801911182, w0=73.0043451536161, w1=12.351923042116585\n",
            "Stochastic gradient Descent(26/49): loss=15.10383578709831, w0=72.96923774314736, w1=11.242436028800192\n",
            "Stochastic gradient Descent(27/49): loss=31.83134396846624, w0=72.63837974702138, w1=13.492488222817085\n",
            "Stochastic gradient Descent(28/49): loss=10.476549620442526, w0=70.52286639668105, w1=13.573385594535372\n",
            "Stochastic gradient Descent(29/49): loss=20.47656581518864, w0=72.76060081097495, w1=14.74636392305973\n",
            "Stochastic gradient Descent(30/49): loss=21.10134008072258, w0=73.56373193738052, w1=14.190405956361092\n",
            "Stochastic gradient Descent(31/49): loss=19.618207787713878, w0=71.60897729248298, w1=15.449399659967755\n",
            "Stochastic gradient Descent(32/49): loss=19.897759460799683, w0=73.67340866144096, w1=14.755748988537631\n",
            "Stochastic gradient Descent(33/49): loss=16.50851569519734, w0=71.98322659337374, w1=15.240336924250066\n",
            "Stochastic gradient Descent(34/49): loss=13.46342132012065, w0=73.73943043281123, w1=14.134062143461115\n",
            "Stochastic gradient Descent(35/49): loss=27.238432722490494, w0=71.94125377479526, w1=15.863849021124603\n",
            "Stochastic gradient Descent(36/49): loss=47.170102048180226, w0=73.31173971119435, w1=15.06612196384345\n",
            "Stochastic gradient Descent(37/49): loss=59.62456383990108, w0=76.55226878099573, w1=12.218322406192003\n",
            "Stochastic gradient Descent(38/49): loss=40.799846549959334, w0=73.30378392990038, w1=11.656525385610594\n",
            "Stochastic gradient Descent(39/49): loss=48.0255135148392, w0=73.22206562321638, w1=12.193847035686424\n",
            "Stochastic gradient Descent(40/49): loss=11.13994222417237, w0=73.53134066105115, w1=13.933089635600316\n",
            "Stochastic gradient Descent(41/49): loss=18.4200431633925, w0=72.87609120318193, w1=15.86795346297815\n",
            "Stochastic gradient Descent(42/49): loss=38.32257626351282, w0=73.31301365777536, w1=13.048813836716938\n",
            "Stochastic gradient Descent(43/49): loss=65.72578035334016, w0=70.026937240551, w1=12.239277534663838\n",
            "Stochastic gradient Descent(44/49): loss=32.298455371906385, w0=73.66955365354518, w1=13.565730124501213\n",
            "Stochastic gradient Descent(45/49): loss=28.013475826058407, w0=73.96724736105423, w1=14.380917152774865\n",
            "Stochastic gradient Descent(46/49): loss=41.800408012423844, w0=75.71507178080483, w1=15.379361738732234\n",
            "Stochastic gradient Descent(47/49): loss=31.79359990864588, w0=74.75244342178168, w1=14.861419872462372\n",
            "Stochastic gradient Descent(48/49): loss=43.57371416602727, w0=71.27574369359519, w1=15.54158836324831\n",
            "Stochastic gradient Descent(49/49): loss=7.928015187054302, w0=70.63753429380382, w1=16.59925587188487\n",
            "SGD: execution time=0.032 seconds\n"
          ],
          "name": "stdout"
        }
      ]
    },
    {
      "cell_type": "code",
      "metadata": {
        "id": "K51ThNBM4R58",
        "colab_type": "code",
        "colab": {
          "base_uri": "https://localhost:8080/",
          "height": 443,
          "referenced_widgets": [
            "6fa4786e0a6147938c00867b94c7a34b",
            "e5aa88b87f5f4c91a27a773672729c78",
            "a205d21a26f84251a113ba903e8c1fbc",
            "e83c9d9f7274469483e64962513f056a",
            "c9cec6f4a24e42348ddccaef7fbd4988",
            "33509e899e2e41df8d906a91a47f7bcc",
            "881c2236fddc4437a513230e48344cf1"
          ]
        },
        "outputId": "9b5cac04-f2b3-4f06-c3e1-917544a4c093"
      },
      "source": [
        "# Time Visualization\n",
        "from ipywidgets import IntSlider, interact\n",
        "def plot_figure(n_iter):\n",
        "    fig = gradient_descent_visualization(\n",
        "        sgd_losses, sgd_ws, grid_losses, grid_w0, grid_w1, mean_x, std_x, height, weight, n_iter)\n",
        "    fig.set_size_inches(10.0, 6.0)\n",
        "\n",
        "interact(plot_figure, n_iter=IntSlider(min=1, max=len(gradient_ws)))"
      ],
      "execution_count": 139,
      "outputs": [
        {
          "output_type": "display_data",
          "data": {
            "application/vnd.jupyter.widget-view+json": {
              "model_id": "6fa4786e0a6147938c00867b94c7a34b",
              "version_minor": 0,
              "version_major": 2
            },
            "text/plain": [
              "interactive(children=(IntSlider(value=1, description='n_iter', max=51, min=1), Output()), _dom_classes=('widge…"
            ]
          },
          "metadata": {
            "tags": []
          }
        },
        {
          "output_type": "execute_result",
          "data": {
            "text/plain": [
              "<function __main__.plot_figure>"
            ]
          },
          "metadata": {
            "tags": []
          },
          "execution_count": 139
        }
      ]
    },
    {
      "cell_type": "markdown",
      "metadata": {
        "id": "OPRgT8-_4R6D",
        "colab_type": "text"
      },
      "source": [
        "# 5 Effect of Outliers"
      ]
    },
    {
      "cell_type": "markdown",
      "metadata": {
        "id": "GiI48UPm4R6D",
        "colab_type": "text"
      },
      "source": [
        "### Exercise 5\n"
      ]
    },
    {
      "cell_type": "code",
      "metadata": {
        "id": "ckAxteP-4R6E",
        "colab_type": "code",
        "colab": {}
      },
      "source": [
        ""
      ],
      "execution_count": null,
      "outputs": []
    },
    {
      "cell_type": "markdown",
      "metadata": {
        "id": "iCnPJPV14R6I",
        "colab_type": "text"
      },
      "source": [
        "# 6 Subgradient Descent"
      ]
    },
    {
      "cell_type": "markdown",
      "metadata": {
        "id": "8j3a0oe_4R6J",
        "colab_type": "text"
      },
      "source": [
        "### Exercise 6"
      ]
    },
    {
      "cell_type": "markdown",
      "metadata": {
        "id": "pFG8WDpY4R6J",
        "colab_type": "text"
      },
      "source": [
        "Modify the function `compute_loss(y, tx, w)` for the Mean Absolute Error cost function [here](#compute_loss)"
      ]
    },
    {
      "cell_type": "code",
      "metadata": {
        "id": "0pTQDa7p4R6L",
        "colab_type": "code",
        "colab": {}
      },
      "source": [
        ""
      ],
      "execution_count": null,
      "outputs": []
    }
  ]
}