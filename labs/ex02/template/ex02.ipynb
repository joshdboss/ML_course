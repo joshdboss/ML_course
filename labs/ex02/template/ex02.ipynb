{
  "nbformat": 4,
  "nbformat_minor": 0,
  "metadata": {
    "anaconda-cloud": {},
    "kernelspec": {
      "display_name": "Python 3",
      "language": "python",
      "name": "python3"
    },
    "language_info": {
      "codemirror_mode": {
        "name": "ipython",
        "version": 3
      },
      "file_extension": ".py",
      "mimetype": "text/x-python",
      "name": "python",
      "nbconvert_exporter": "python",
      "pygments_lexer": "ipython3",
      "version": "3.6.10"
    },
    "colab": {
      "name": "ex02.ipynb",
      "provenance": []
    },
    "widgets": {
      "application/vnd.jupyter.widget-state+json": {
        "34087f8c5e6644eebd74b6b0604ac1d4": {
          "model_module": "@jupyter-widgets/controls",
          "model_name": "VBoxModel",
          "state": {
            "_view_name": "VBoxView",
            "_dom_classes": [
              "widget-interact"
            ],
            "_model_name": "VBoxModel",
            "_view_module": "@jupyter-widgets/controls",
            "_model_module_version": "1.5.0",
            "_view_count": null,
            "_view_module_version": "1.5.0",
            "box_style": "",
            "layout": "IPY_MODEL_c26c784f79e049f78d190f7ce569ccc5",
            "_model_module": "@jupyter-widgets/controls",
            "children": [
              "IPY_MODEL_1c19f6cf3b1b4d17af410a43d876e838",
              "IPY_MODEL_762e37be70c946ebac27cd053e3187c9"
            ]
          }
        },
        "c26c784f79e049f78d190f7ce569ccc5": {
          "model_module": "@jupyter-widgets/base",
          "model_name": "LayoutModel",
          "state": {
            "_view_name": "LayoutView",
            "grid_template_rows": null,
            "right": null,
            "justify_content": null,
            "_view_module": "@jupyter-widgets/base",
            "overflow": null,
            "_model_module_version": "1.2.0",
            "_view_count": null,
            "flex_flow": null,
            "width": null,
            "min_width": null,
            "border": null,
            "align_items": null,
            "bottom": null,
            "_model_module": "@jupyter-widgets/base",
            "top": null,
            "grid_column": null,
            "overflow_y": null,
            "overflow_x": null,
            "grid_auto_flow": null,
            "grid_area": null,
            "grid_template_columns": null,
            "flex": null,
            "_model_name": "LayoutModel",
            "justify_items": null,
            "grid_row": null,
            "max_height": null,
            "align_content": null,
            "visibility": null,
            "align_self": null,
            "height": null,
            "min_height": null,
            "padding": null,
            "grid_auto_rows": null,
            "grid_gap": null,
            "max_width": null,
            "order": null,
            "_view_module_version": "1.2.0",
            "grid_template_areas": null,
            "object_position": null,
            "object_fit": null,
            "grid_auto_columns": null,
            "margin": null,
            "display": null,
            "left": null
          }
        },
        "1c19f6cf3b1b4d17af410a43d876e838": {
          "model_module": "@jupyter-widgets/controls",
          "model_name": "IntSliderModel",
          "state": {
            "_view_name": "IntSliderView",
            "style": "IPY_MODEL_4727775060a248cbaabb446340a4a211",
            "_dom_classes": [],
            "description": "n_iter",
            "step": 1,
            "_model_name": "IntSliderModel",
            "orientation": "horizontal",
            "max": 51,
            "_view_module": "@jupyter-widgets/controls",
            "_model_module_version": "1.5.0",
            "value": 44,
            "_view_count": null,
            "disabled": false,
            "_view_module_version": "1.5.0",
            "min": 1,
            "continuous_update": true,
            "readout_format": "d",
            "description_tooltip": null,
            "readout": true,
            "_model_module": "@jupyter-widgets/controls",
            "layout": "IPY_MODEL_25439517258f43088e1339f712ccec52"
          }
        },
        "762e37be70c946ebac27cd053e3187c9": {
          "model_module": "@jupyter-widgets/output",
          "model_name": "OutputModel",
          "state": {
            "_view_name": "OutputView",
            "msg_id": "",
            "_dom_classes": [],
            "_model_name": "OutputModel",
            "outputs": [
              {
                "output_type": "display_data",
                "metadata": {
                  "tags": [],
                  "needs_background": "light"
                },
                "image/png": "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\n",
                "text/plain": "<Figure size 720x432 with 3 Axes>"
              }
            ],
            "_view_module": "@jupyter-widgets/output",
            "_model_module_version": "1.0.0",
            "_view_count": null,
            "_view_module_version": "1.0.0",
            "layout": "IPY_MODEL_d5030c42c8244ce7b8bad7cd6e248296",
            "_model_module": "@jupyter-widgets/output"
          }
        },
        "4727775060a248cbaabb446340a4a211": {
          "model_module": "@jupyter-widgets/controls",
          "model_name": "SliderStyleModel",
          "state": {
            "_view_name": "StyleView",
            "handle_color": null,
            "_model_name": "SliderStyleModel",
            "description_width": "",
            "_view_module": "@jupyter-widgets/base",
            "_model_module_version": "1.5.0",
            "_view_count": null,
            "_view_module_version": "1.2.0",
            "_model_module": "@jupyter-widgets/controls"
          }
        },
        "25439517258f43088e1339f712ccec52": {
          "model_module": "@jupyter-widgets/base",
          "model_name": "LayoutModel",
          "state": {
            "_view_name": "LayoutView",
            "grid_template_rows": null,
            "right": null,
            "justify_content": null,
            "_view_module": "@jupyter-widgets/base",
            "overflow": null,
            "_model_module_version": "1.2.0",
            "_view_count": null,
            "flex_flow": null,
            "width": null,
            "min_width": null,
            "border": null,
            "align_items": null,
            "bottom": null,
            "_model_module": "@jupyter-widgets/base",
            "top": null,
            "grid_column": null,
            "overflow_y": null,
            "overflow_x": null,
            "grid_auto_flow": null,
            "grid_area": null,
            "grid_template_columns": null,
            "flex": null,
            "_model_name": "LayoutModel",
            "justify_items": null,
            "grid_row": null,
            "max_height": null,
            "align_content": null,
            "visibility": null,
            "align_self": null,
            "height": null,
            "min_height": null,
            "padding": null,
            "grid_auto_rows": null,
            "grid_gap": null,
            "max_width": null,
            "order": null,
            "_view_module_version": "1.2.0",
            "grid_template_areas": null,
            "object_position": null,
            "object_fit": null,
            "grid_auto_columns": null,
            "margin": null,
            "display": null,
            "left": null
          }
        },
        "d5030c42c8244ce7b8bad7cd6e248296": {
          "model_module": "@jupyter-widgets/base",
          "model_name": "LayoutModel",
          "state": {
            "_view_name": "LayoutView",
            "grid_template_rows": null,
            "right": null,
            "justify_content": null,
            "_view_module": "@jupyter-widgets/base",
            "overflow": null,
            "_model_module_version": "1.2.0",
            "_view_count": null,
            "flex_flow": null,
            "width": null,
            "min_width": null,
            "border": null,
            "align_items": null,
            "bottom": null,
            "_model_module": "@jupyter-widgets/base",
            "top": null,
            "grid_column": null,
            "overflow_y": null,
            "overflow_x": null,
            "grid_auto_flow": null,
            "grid_area": null,
            "grid_template_columns": null,
            "flex": null,
            "_model_name": "LayoutModel",
            "justify_items": null,
            "grid_row": null,
            "max_height": null,
            "align_content": null,
            "visibility": null,
            "align_self": null,
            "height": null,
            "min_height": null,
            "padding": null,
            "grid_auto_rows": null,
            "grid_gap": null,
            "max_width": null,
            "order": null,
            "_view_module_version": "1.2.0",
            "grid_template_areas": null,
            "object_position": null,
            "object_fit": null,
            "grid_auto_columns": null,
            "margin": null,
            "display": null,
            "left": null
          }
        }
      }
    }
  },
  "cells": [
    {
      "cell_type": "code",
      "metadata": {
        "id": "E36Dmb944R4f",
        "colab_type": "code",
        "colab": {}
      },
      "source": [
        "# Useful starting lines\n",
        "%matplotlib inline\n",
        "import numpy as np\n",
        "import matplotlib.pyplot as plt\n",
        "%load_ext autoreload\n",
        "%autoreload 2"
      ],
      "execution_count": 1,
      "outputs": []
    },
    {
      "cell_type": "code",
      "metadata": {
        "id": "n9wTXLa64WaB",
        "colab_type": "code",
        "colab": {}
      },
      "source": [
        "from google.colab import drive\n",
        "drive.mount('/content/drive')"
      ],
      "execution_count": null,
      "outputs": []
    },
    {
      "cell_type": "markdown",
      "metadata": {
        "id": "XF4whlJ24R4l",
        "colab_type": "text"
      },
      "source": [
        "# Load the data"
      ]
    },
    {
      "cell_type": "code",
      "metadata": {
        "id": "7527Di4P4R4m",
        "colab_type": "code",
        "colab": {}
      },
      "source": [
        "import datetime\n",
        "from helpers import *\n",
        "\n",
        "height, weight, gender = load_data(sub_sample=False, add_outlier=False)\n",
        "x, mean_x, std_x = standardize(height)\n",
        "y, tx = build_model_data(x, weight)"
      ],
      "execution_count": 3,
      "outputs": []
    },
    {
      "cell_type": "code",
      "metadata": {
        "id": "mOWLuxyF4R4w",
        "colab_type": "code",
        "colab": {},
        "outputId": "050db524-94c1-4f38-ba55-a9115f3d18dc"
      },
      "source": [
        "y.shape, tx.shape"
      ],
      "execution_count": null,
      "outputs": [
        {
          "output_type": "execute_result",
          "data": {
            "text/plain": [
              "((10000,), (10000, 2))"
            ]
          },
          "metadata": {
            "tags": []
          },
          "execution_count": 3
        }
      ]
    },
    {
      "cell_type": "markdown",
      "metadata": {
        "id": "NXJdtBJY4R42",
        "colab_type": "text"
      },
      "source": [
        "# 1 Computing the Cost Function"
      ]
    },
    {
      "cell_type": "markdown",
      "metadata": {
        "id": "2btbowMg4R43",
        "colab_type": "text"
      },
      "source": [
        "Fill in the `compute_loss` function below:\n",
        "<a id='compute_loss'></a>\n"
      ]
    },
    {
      "cell_type": "code",
      "metadata": {
        "id": "ATTGqHEo4R43",
        "colab_type": "code",
        "colab": {}
      },
      "source": [
        "def compute_loss_mse(y, tx, w):\n",
        "    \"\"\" COMPUTE_LOSS_MSE\n",
        "        Calculates the loss of a dataset using MSE.\n",
        "\n",
        "        INPUTS:\n",
        "        y: an Nx1 array of the output variable\n",
        "        tx: an Nxd array of the input variable\n",
        "        w: a dx1 array of the model\n",
        "\n",
        "        OUTPUTS:\n",
        "        A scalar of the mean square error of the model applied on the dataset\n",
        "    \"\"\"\n",
        "    return sum((y - tx @ w)**2)/len(y)"
      ],
      "execution_count": 23,
      "outputs": []
    },
    {
      "cell_type": "code",
      "metadata": {
        "id": "s_PFstvf4tzS",
        "colab_type": "code",
        "colab": {
          "base_uri": "https://localhost:8080/",
          "height": 34
        },
        "outputId": "4f4e8342-4b81-425d-c6ca-0898d6b0c410"
      },
      "source": [
        "w = np.array([50.0,-75.0]).T\n",
        "compute_loss_mse(y, tx, w)"
      ],
      "execution_count": 52,
      "outputs": [
        {
          "output_type": "execute_result",
          "data": {
            "text/plain": [
              "8402.038090556176"
            ]
          },
          "metadata": {
            "tags": []
          },
          "execution_count": 52
        }
      ]
    },
    {
      "cell_type": "markdown",
      "metadata": {
        "id": "j3KXEKjn4R4_",
        "colab_type": "text"
      },
      "source": [
        "# 2 Grid Search\n",
        "\n",
        "Fill in the function `grid_search()` below:"
      ]
    },
    {
      "cell_type": "code",
      "metadata": {
        "id": "rzb791fV4R5A",
        "colab_type": "code",
        "colab": {}
      },
      "source": [
        "def grid_search(y, tx, w0, w1):\n",
        "    \"\"\" GRID_SEARCH\n",
        "        Performs a naive grid search of parameters w0 and w1 as a model\n",
        "        for the output variable y\n",
        "\n",
        "        INPUTS:\n",
        "        y: an Nx1 array of the output variable\n",
        "        tx: an Nxd array of the input variable\n",
        "        w0: An m-dimensional array of the first elements (offset) of the model\n",
        "        w1: An n-dimensional array of the second elements of the model\n",
        "\n",
        "        OUTPUTS:\n",
        "        An m by n array of the costs for each of the combinations of w0 and w1\n",
        "    \"\"\"\n",
        "    losses = np.zeros((len(w0), len(w1)))\n",
        "\n",
        "    for i in range(0,len(w0)):\n",
        "      for j in range(0,len(w1)):\n",
        "        losses[i,j] = compute_loss_mse(y, tx, np.array([w0[i],w1[j]]).T)\n",
        "    return losses"
      ],
      "execution_count": 54,
      "outputs": []
    },
    {
      "cell_type": "markdown",
      "metadata": {
        "id": "e_GZwB_D4R5H",
        "colab_type": "text"
      },
      "source": [
        "Let us play with the grid search demo now!"
      ]
    },
    {
      "cell_type": "code",
      "metadata": {
        "id": "i7g_B5Z84R5I",
        "colab_type": "code",
        "colab": {
          "base_uri": "https://localhost:8080/",
          "height": 411
        },
        "outputId": "dcd81131-72e2-48ec-cc89-f848b4282ae0"
      },
      "source": [
        "from grid_search import generate_w, get_best_parameters\n",
        "from plots import grid_visualization\n",
        "\n",
        "# Generate the grid of parameters to be swept\n",
        "grid_w0, grid_w1 = generate_w(num_intervals=10)\n",
        "\n",
        "# Start the grid search\n",
        "start_time = datetime.datetime.now()\n",
        "grid_losses = grid_search(y, tx, grid_w0, grid_w1)\n",
        "\n",
        "# Select the best combinaison\n",
        "loss_star, w0_star, w1_star = get_best_parameters(grid_w0, grid_w1, grid_losses)\n",
        "end_time = datetime.datetime.now()\n",
        "execution_time = (end_time - start_time).total_seconds()\n",
        "\n",
        "# Print the results\n",
        "print(\"Grid Search: loss*={l}, w0*={w0}, w1*={w1}, execution time={t:.3f} seconds\".format(\n",
        "      l=loss_star, w0=w0_star, w1=w1_star, t=execution_time))\n",
        "\n",
        "# Plot the results\n",
        "fig = grid_visualization(grid_losses, grid_w0, grid_w1, mean_x, std_x, height, weight)\n",
        "fig.set_size_inches(10.0,6.0)\n",
        "fig.savefig(\"grid_plot\")  # Optional saving"
      ],
      "execution_count": 56,
      "outputs": [
        {
          "output_type": "stream",
          "text": [
            "Grid Search: loss*=84.84896629356506, w0*=66.66666666666669, w1*=16.666666666666686, execution time=0.392 seconds\n"
          ],
          "name": "stdout"
        },
        {
          "output_type": "display_data",
          "data": {
            "image/png": "[encoded data removed]",
            "text/plain": [
              "<Figure size 720x432 with 3 Axes>"
            ]
          },
          "metadata": {
            "tags": [],
            "needs_background": "light"
          }
        }
      ]
    },
    {
      "cell_type": "markdown",
      "metadata": {
        "id": "ZW0nvsT24R5U",
        "colab_type": "text"
      },
      "source": [
        "# 3 Gradient Descent"
      ]
    },
    {
      "cell_type": "markdown",
      "metadata": {
        "id": "4NRoTLnQ4R5V",
        "colab_type": "text"
      },
      "source": [
        "Again, please fill in the functions `compute_gradient` below:"
      ]
    },
    {
      "cell_type": "code",
      "metadata": {
        "id": "fiK6_zCU4R5W",
        "colab_type": "code",
        "colab": {}
      },
      "source": [
        "def compute_gradient_mse(y, tx, w):\n",
        "    \"\"\" COMPUTE_GRADIENT\n",
        "        Computes the gradient of the MSE of a model applied on a set\n",
        "\n",
        "        INPUTS:\n",
        "        y: an Nx1 array of the output variable\n",
        "        tx: an Nxd array of the input variable\n",
        "        w: a dx1 array of the model\n",
        "\n",
        "        OUTPUTS:\n",
        "        A dx1 array of the gradient \n",
        "    \"\"\"\n",
        "    return -1/len(y) * tx.T @ (y - tx @ w)"
      ],
      "execution_count": 84,
      "outputs": []
    },
    {
      "cell_type": "code",
      "metadata": {
        "id": "TOJHAhP6Wigz",
        "colab_type": "code",
        "colab": {
          "base_uri": "https://localhost:8080/",
          "height": 34
        },
        "outputId": "9498bc20-71a3-48d8-a886-634029b4d510"
      },
      "source": [
        "w_test1 = np.array([100,20]).T\n",
        "w_test2 = np.array([50,10]).T\n",
        "grad1 = compute_gradient_mse(y,tx,w_test1)\n",
        "grad2 = compute_gradient_mse(y,tx,w_test2)\n",
        "print('Gradient 1: %s, Gradient 2: %s' % (grad1, grad2))"
      ],
      "execution_count": 87,
      "outputs": [
        {
          "output_type": "stream",
          "text": [
            "Gradient 1: [26.706078    6.52028757], Gradient 2: [-23.293922    -3.47971243]\n"
          ],
          "name": "stdout"
        }
      ]
    },
    {
      "cell_type": "code",
      "metadata": {
        "id": "oYttjhhQW9Um",
        "colab_type": "code",
        "colab": {
          "base_uri": "https://localhost:8080/",
          "height": 34
        },
        "outputId": "25846fe2-20a7-4135-e5df-0fea6373e519"
      },
      "source": [
        "np.linalg.norm(grad2)"
      ],
      "execution_count": 90,
      "outputs": [
        {
          "output_type": "execute_result",
          "data": {
            "text/plain": [
              "23.55239267824768"
            ]
          },
          "metadata": {
            "tags": []
          },
          "execution_count": 90
        }
      ]
    },
    {
      "cell_type": "markdown",
      "metadata": {
        "id": "0X2vycdv4R5c",
        "colab_type": "text"
      },
      "source": [
        "Please fill in the functions `gradient_descent` below:"
      ]
    },
    {
      "cell_type": "code",
      "metadata": {
        "id": "3AJG0jwz4R5e",
        "colab_type": "code",
        "colab": {}
      },
      "source": [
        "def gradient_descent_mse(y, tx, initial_w, max_iters, gamma):\n",
        "    \"\"\" GRADIENT_DESCENT\n",
        "        Iterates and finds the best model using gradient descent and MSE\n",
        "\n",
        "        INPUTS:\n",
        "        y: an Nx1 array of the output variable\n",
        "        tx: an Nxd array of the input variable\n",
        "        initial_w: a dx1 array of the initial model to use\n",
        "        max_iters: a scalar representing the maximum number of iterations\n",
        "        gamma: a scalar representing the step size/learning rate\n",
        "\n",
        "        OUTPUTS:\n",
        "        losses: a max_iters dimensional array representing losses for iterations\n",
        "        ws: a max_iters dimensional array representing models over iterations\n",
        "    \"\"\"\n",
        "    \"\"\"Gradient descent algorithm.\"\"\"\n",
        "    # Define parameters to store w and loss\n",
        "    ws = [initial_w]\n",
        "    losses = []\n",
        "    w = initial_w\n",
        "    for n_iter in range(max_iters):\n",
        "        # compute the gradient and loss given the current w\n",
        "        grad = compute_gradient_mse(y, tx, w)\n",
        "        loss = compute_loss_mse(y, tx, w)\n",
        "        # update w by gradient descent\n",
        "        w = w - gamma*grad\n",
        "        # store w and loss\n",
        "        ws.append(w)\n",
        "        losses.append(loss)\n",
        "        print(\"Gradient Descent({bi}/{ti}): loss={l}, w0={w0}, w1={w1}\".format(\n",
        "              bi=n_iter, ti=max_iters - 1, l=loss, w0=w[0], w1=w[1]))\n",
        "\n",
        "    return losses, ws"
      ],
      "execution_count": 95,
      "outputs": []
    },
    {
      "cell_type": "markdown",
      "metadata": {
        "id": "Hj4doDiP4R5j",
        "colab_type": "text"
      },
      "source": [
        "Test your gradient descent function through gradient descent demo shown below:"
      ]
    },
    {
      "cell_type": "code",
      "metadata": {
        "id": "vTWfRSeX4R5l",
        "colab_type": "code",
        "colab": {
          "base_uri": "https://localhost:8080/",
          "height": 874
        },
        "outputId": "a5c9bd49-6e76-4f01-9722-712c2b378fa0"
      },
      "source": [
        "# from gradient_descent import *\n",
        "from plots import gradient_descent_visualization\n",
        "\n",
        "# Define the parameters of the algorithm.\n",
        "max_iters = 50\n",
        "gamma = 0.7\n",
        "\n",
        "# Initialization\n",
        "w_initial = np.array([0,0])\n",
        "\n",
        "# Start gradient descent.\n",
        "start_time = datetime.datetime.now()\n",
        "gradient_losses, gradient_ws = gradient_descent_mse(y, tx, w_initial, max_iters, gamma)\n",
        "end_time = datetime.datetime.now()\n",
        "\n",
        "# Print result\n",
        "exection_time = (end_time - start_time).total_seconds()\n",
        "print(\"Gradient Descent: execution time={t:.3f} seconds\".format(t=exection_time))"
      ],
      "execution_count": 118,
      "outputs": [
        {
          "output_type": "stream",
          "text": [
            "Gradient Descent(0/49): loss=5584.473425518329, w0=51.30574540147363, w1=9.435798704492285\n",
            "Gradient Descent(1/49): loss=530.6049242179226, w0=66.69746902191572, w1=12.26653831583999\n",
            "Gradient Descent(2/49): loss=75.7567591008824, w0=71.31498610804834, w1=13.11576019924432\n",
            "Gradient Descent(3/49): loss=34.82042424034895, w0=72.70024123388814, w1=13.370526764265628\n",
            "Gradient Descent(4/49): loss=31.13615410290091, w0=73.11581777164007, w1=13.446956733772023\n",
            "Gradient Descent(5/49): loss=30.804569790530707, w0=73.24049073296565, w1=13.469885724623941\n",
            "Gradient Descent(6/49): loss=30.77472720241716, w0=73.27789262136334, w1=13.476764421879516\n",
            "Gradient Descent(7/49): loss=30.772041369486974, w0=73.28911318788263, w1=13.478828031056189\n",
            "Gradient Descent(8/49): loss=30.771799644523412, w0=73.29247935783843, w1=13.47944711380919\n",
            "Gradient Descent(9/49): loss=30.771777889276528, w0=73.29348920882516, w1=13.47963283863509\n",
            "Gradient Descent(10/49): loss=30.771775931304298, w0=73.29379216412119, w1=13.479688556082861\n",
            "Gradient Descent(11/49): loss=30.77177575508678, w0=73.29388305071, w1=13.479705271317192\n",
            "Gradient Descent(12/49): loss=30.771775739227316, w0=73.29391031668663, w1=13.479710285887492\n",
            "Gradient Descent(13/49): loss=30.771775737800034, w0=73.29391849647962, w1=13.479711790258582\n",
            "Gradient Descent(14/49): loss=30.771775737671565, w0=73.29392095041752, w1=13.479712241569908\n",
            "Gradient Descent(15/49): loss=30.771775737659965, w0=73.29392168659889, w1=13.479712376963306\n",
            "Gradient Descent(16/49): loss=30.771775737658796, w0=73.2939219074533, w1=13.479712417581325\n",
            "Gradient Descent(17/49): loss=30.771775737658725, w0=73.29392197370962, w1=13.479712429766732\n",
            "Gradient Descent(18/49): loss=30.771775737658928, w0=73.29392199358652, w1=13.479712433422353\n",
            "Gradient Descent(19/49): loss=30.77177573765877, w0=73.2939219995496, w1=13.47971243451904\n",
            "Gradient Descent(20/49): loss=30.771775737658896, w0=73.29392200133852, w1=13.479712434848047\n",
            "Gradient Descent(21/49): loss=30.771775737658814, w0=73.29392200187519, w1=13.479712434946748\n",
            "Gradient Descent(22/49): loss=30.771775737658878, w0=73.2939220020362, w1=13.479712434976358\n",
            "Gradient Descent(23/49): loss=30.771775737658945, w0=73.29392200208449, w1=13.479712434985242\n",
            "Gradient Descent(24/49): loss=30.77177573765899, w0=73.29392200209898, w1=13.479712434987906\n",
            "Gradient Descent(25/49): loss=30.771775737658736, w0=73.29392200210333, w1=13.479712434988706\n",
            "Gradient Descent(26/49): loss=30.771775737658707, w0=73.29392200210464, w1=13.479712434988945\n",
            "Gradient Descent(27/49): loss=30.771775737658782, w0=73.29392200210502, w1=13.479712434989018\n",
            "Gradient Descent(28/49): loss=30.771775737658853, w0=73.29392200210513, w1=13.47971243498904\n",
            "Gradient Descent(29/49): loss=30.77177573765886, w0=73.29392200210518, w1=13.479712434989047\n",
            "Gradient Descent(30/49): loss=30.771775737658906, w0=73.29392200210519, w1=13.479712434989048\n",
            "Gradient Descent(31/49): loss=30.77177573765891, w0=73.29392200210519, w1=13.479712434989048\n",
            "Gradient Descent(32/49): loss=30.77177573765891, w0=73.29392200210519, w1=13.479712434989048\n",
            "Gradient Descent(33/49): loss=30.77177573765891, w0=73.29392200210519, w1=13.479712434989048\n",
            "Gradient Descent(34/49): loss=30.77177573765891, w0=73.29392200210519, w1=13.479712434989048\n",
            "Gradient Descent(35/49): loss=30.77177573765891, w0=73.29392200210519, w1=13.479712434989048\n",
            "Gradient Descent(36/49): loss=30.77177573765891, w0=73.29392200210519, w1=13.479712434989048\n",
            "Gradient Descent(37/49): loss=30.77177573765891, w0=73.29392200210519, w1=13.479712434989048\n",
            "Gradient Descent(38/49): loss=30.77177573765891, w0=73.29392200210519, w1=13.479712434989048\n",
            "Gradient Descent(39/49): loss=30.77177573765891, w0=73.29392200210519, w1=13.479712434989048\n",
            "Gradient Descent(40/49): loss=30.77177573765891, w0=73.29392200210519, w1=13.479712434989048\n",
            "Gradient Descent(41/49): loss=30.77177573765891, w0=73.29392200210519, w1=13.479712434989048\n",
            "Gradient Descent(42/49): loss=30.77177573765891, w0=73.29392200210519, w1=13.479712434989048\n",
            "Gradient Descent(43/49): loss=30.77177573765891, w0=73.29392200210519, w1=13.479712434989048\n",
            "Gradient Descent(44/49): loss=30.77177573765891, w0=73.29392200210519, w1=13.479712434989048\n",
            "Gradient Descent(45/49): loss=30.77177573765891, w0=73.29392200210519, w1=13.479712434989048\n",
            "Gradient Descent(46/49): loss=30.77177573765891, w0=73.29392200210519, w1=13.479712434989048\n",
            "Gradient Descent(47/49): loss=30.77177573765891, w0=73.29392200210519, w1=13.479712434989048\n",
            "Gradient Descent(48/49): loss=30.77177573765891, w0=73.29392200210519, w1=13.479712434989048\n",
            "Gradient Descent(49/49): loss=30.77177573765891, w0=73.29392200210519, w1=13.479712434989048\n",
            "Gradient Descent: execution time=0.224 seconds\n"
          ],
          "name": "stdout"
        }
      ]
    },
    {
      "cell_type": "code",
      "metadata": {
        "id": "DYioIvuC4R5r",
        "colab_type": "code",
        "colab": {
          "base_uri": "https://localhost:8080/",
          "height": 443,
          "referenced_widgets": [
            "34087f8c5e6644eebd74b6b0604ac1d4",
            "c26c784f79e049f78d190f7ce569ccc5",
            "1c19f6cf3b1b4d17af410a43d876e838",
            "762e37be70c946ebac27cd053e3187c9",
            "4727775060a248cbaabb446340a4a211",
            "25439517258f43088e1339f712ccec52",
            "d5030c42c8244ce7b8bad7cd6e248296"
          ]
        },
        "outputId": "6f3c0e88-2de5-488f-c4bd-bc1d40a75f20"
      },
      "source": [
        "# Time Visualization\n",
        "from ipywidgets import IntSlider, interact\n",
        "\n",
        "def plot_figure(n_iter):\n",
        "    fig = gradient_descent_visualization(\n",
        "        gradient_losses, gradient_ws, grid_losses, grid_w0, grid_w1, mean_x, std_x, height, weight, n_iter)\n",
        "    fig.set_size_inches(10.0, 6.0)\n",
        "\n",
        "interact(plot_figure, n_iter=IntSlider(min=1, max=len(gradient_ws)))"
      ],
      "execution_count": 117,
      "outputs": [
        {
          "output_type": "display_data",
          "data": {
            "application/vnd.jupyter.widget-view+json": {
              "model_id": "34087f8c5e6644eebd74b6b0604ac1d4",
              "version_minor": 0,
              "version_major": 2
            },
            "text/plain": [
              "interactive(children=(IntSlider(value=1, description='n_iter', max=51, min=1), Output()), _dom_classes=('widge…"
            ]
          },
          "metadata": {
            "tags": []
          }
        },
        {
          "output_type": "execute_result",
          "data": {
            "text/plain": [
              "<function __main__.plot_figure>"
            ]
          },
          "metadata": {
            "tags": []
          },
          "execution_count": 117
        }
      ]
    },
    {
      "cell_type": "markdown",
      "metadata": {
        "id": "ynJ9e8454R5y",
        "colab_type": "text"
      },
      "source": [
        "# 4 Stochastic gradient descent"
      ]
    },
    {
      "cell_type": "code",
      "metadata": {
        "id": "GRFTbKRC4R5z",
        "colab_type": "code",
        "colab": {}
      },
      "source": [
        "def compute_stoch_gradient(y, tx, w):\n",
        "    \"\"\"Compute a stochastic gradient from just few examples n and their corresponding y_n labels.\"\"\"\n",
        "    # ***************************************************\n",
        "    # INSERT YOUR CODE HERE\n",
        "    # TODO: implement stochastic gradient computation.It's same as the gradient descent.\n",
        "    # ***************************************************\n",
        "    raise NotImplementedError\n",
        "\n",
        "\n",
        "def stochastic_gradient_descent(\n",
        "        y, tx, initial_w, batch_size, max_iters, gamma):\n",
        "    \"\"\"Stochastic gradient descent algorithm.\"\"\"\n",
        "    # ***************************************************\n",
        "    # INSERT YOUR CODE HERE\n",
        "    # TODO: implement stochastic gradient descent.\n",
        "    # ***************************************************\n",
        "    raise NotImplementedError\n",
        "    return losses, ws"
      ],
      "execution_count": null,
      "outputs": []
    },
    {
      "cell_type": "code",
      "metadata": {
        "id": "7jM-qrUm4R53",
        "colab_type": "code",
        "colab": {}
      },
      "source": [
        "# from stochastic_gradient_descent import *\n",
        "\n",
        "# Define the parameters of the algorithm.\n",
        "max_iters = 50\n",
        "gamma = 0.7\n",
        "batch_size = 1\n",
        "\n",
        "# Initialization\n",
        "w_initial = np.array([0, 0])\n",
        "\n",
        "# Start SGD.\n",
        "start_time = datetime.datetime.now()\n",
        "sgd_losses, sgd_ws = stochastic_gradient_descent(\n",
        "    y, tx, w_initial, batch_size, max_iters, gamma)\n",
        "end_time = datetime.datetime.now()\n",
        "\n",
        "# Print result\n",
        "exection_time = (end_time - start_time).total_seconds()\n",
        "print(\"SGD: execution time={t:.3f} seconds\".format(t=exection_time))"
      ],
      "execution_count": null,
      "outputs": []
    },
    {
      "cell_type": "code",
      "metadata": {
        "id": "K51ThNBM4R58",
        "colab_type": "code",
        "colab": {}
      },
      "source": [
        "# Time Visualization\n",
        "from ipywidgets import IntSlider, interact\n",
        "def plot_figure(n_iter):\n",
        "    fig = gradient_descent_visualization(\n",
        "        sgd_losses, sgd_ws, grid_losses, grid_w0, grid_w1, mean_x, std_x, height, weight, n_iter)\n",
        "    fig.set_size_inches(10.0, 6.0)\n",
        "\n",
        "interact(plot_figure, n_iter=IntSlider(min=1, max=len(gradient_ws)))"
      ],
      "execution_count": null,
      "outputs": []
    },
    {
      "cell_type": "markdown",
      "metadata": {
        "id": "OPRgT8-_4R6D",
        "colab_type": "text"
      },
      "source": [
        "# 5 Effect of Outliers"
      ]
    },
    {
      "cell_type": "markdown",
      "metadata": {
        "id": "GiI48UPm4R6D",
        "colab_type": "text"
      },
      "source": [
        "### Exercise 5\n"
      ]
    },
    {
      "cell_type": "code",
      "metadata": {
        "id": "ckAxteP-4R6E",
        "colab_type": "code",
        "colab": {}
      },
      "source": [
        ""
      ],
      "execution_count": null,
      "outputs": []
    },
    {
      "cell_type": "markdown",
      "metadata": {
        "id": "iCnPJPV14R6I",
        "colab_type": "text"
      },
      "source": [
        "# 6 Subgradient Descent"
      ]
    },
    {
      "cell_type": "markdown",
      "metadata": {
        "id": "8j3a0oe_4R6J",
        "colab_type": "text"
      },
      "source": [
        "### Exercise 6"
      ]
    },
    {
      "cell_type": "markdown",
      "metadata": {
        "id": "pFG8WDpY4R6J",
        "colab_type": "text"
      },
      "source": [
        "Modify the function `compute_loss(y, tx, w)` for the Mean Absolute Error cost function [here](#compute_loss)"
      ]
    },
    {
      "cell_type": "code",
      "metadata": {
        "id": "0pTQDa7p4R6L",
        "colab_type": "code",
        "colab": {}
      },
      "source": [
        ""
      ],
      "execution_count": null,
      "outputs": []
    }
  ]
}