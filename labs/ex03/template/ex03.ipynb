{
 "cells": [
  {
   "cell_type": "code",
   "execution_count": 9,
   "metadata": {},
   "outputs": [
    {
     "name": "stdout",
     "output_type": "stream",
     "text": [
      "The autoreload extension is already loaded. To reload it, use:\n",
      "  %reload_ext autoreload\n"
     ]
    }
   ],
   "source": [
    "# Useful starting lines\n",
    "%matplotlib inline\n",
    "import numpy as np\n",
    "import matplotlib.pyplot as plt\n",
    "%load_ext autoreload\n",
    "%autoreload 2"
   ]
  },
  {
   "cell_type": "code",
   "execution_count": 144,
   "metadata": {},
   "outputs": [],
   "source": [
    "def compute_loss_mse(y, tx, w):\n",
    "    \"\"\" COMPUTE_LOSS_MSE\n",
    "        Calculates the loss of a dataset using MSE.\n",
    "\n",
    "        INPUTS:\n",
    "        y: an Nx1 array of the output variable\n",
    "        tx: an Nxd array of the input variable\n",
    "        w: a dx1 array of the model\n",
    "\n",
    "        OUTPUTS:\n",
    "        A scalar of the mean square error of the model applied on the dataset\n",
    "    \"\"\"\n",
    "    return sum((y - tx @ w)**2)/len(y)\n",
    "\n",
    "def compute_loss_rmse(y, tx, w):\n",
    "    \"\"\" COMPUTE_LOSS_RMSE\n",
    "        Calculates the loss of a dataset using RMSE.\n",
    "\n",
    "        INPUTS:\n",
    "        y: an Nx1 array of the output variable\n",
    "        tx: an Nxd array of the input variable\n",
    "        w: a dx1 array of the model\n",
    "\n",
    "        OUTPUTS:\n",
    "        A scalar of the mean square error of the model applied on the dataset\n",
    "    \"\"\"\n",
    "    return np.sqrt(compute_loss_mse(y,tx,w))"
   ]
  },
  {
   "cell_type": "markdown",
   "metadata": {},
   "source": [
    "# 1 Least squares and linear basis functions models\n",
    "## 1.1 Least squares"
   ]
  },
  {
   "cell_type": "code",
   "execution_count": 76,
   "metadata": {},
   "outputs": [],
   "source": [
    "def least_squares(y, tx):\n",
    "    \"\"\" LEAST_SQUARES Calculates the least squares solution\n",
    "        Calculates the least squares solution to a given dataset\n",
    "        Returns the mean square error and optimal weights\n",
    "        \n",
    "        INPUTS\n",
    "        y (Nx1): array of the output data with N datapoints\n",
    "        tx (NxD): array of the input data with N datapoints and D characteristics\n",
    "        \n",
    "        OUTPUTS\n",
    "        MSE: A scalar of the mean square error of the model\n",
    "        w: the optimal weights for the given system\n",
    "    \"\"\"\n",
    "    w = np.linalg.inv(tx.T @ tx) @ tx.T @ y\n",
    "    MSE = compute_loss_mse(y, tx, w)\n",
    "    return MSE, w\n",
    "\n",
    "def calc_rmse(y, tx):\n",
    "    \"\"\" RMSE Calculates the root mean square error\n",
    "        Calculates the least squares solution to a given dataset\n",
    "        Returns the root mean square and optimal weights\n",
    "        \n",
    "        INPUTS\n",
    "        y (Nx1): array of the output data with N datapoints\n",
    "        tx (NxD): array of the input data with N datapoints and D characteristics\n",
    "        \n",
    "        OUTPUTS\n",
    "        MSE: A scalar of the mean square error of the model\n",
    "        w: the optimal weights for the given system\n",
    "    \"\"\"\n",
    "    [MSE, w] = least_squares(y, tx)\n",
    "    return np.sqrt(MSE), w"
   ]
  },
  {
   "cell_type": "code",
   "execution_count": 12,
   "metadata": {},
   "outputs": [],
   "source": [
    "def generate_w(num_intervals):\n",
    "    \"\"\"Generate a grid of values for w0 and w1.\"\"\"\n",
    "    w0 = np.linspace(-100, 200, num_intervals)\n",
    "    w1 = np.linspace(-150, 150, num_intervals)\n",
    "    return w0, w1\n",
    "\n",
    "\n",
    "def get_best_parameters(w0, w1, losses):\n",
    "    \"\"\"Get the best w from the result of grid search.\"\"\"\n",
    "    min_row, min_col = np.unravel_index(np.argmin(losses), losses.shape)\n",
    "    return losses[min_row, min_col], w0[min_row], w1[min_col]\n",
    "\n",
    "def grid_search(y, tx, w0, w1):\n",
    "    \"\"\" GRID_SEARCH\n",
    "        Performs a naive grid search of parameters w0 and w1 as a model\n",
    "        for the output variable y\n",
    "\n",
    "        INPUTS:\n",
    "        y: an Nx1 array of the output variable\n",
    "        tx: an Nxd array of the input variable\n",
    "        w0: An m-dimensional array of the first elements (offset) of the model\n",
    "        w1: An n-dimensional array of the second elements of the model\n",
    "\n",
    "        OUTPUTS:\n",
    "        An m by n array of the costs for each of the combinations of w0 and w1\n",
    "    \"\"\"\n",
    "    losses = np.zeros((len(w0), len(w1)))\n",
    "\n",
    "    for i in range(0,len(w0)):\n",
    "        for j in range(0,len(w1)):\n",
    "            losses[i,j] = compute_loss_mse(y, tx, np.array([w0[i],w1[j]]).T)\n",
    "    return losses"
   ]
  },
  {
   "cell_type": "code",
   "execution_count": 13,
   "metadata": {},
   "outputs": [],
   "source": [
    "def compute_gradient_mse(y, tx, w):\n",
    "    \"\"\" COMPUTE_GRADIENT\n",
    "        Computes the gradient of the MSE of a model applied on a set\n",
    "\n",
    "        INPUTS:\n",
    "        y: an Nx1 array of the output variable\n",
    "        tx: an Nxd array of the input variable\n",
    "        w: a dx1 array of the model\n",
    "\n",
    "        OUTPUTS:\n",
    "        A dx1 array of the gradient \n",
    "    \"\"\"\n",
    "    return -1/len(y) * tx.T @ (y - tx @ w)\n",
    "\n",
    "def gradient_descent_mse(y, tx, initial_w, max_iters, gamma):\n",
    "    \"\"\" GRADIENT_DESCENT\n",
    "        Iterates and finds the best model using gradient descent and MSE\n",
    "\n",
    "        INPUTS:\n",
    "        y: an Nx1 array of the output variable\n",
    "        tx: an Nxd array of the input variable\n",
    "        initial_w: a dx1 array of the initial model to use\n",
    "        max_iters: a scalar representing the maximum number of iterations\n",
    "        gamma: a scalar representing the step size/learning rate\n",
    "\n",
    "        OUTPUTS:\n",
    "        losses: a max_iters dimensional array representing losses for iterations\n",
    "        ws: a max_iters dimensional array representing models over iterations\n",
    "    \"\"\"\n",
    "    # Define parameters to store w and loss\n",
    "    ws = [initial_w]\n",
    "    losses = []\n",
    "    w = initial_w\n",
    "    for n_iter in range(max_iters):\n",
    "        # compute the gradient and loss given the current w\n",
    "        grad = compute_gradient_mse(y, tx, w)\n",
    "        loss = compute_loss_mse(y, tx, w)\n",
    "        # update w by gradient descent\n",
    "        w = w - gamma*grad\n",
    "        # store w and loss\n",
    "        ws.append(w)\n",
    "        losses.append(loss)\n",
    "        print(\"Gradient Descent({bi}/{ti}): loss={l}, w0={w0}, w1={w1}\".format(\n",
    "              bi=n_iter, ti=max_iters - 1, l=loss, w0=w[0], w1=w[1]))\n",
    "\n",
    "    return losses, ws"
   ]
  },
  {
   "cell_type": "markdown",
   "metadata": {},
   "source": [
    "### Load the data\n",
    "Here we will reuse the dataset `height_weight_genders.csv` from previous exercise section to check the correctness of your implementation. Please compare it with your previous result."
   ]
  },
  {
   "cell_type": "code",
   "execution_count": 30,
   "metadata": {},
   "outputs": [],
   "source": [
    "from helpers import *\n",
    "def test_your_least_squares():\n",
    "    height, weight, gender = load_data_from_ex02(sub_sample=False, add_outlier=False)\n",
    "    x, mean_x, std_x = standardize(height)\n",
    "    y, tx = build_model_data(x, weight)\n",
    "    \n",
    "    # *****************gridsearch************************\n",
    "    # Generate the grid of parameters to be swept\n",
    "    grid_w0, grid_w1 = generate_w(num_intervals=10)\n",
    "    grid_losses = grid_search(y, tx, grid_w0, grid_w1)\n",
    "    # Select the best combinaison\n",
    "    loss_star, w0_star, w1_star = get_best_parameters(grid_w0, grid_w1, grid_losses)\n",
    "    \n",
    "    \n",
    "    # *****************gradient descent************************\n",
    "        # Define the parameters of the algorithm.\n",
    "    max_iters = 50\n",
    "    gamma = 0.7\n",
    "\n",
    "    # Initialization\n",
    "    w_initial = np.array([0,0])\n",
    "\n",
    "    # Start gradient descent.\n",
    "    gradient_losses, gradient_ws = gradient_descent_mse(y, tx, w_initial, max_iters, gamma)\n",
    "    \n",
    "    # ****************least squares**********************\n",
    "    MSE, w = least_squares(y, tx)\n",
    "    \n",
    "    \n",
    "    print(\"\\nGrid search: loss={l}, w0={w0}, w1={w1}\".format(\n",
    "          l=loss_star, w0=w0_star, w1=w1_star))\n",
    "    print(\"Gradient descent: loss={l}, w0={w0}, w1={w1}\".format(\n",
    "          l=gradient_losses[-1], w0=gradient_ws[-1][0], w1=gradient_ws[-1][1]))\n",
    "    print(\"Least squares: loss={l}, w0={w0}, w1={w1}\".format(\n",
    "          l=MSE, w0=w[0], w1=w[1]))"
   ]
  },
  {
   "cell_type": "markdown",
   "metadata": {},
   "source": [
    "Test it here"
   ]
  },
  {
   "cell_type": "code",
   "execution_count": 29,
   "metadata": {},
   "outputs": [
    {
     "name": "stdout",
     "output_type": "stream",
     "text": [
      "Gradient Descent(0/49): loss=5584.473425518329, w0=51.30574540147363, w1=9.435798704492242\n",
      "Gradient Descent(1/49): loss=530.6049242179228, w0=66.69746902191571, w1=12.266538315839977\n",
      "Gradient Descent(2/49): loss=75.75675910088263, w0=71.31498610804834, w1=13.115760199244315\n",
      "Gradient Descent(3/49): loss=34.820424240348956, w0=72.70024123388814, w1=13.370526764265625\n",
      "Gradient Descent(4/49): loss=31.136154102900903, w0=73.11581777164007, w1=13.446956733772021\n",
      "Gradient Descent(5/49): loss=30.804569790530707, w0=73.24049073296565, w1=13.469885724623941\n",
      "Gradient Descent(6/49): loss=30.77472720241716, w0=73.27789262136334, w1=13.476764421879517\n",
      "Gradient Descent(7/49): loss=30.772041369486978, w0=73.28911318788263, w1=13.478828031056189\n",
      "Gradient Descent(8/49): loss=30.771799644523412, w0=73.29247935783842, w1=13.47944711380919\n",
      "Gradient Descent(9/49): loss=30.771777889276482, w0=73.29348920882515, w1=13.47963283863509\n",
      "Gradient Descent(10/49): loss=30.771775931304305, w0=73.29379216412117, w1=13.479688556082861\n",
      "Gradient Descent(11/49): loss=30.77177575508676, w0=73.29388305070998, w1=13.479705271317192\n",
      "Gradient Descent(12/49): loss=30.771775739227298, w0=73.29391031668662, w1=13.479710285887492\n",
      "Gradient Descent(13/49): loss=30.771775737800034, w0=73.29391849647962, w1=13.479711790258582\n",
      "Gradient Descent(14/49): loss=30.771775737671565, w0=73.29392095041752, w1=13.479712241569908\n",
      "Gradient Descent(15/49): loss=30.771775737659965, w0=73.29392168659889, w1=13.479712376963306\n",
      "Gradient Descent(16/49): loss=30.771775737658796, w0=73.2939219074533, w1=13.479712417581325\n",
      "Gradient Descent(17/49): loss=30.771775737658725, w0=73.29392197370962, w1=13.479712429766732\n",
      "Gradient Descent(18/49): loss=30.771775737658928, w0=73.29392199358652, w1=13.479712433422353\n",
      "Gradient Descent(19/49): loss=30.77177573765877, w0=73.29392199954958, w1=13.47971243451904\n",
      "Gradient Descent(20/49): loss=30.77177573765888, w0=73.2939220013385, w1=13.479712434848047\n",
      "Gradient Descent(21/49): loss=30.771775737658814, w0=73.29392200187519, w1=13.479712434946748\n",
      "Gradient Descent(22/49): loss=30.771775737658878, w0=73.29392200203618, w1=13.479712434976358\n",
      "Gradient Descent(23/49): loss=30.771775737658945, w0=73.29392200208449, w1=13.479712434985242\n",
      "Gradient Descent(24/49): loss=30.77177573765899, w0=73.29392200209898, w1=13.479712434987906\n",
      "Gradient Descent(25/49): loss=30.771775737658736, w0=73.29392200210333, w1=13.479712434988706\n",
      "Gradient Descent(26/49): loss=30.771775737658707, w0=73.29392200210464, w1=13.479712434988945\n",
      "Gradient Descent(27/49): loss=30.771775737658782, w0=73.29392200210502, w1=13.479712434989018\n",
      "Gradient Descent(28/49): loss=30.771775737658853, w0=73.29392200210513, w1=13.47971243498904\n",
      "Gradient Descent(29/49): loss=30.77177573765886, w0=73.29392200210518, w1=13.479712434989047\n",
      "Gradient Descent(30/49): loss=30.771775737658906, w0=73.29392200210519, w1=13.479712434989048\n",
      "Gradient Descent(31/49): loss=30.77177573765891, w0=73.29392200210519, w1=13.479712434989048\n",
      "Gradient Descent(32/49): loss=30.77177573765891, w0=73.29392200210519, w1=13.479712434989048\n",
      "Gradient Descent(33/49): loss=30.77177573765891, w0=73.29392200210519, w1=13.479712434989048\n",
      "Gradient Descent(34/49): loss=30.77177573765891, w0=73.29392200210519, w1=13.479712434989048\n",
      "Gradient Descent(35/49): loss=30.77177573765891, w0=73.29392200210519, w1=13.479712434989048\n",
      "Gradient Descent(36/49): loss=30.77177573765891, w0=73.29392200210519, w1=13.479712434989048\n",
      "Gradient Descent(37/49): loss=30.77177573765891, w0=73.29392200210519, w1=13.479712434989048\n",
      "Gradient Descent(38/49): loss=30.77177573765891, w0=73.29392200210519, w1=13.479712434989048\n",
      "Gradient Descent(39/49): loss=30.77177573765891, w0=73.29392200210519, w1=13.479712434989048\n",
      "Gradient Descent(40/49): loss=30.77177573765891, w0=73.29392200210519, w1=13.479712434989048\n",
      "Gradient Descent(41/49): loss=30.77177573765891, w0=73.29392200210519, w1=13.479712434989048\n",
      "Gradient Descent(42/49): loss=30.77177573765891, w0=73.29392200210519, w1=13.479712434989048\n",
      "Gradient Descent(43/49): loss=30.77177573765891, w0=73.29392200210519, w1=13.479712434989048\n",
      "Gradient Descent(44/49): loss=30.77177573765891, w0=73.29392200210519, w1=13.479712434989048\n",
      "Gradient Descent(45/49): loss=30.77177573765891, w0=73.29392200210519, w1=13.479712434989048\n",
      "Gradient Descent(46/49): loss=30.77177573765891, w0=73.29392200210519, w1=13.479712434989048\n",
      "Gradient Descent(47/49): loss=30.77177573765891, w0=73.29392200210519, w1=13.479712434989048\n",
      "Gradient Descent(48/49): loss=30.77177573765891, w0=73.29392200210519, w1=13.479712434989048\n",
      "Gradient Descent(49/49): loss=30.77177573765891, w0=73.29392200210519, w1=13.479712434989048\n",
      "\n",
      "Grid search: loss=84.84896629356506, w0=66.66666666666669, w1=16.666666666666686\n",
      "Gradient descent: loss=30.77177573765891, w0=73.29392200210519, w1=13.479712434989048\n",
      "Least squares: loss=5.54723135786303, w0=73.2939220021052, w1=13.479712434989057\n"
     ]
    }
   ],
   "source": [
    "test_your_least_squares()"
   ]
  },
  {
   "cell_type": "markdown",
   "metadata": {},
   "source": [
    "## 1.2 Least squares with a linear basis function model\n",
    "Start from this section, we will use the dataset `dataEx3.csv`.\n",
    "\n",
    "### Implement polynomial basis functions"
   ]
  },
  {
   "cell_type": "code",
   "execution_count": 26,
   "metadata": {
    "scrolled": true
   },
   "outputs": [
    {
     "name": "stdout",
     "output_type": "stream",
     "text": [
      "shape of x (50,)\n",
      "shape of y (50,)\n"
     ]
    }
   ],
   "source": [
    "# load dataset\n",
    "x, y = load_data()\n",
    "print(\"shape of x {}\".format(x.shape))\n",
    "print(\"shape of y {}\".format(y.shape))"
   ]
  },
  {
   "cell_type": "code",
   "execution_count": 102,
   "metadata": {},
   "outputs": [],
   "source": [
    "def build_poly(x, degree):\n",
    "    \"\"\" BUILD_POLY Polynomial basis functions for input data x, for j=0 up to j=degree\n",
    "        Takes an input vector x and returns a polynomial basis of degree j=degree\n",
    "\n",
    "        INPUTS:\n",
    "        x (N x 1): an array of the output variable with only 1 feature\n",
    "        degree: The highest degree of the basis\n",
    "\n",
    "        OUTPUTS:\n",
    "        basis (N x degree): a polynomial basis on the output variable\n",
    "    \"\"\"\n",
    "    x_expanded = np.tile(x,[degree+1,1]).T #expands the variable to degree of basis\n",
    "    powers = np.tile(np.arange(0,degree+1), [len(x),1]) #create the array of powers to raise\n",
    "    basis = np.power(x_expanded, powers)\n",
    "    \n",
    "    return basis\n",
    "    \n",
    "    "
   ]
  },
  {
   "cell_type": "code",
   "execution_count": 70,
   "metadata": {},
   "outputs": [
    {
     "name": "stdout",
     "output_type": "stream",
     "text": [
      "(50,)\n",
      "[[0.35237491 0.35237491 0.35237491 0.35237491]\n",
      " [4.8951233  4.8951233  4.8951233  4.8951233 ]\n",
      " [1.86662437 1.86662437 1.86662437 1.86662437]\n",
      " [3.50706129 3.50706129 3.50706129 3.50706129]\n",
      " [3.38087384 3.38087384 3.38087384 3.38087384]\n",
      " [0.73093728 0.73093728 0.73093728 0.73093728]\n",
      " [3.88562366 3.88562366 3.88562366 3.88562366]\n",
      " [5.65224803 5.65224803 5.65224803 5.65224803]\n",
      " [6.28318531 6.28318531 6.28318531 6.28318531]\n",
      " [2.37137419 2.37137419 2.37137419 2.37137419]\n",
      " [0.60474982 0.60474982 0.60474982 0.60474982]\n",
      " [3.63324875 3.63324875 3.63324875 3.63324875]\n",
      " [0.85712473 0.85712473 0.85712473 0.85712473]\n",
      " [2.49756165 2.49756165 2.49756165 2.49756165]\n",
      " [1.61424946 1.61424946 1.61424946 1.61424946]\n",
      " [5.39987312 5.39987312 5.39987312 5.39987312]\n",
      " [6.15699785 6.15699785 6.15699785 6.15699785]\n",
      " [6.0308104  6.0308104  6.0308104  6.0308104 ]\n",
      " [0.47856237 0.47856237 0.47856237 0.47856237]\n",
      " [2.87612401 2.87612401 2.87612401 2.87612401]\n",
      " [4.51656093 4.51656093 4.51656093 4.51656093]\n",
      " [0.98331219 0.98331219 0.98331219 0.98331219]\n",
      " [1.10949964 1.10949964 1.10949964 1.10949964]\n",
      " [0.1        0.1        0.1        0.1       ]\n",
      " [2.11899928 2.11899928 2.11899928 2.11899928]\n",
      " [1.36187455 1.36187455 1.36187455 1.36187455]\n",
      " [4.01181111 4.01181111 4.01181111 4.01181111]\n",
      " [5.77843549 5.77843549 5.77843549 5.77843549]\n",
      " [4.26418602 4.26418602 4.26418602 4.26418602]\n",
      " [1.2356871  1.2356871  1.2356871  1.2356871 ]\n",
      " [2.24518674 2.24518674 2.24518674 2.24518674]\n",
      " [1.99281183 1.99281183 1.99281183 1.99281183]\n",
      " [1.48806201 1.48806201 1.48806201 1.48806201]\n",
      " [4.64274839 4.64274839 4.64274839 4.64274839]\n",
      " [4.39037348 4.39037348 4.39037348 4.39037348]\n",
      " [3.00231147 3.00231147 3.00231147 3.00231147]\n",
      " [0.22618746 0.22618746 0.22618746 0.22618746]\n",
      " [5.27368567 5.27368567 5.27368567 5.27368567]\n",
      " [5.02131076 5.02131076 5.02131076 5.02131076]\n",
      " [5.52606058 5.52606058 5.52606058 5.52606058]\n",
      " [2.6237491  2.6237491  2.6237491  2.6237491 ]\n",
      " [4.76893584 4.76893584 4.76893584 4.76893584]\n",
      " [3.12849893 3.12849893 3.12849893 3.12849893]\n",
      " [1.74043692 1.74043692 1.74043692 1.74043692]\n",
      " [3.7594362  3.7594362  3.7594362  3.7594362 ]\n",
      " [3.25468638 3.25468638 3.25468638 3.25468638]\n",
      " [5.90462294 5.90462294 5.90462294 5.90462294]\n",
      " [4.13799857 4.13799857 4.13799857 4.13799857]\n",
      " [2.74993656 2.74993656 2.74993656 2.74993656]\n",
      " [5.14749821 5.14749821 5.14749821 5.14749821]]\n",
      "[[1.00000000e+00 3.52374910e-01 1.24168077e-01 4.37537150e-02]\n",
      " [1.00000000e+00 4.89512330e+00 2.39622321e+01 1.17298081e+02]\n",
      " [1.00000000e+00 1.86662437e+00 3.48428655e+00 6.50385420e+00]\n",
      " [1.00000000e+00 3.50706129e+00 1.22994789e+01 4.31350264e+01]\n",
      " [1.00000000e+00 3.38087384e+00 1.14303079e+01 3.86444289e+01]\n",
      " [1.00000000e+00 7.30937276e-01 5.34269301e-01 3.90517348e-01]\n",
      " [1.00000000e+00 3.88562366e+00 1.50980712e+01 5.86654226e+01]\n",
      " [1.00000000e+00 5.65224803e+00 3.19479078e+01 1.80577499e+02]\n",
      " [1.00000000e+00 6.28318531e+00 3.94784176e+01 2.48050213e+02]\n",
      " [1.00000000e+00 2.37137419e+00 5.62341557e+00 1.33352226e+01]\n",
      " [1.00000000e+00 6.04749821e-01 3.65722346e-01 2.21170523e-01]\n",
      " [1.00000000e+00 3.63324875e+00 1.32004965e+01 4.79606872e+01]\n",
      " [1.00000000e+00 8.57124731e-01 7.34662804e-01 6.29697659e-01]\n",
      " [1.00000000e+00 2.49756165e+00 6.23781420e+00 1.55793255e+01]\n",
      " [1.00000000e+00 1.61424946e+00 2.60580133e+00 4.20641340e+00]\n",
      " [1.00000000e+00 5.39987312e+00 2.91586297e+01 1.57452901e+02]\n",
      " [1.00000000e+00 6.15699785e+00 3.79086225e+01 2.33403308e+02]\n",
      " [1.00000000e+00 6.03081040e+00 3.63706740e+01 2.19344639e+02]\n",
      " [1.00000000e+00 4.78562366e-01 2.29021938e-01 1.09601281e-01]\n",
      " [1.00000000e+00 2.87612401e+00 8.27208935e+00 2.37915548e+01]\n",
      " [1.00000000e+00 4.51656093e+00 2.03993227e+01 9.21347839e+01]\n",
      " [1.00000000e+00 9.83312187e-01 9.66902857e-01 9.50767363e-01]\n",
      " [1.00000000e+00 1.10949964e+00 1.23098946e+00 1.36578236e+00]\n",
      " [1.00000000e+00 1.00000000e-01 1.00000000e-02 1.00000000e-03]\n",
      " [1.00000000e+00 2.11899928e+00 4.49015797e+00 9.51464151e+00]\n",
      " [1.00000000e+00 1.36187455e+00 1.85470230e+00 2.52587186e+00]\n",
      " [1.00000000e+00 4.01181111e+00 1.60946284e+01 6.45686091e+01]\n",
      " [1.00000000e+00 5.77843549e+00 3.33903167e+01 1.92943791e+02]\n",
      " [1.00000000e+00 4.26418602e+00 1.81832824e+01 7.75368988e+01]\n",
      " [1.00000000e+00 1.23568710e+00 1.52692260e+00 1.88679856e+00]\n",
      " [1.00000000e+00 2.24518674e+00 5.04086349e+00 1.13176799e+01]\n",
      " [1.00000000e+00 1.99281183e+00 3.97129899e+00 7.91405160e+00]\n",
      " [1.00000000e+00 1.48806201e+00 2.21432854e+00 3.29505817e+00]\n",
      " [1.00000000e+00 4.64274839e+00 2.15551126e+01 1.00074964e+02]\n",
      " [1.00000000e+00 4.39037348e+00 1.92753793e+01 8.46261140e+01]\n",
      " [1.00000000e+00 3.00231147e+00 9.01387417e+00 2.70624578e+01]\n",
      " [1.00000000e+00 2.26187455e-01 5.11607648e-02 1.15719232e-02]\n",
      " [1.00000000e+00 5.27368567e+00 2.78117605e+01 1.46670483e+02]\n",
      " [1.00000000e+00 5.02131076e+00 2.52135617e+01 1.26605129e+02]\n",
      " [1.00000000e+00 5.52606058e+00 3.05373455e+01 1.68751221e+02]\n",
      " [1.00000000e+00 2.62374910e+00 6.88405937e+00 1.80620446e+01]\n",
      " [1.00000000e+00 4.76893584e+00 2.27427491e+01 1.08458711e+02]\n",
      " [1.00000000e+00 3.12849893e+00 9.78750553e+00 3.06202005e+01]\n",
      " [1.00000000e+00 1.74043692e+00 3.02912067e+00 5.27199344e+00]\n",
      " [1.00000000e+00 3.75943620e+00 1.41333606e+01 5.31334673e+01]\n",
      " [1.00000000e+00 3.25468638e+00 1.05929834e+01 3.44768389e+01]\n",
      " [1.00000000e+00 5.90462294e+00 3.48645721e+01 2.05862152e+02]\n",
      " [1.00000000e+00 4.13799857e+00 1.71230321e+01 7.08550825e+01]\n",
      " [1.00000000e+00 2.74993656e+00 7.56215108e+00 2.07954357e+01]\n",
      " [1.00000000e+00 5.14749821e+00 2.64967378e+01 1.36391911e+02]]\n",
      "[[1.00000000e+00 3.52374910e-01 1.24168077e-01 4.37537150e-02]\n",
      " [1.00000000e+00 4.89512330e+00 2.39622321e+01 1.17298081e+02]\n",
      " [1.00000000e+00 1.86662437e+00 3.48428655e+00 6.50385420e+00]\n",
      " [1.00000000e+00 3.50706129e+00 1.22994789e+01 4.31350264e+01]\n",
      " [1.00000000e+00 3.38087384e+00 1.14303079e+01 3.86444289e+01]\n",
      " [1.00000000e+00 7.30937276e-01 5.34269301e-01 3.90517348e-01]\n",
      " [1.00000000e+00 3.88562366e+00 1.50980712e+01 5.86654226e+01]\n",
      " [1.00000000e+00 5.65224803e+00 3.19479078e+01 1.80577499e+02]\n",
      " [1.00000000e+00 6.28318531e+00 3.94784176e+01 2.48050213e+02]\n",
      " [1.00000000e+00 2.37137419e+00 5.62341557e+00 1.33352226e+01]\n",
      " [1.00000000e+00 6.04749821e-01 3.65722346e-01 2.21170523e-01]\n",
      " [1.00000000e+00 3.63324875e+00 1.32004965e+01 4.79606872e+01]\n",
      " [1.00000000e+00 8.57124731e-01 7.34662804e-01 6.29697659e-01]\n",
      " [1.00000000e+00 2.49756165e+00 6.23781420e+00 1.55793255e+01]\n",
      " [1.00000000e+00 1.61424946e+00 2.60580133e+00 4.20641340e+00]\n",
      " [1.00000000e+00 5.39987312e+00 2.91586297e+01 1.57452901e+02]\n",
      " [1.00000000e+00 6.15699785e+00 3.79086225e+01 2.33403308e+02]\n",
      " [1.00000000e+00 6.03081040e+00 3.63706740e+01 2.19344639e+02]\n",
      " [1.00000000e+00 4.78562366e-01 2.29021938e-01 1.09601281e-01]\n",
      " [1.00000000e+00 2.87612401e+00 8.27208935e+00 2.37915548e+01]\n",
      " [1.00000000e+00 4.51656093e+00 2.03993227e+01 9.21347839e+01]\n",
      " [1.00000000e+00 9.83312187e-01 9.66902857e-01 9.50767363e-01]\n",
      " [1.00000000e+00 1.10949964e+00 1.23098946e+00 1.36578236e+00]\n",
      " [1.00000000e+00 1.00000000e-01 1.00000000e-02 1.00000000e-03]\n",
      " [1.00000000e+00 2.11899928e+00 4.49015797e+00 9.51464151e+00]\n",
      " [1.00000000e+00 1.36187455e+00 1.85470230e+00 2.52587186e+00]\n",
      " [1.00000000e+00 4.01181111e+00 1.60946284e+01 6.45686091e+01]\n",
      " [1.00000000e+00 5.77843549e+00 3.33903167e+01 1.92943791e+02]\n",
      " [1.00000000e+00 4.26418602e+00 1.81832824e+01 7.75368988e+01]\n",
      " [1.00000000e+00 1.23568710e+00 1.52692260e+00 1.88679856e+00]\n",
      " [1.00000000e+00 2.24518674e+00 5.04086349e+00 1.13176799e+01]\n",
      " [1.00000000e+00 1.99281183e+00 3.97129899e+00 7.91405160e+00]\n",
      " [1.00000000e+00 1.48806201e+00 2.21432854e+00 3.29505817e+00]\n",
      " [1.00000000e+00 4.64274839e+00 2.15551126e+01 1.00074964e+02]\n",
      " [1.00000000e+00 4.39037348e+00 1.92753793e+01 8.46261140e+01]\n",
      " [1.00000000e+00 3.00231147e+00 9.01387417e+00 2.70624578e+01]\n",
      " [1.00000000e+00 2.26187455e-01 5.11607648e-02 1.15719232e-02]\n",
      " [1.00000000e+00 5.27368567e+00 2.78117605e+01 1.46670483e+02]\n",
      " [1.00000000e+00 5.02131076e+00 2.52135617e+01 1.26605129e+02]\n",
      " [1.00000000e+00 5.52606058e+00 3.05373455e+01 1.68751221e+02]\n",
      " [1.00000000e+00 2.62374910e+00 6.88405937e+00 1.80620446e+01]\n",
      " [1.00000000e+00 4.76893584e+00 2.27427491e+01 1.08458711e+02]\n",
      " [1.00000000e+00 3.12849893e+00 9.78750553e+00 3.06202005e+01]\n",
      " [1.00000000e+00 1.74043692e+00 3.02912067e+00 5.27199344e+00]\n",
      " [1.00000000e+00 3.75943620e+00 1.41333606e+01 5.31334673e+01]\n",
      " [1.00000000e+00 3.25468638e+00 1.05929834e+01 3.44768389e+01]\n",
      " [1.00000000e+00 5.90462294e+00 3.48645721e+01 2.05862152e+02]\n",
      " [1.00000000e+00 4.13799857e+00 1.71230321e+01 7.08550825e+01]\n",
      " [1.00000000e+00 2.74993656e+00 7.56215108e+00 2.07954357e+01]\n",
      " [1.00000000e+00 5.14749821e+00 2.64967378e+01 1.36391911e+02]]\n"
     ]
    }
   ],
   "source": [
    "print(x.shape)\n",
    "b = np.tile(x,[4,1]).T\n",
    "a = np.arange(0,4)\n",
    "a = np.tile(a, [50,1])\n",
    "print(b)\n",
    "print(np.power(b,a))\n",
    "print(build_poly(x,3))"
   ]
  },
  {
   "cell_type": "markdown",
   "metadata": {},
   "source": [
    "Let us play with polynomial regression. Note that we will use your implemented function `compute_mse`. Please copy and paste your implementation from exercise02."
   ]
  },
  {
   "cell_type": "code",
   "execution_count": 109,
   "metadata": {},
   "outputs": [],
   "source": [
    "from plots import *\n",
    "\n",
    "def polynomial_regression(x, y):\n",
    "    \"\"\"Constructing the polynomial basis function expansion of the data,\n",
    "       and then running least squares regression.\"\"\"\n",
    "    # define parameters\n",
    "    degrees = [1, 3, 7, 12]\n",
    "    \n",
    "    # define the structure of the figure\n",
    "    num_row = 2\n",
    "    num_col = 2\n",
    "    f, axs = plt.subplots(num_row, num_col)\n",
    "\n",
    "    for ind, degree in enumerate(degrees):\n",
    "        poly_basis = build_poly(x, degree)\n",
    "        rmse, weights = calc_rmse(y,poly_basis)\n",
    "\n",
    "        print(\"Processing {i}th experiment, degree={d}, rmse={loss}\".format(\n",
    "              i=ind + 1, d=degree, loss=rmse))\n",
    "        # plot fit\n",
    "        plot_fitted_curve(\n",
    "            y, x, weights, degree, axs[ind // num_col][ind % num_col])\n",
    "    plt.tight_layout()\n",
    "    plt.savefig(\"visualize_polynomial_regression\")\n",
    "    plt.show()"
   ]
  },
  {
   "cell_type": "markdown",
   "metadata": {},
   "source": [
    "Run polynomial regression"
   ]
  },
  {
   "cell_type": "code",
   "execution_count": 110,
   "metadata": {},
   "outputs": [
    {
     "name": "stdout",
     "output_type": "stream",
     "text": [
      "Processing 1th experiment, degree=1, rmse=0.47187607963421874\n",
      "Processing 2th experiment, degree=3, rmse=0.258582776677375\n",
      "Processing 3th experiment, degree=7, rmse=0.24965870360907527\n",
      "Processing 4th experiment, degree=12, rmse=0.9268294526468843\n"
     ]
    },
    {
     "data": {
      "image/png": "[encoded data removed]",
      "text/plain": [
       "<Figure size 432x288 with 4 Axes>"
      ]
     },
     "metadata": {
      "needs_background": "light"
     },
     "output_type": "display_data"
    }
   ],
   "source": [
    "polynomial_regression(x, y)"
   ]
  },
  {
   "cell_type": "markdown",
   "metadata": {},
   "source": [
    "# 2 Evaluating model predication performance\n",
    "\n",
    "\n",
    "Let us show the train and test splits for various polynomial degrees. First of all, please fill in the function `split_data()`"
   ]
  },
  {
   "cell_type": "code",
   "execution_count": 128,
   "metadata": {},
   "outputs": [],
   "source": [
    "def split_data(x, y, ratio, seed=1):\n",
    "    \"\"\"\n",
    "    split the dataset based on the split ratio. If ratio is 0.8 \n",
    "    you will have 80% of your data set dedicated to training \n",
    "    and the rest dedicated to testing\n",
    "    \"\"\"\n",
    "    # set seed\n",
    "    np.random.seed(seed)\n",
    "    shuffled_indices = np.argsort(np.random.rand(len(x))) # array of random indices to shuffle data\n",
    "    x = x[shuffled_indices] # reorder the array\n",
    "    y = y[shuffled_indices] # reorder the array\n",
    "    \n",
    "     # finds where to cutoff. int() will round down, if dataset large enough not important if round up/down\n",
    "    cutoff = int(len(x) * ratio)\n",
    "    \n",
    "    # split the arrays according to the ratio\n",
    "    x1 = x[0:cutoff]\n",
    "    y1 = y[0:cutoff]\n",
    "    x2 = x[cutoff+1:]\n",
    "    y2 = y[cutoff+1:]\n",
    "    \n",
    "    return x1, y1, x2, y2"
   ]
  },
  {
   "cell_type": "code",
   "execution_count": 126,
   "metadata": {},
   "outputs": [
    {
     "data": {
      "text/plain": [
       "array([4.8951233 , 5.27368567, 5.14749821, 2.49756165, 4.01181111,\n",
       "       1.36187455, 3.38087384, 1.2356871 , 1.74043692, 2.74993656,\n",
       "       6.0308104 ])"
      ]
     },
     "execution_count": 126,
     "metadata": {},
     "output_type": "execute_result"
    }
   ],
   "source": [
    "np.random.seed(1)\n",
    "np.random.rand()\n",
    "a = np.random.rand(x.shape[0])\n",
    "a = x[np.argsort(a)]\n",
    "ratio = 0.23\n",
    "b = int(len(a) * ratio)\n",
    "a[0:b]"
   ]
  },
  {
   "cell_type": "markdown",
   "metadata": {},
   "source": [
    "Then, test your `split_data` function below."
   ]
  },
  {
   "cell_type": "code",
   "execution_count": 145,
   "metadata": {},
   "outputs": [],
   "source": [
    "def train_test_split_demo(x, y, degree, ratio, seed):\n",
    "    \"\"\"polynomial regression with different split ratios and different degrees.\"\"\"\n",
    "    # ***************************************************\n",
    "    # INSERT YOUR CODE HERE\n",
    "    # split the data, and return train and test data: TODO\n",
    "    # ***************************************************\n",
    "    train_x, train_y, test_x, test_y = split_data(x,y,ratio)\n",
    "    \n",
    "    # ***************************************************\n",
    "    # INSERT YOUR CODE HERE\n",
    "    # form train and test data with polynomial basis function: TODO\n",
    "    # ***************************************************\n",
    "    train_poly = build_poly(train_x, degree)\n",
    "    test_poly = build_poly(test_x, degree)\n",
    "    \n",
    "    # ***************************************************\n",
    "    # INSERT YOUR CODE HERE\n",
    "    # calculate weight through least square: TODO\n",
    "    # ***************************************************\n",
    "    rmse_tr, weights = calc_rmse(train_y, train_poly)\n",
    "    \n",
    "    # ***************************************************\n",
    "    # INSERT YOUR CODE HERE\n",
    "    # calculate RMSE for train and test data,\n",
    "    # and store them in rmse_tr and rmse_te respectively: TODO\n",
    "    # ***************************************************\n",
    "    rmse_te = compute_loss_rmse(test_y, test_poly, weights)\n",
    "    \n",
    "    print(\"proportion={p}, degree={d}, Training RMSE={tr:.3f}, Testing RMSE={te:.3f}\".format(\n",
    "          p=ratio, d=degree, tr=rmse_tr, te=rmse_te))\n"
   ]
  },
  {
   "cell_type": "code",
   "execution_count": 146,
   "metadata": {},
   "outputs": [
    {
     "name": "stdout",
     "output_type": "stream",
     "text": [
      "proportion=0.9, degree=1, Training RMSE=0.481, Testing RMSE=0.447\n",
      "proportion=0.9, degree=3, Training RMSE=0.252, Testing RMSE=0.276\n",
      "proportion=0.9, degree=7, Training RMSE=0.241, Testing RMSE=0.293\n",
      "proportion=0.9, degree=12, Training RMSE=0.424, Testing RMSE=0.555\n",
      "proportion=0.5, degree=1, Training RMSE=0.527, Testing RMSE=0.426\n",
      "proportion=0.5, degree=3, Training RMSE=0.238, Testing RMSE=0.327\n",
      "proportion=0.5, degree=7, Training RMSE=0.228, Testing RMSE=0.329\n",
      "proportion=0.5, degree=12, Training RMSE=0.367, Testing RMSE=1.027\n",
      "proportion=0.1, degree=1, Training RMSE=0.435, Testing RMSE=0.703\n",
      "proportion=0.1, degree=3, Training RMSE=0.042, Testing RMSE=1.916\n",
      "proportion=0.1, degree=7, Training RMSE=16.190, Testing RMSE=18.081\n",
      "proportion=0.1, degree=12, Training RMSE=2.838, Testing RMSE=191.615\n"
     ]
    }
   ],
   "source": [
    "seed = 6\n",
    "degrees = [1, 3, 7, 12]\n",
    "split_ratios = [0.9, 0.5, 0.1]\n",
    "\n",
    "for split_ratio in split_ratios:\n",
    "    for degree in degrees:\n",
    "        train_test_split_demo(x, y, degree, split_ratio, seed)"
   ]
  },
  {
   "cell_type": "markdown",
   "metadata": {},
   "source": [
    "# 3 Ridge Regression\n",
    "Please fill in the function below."
   ]
  },
  {
   "cell_type": "code",
   "execution_count": 166,
   "metadata": {},
   "outputs": [],
   "source": [
    "def ridge_regression(y, tx, lambda_):    \n",
    "    \"\"\" RIDGE_REGRESSION Finds optimal weights using ridge regression\n",
    "        Calculates the optimal weights for a model applied on tx to get y\n",
    "        Uses ridge regression with a tradeoff parameter lambda\n",
    "        Returns the root mean square of the error and optimal weights\n",
    "        \n",
    "        INPUTS\n",
    "        y (Nx1): array of the output data with N datapoints\n",
    "        tx (NxD): array of the input data with N datapoints and D characteristics\n",
    "        \n",
    "        OUTPUTS\n",
    "        MSE: A scalar of the mean square error of the model\n",
    "        w: the optimal weights for the given system\n",
    "    \"\"\"\n",
    "    lambda_prime = lambda_ * 2 * len(tx)\n",
    "    \n",
    "    w = np.linalg.inv(tx.T @ tx + lambda_prime * np.identity(tx.shape[1])) @ tx.T @ y\n",
    "    RMSE = compute_loss_rmse(y, tx, w)\n",
    "    return RMSE, w"
   ]
  },
  {
   "cell_type": "code",
   "execution_count": 187,
   "metadata": {},
   "outputs": [],
   "source": [
    "def ridge_regression_demo(x, y, degree, ratio, seed):\n",
    "    \"\"\"ridge regression demo.\"\"\"\n",
    "    # define parameter\n",
    "    lambdas = np.logspace(-5, 0, 15)\n",
    "    #lambdas=np.array([0,1])\n",
    "    # ***************************************************\n",
    "    # INSERT YOUR CODE HERE\n",
    "    # split the data, and return train and test data: TODO\n",
    "    # ***************************************************\n",
    "    train_x, train_y, test_x, test_y = split_data(x,y,ratio)\n",
    "    \n",
    "    # ***************************************************\n",
    "    # INSERT YOUR CODE HERE\n",
    "    # form train and test data with polynomial basis function: TODO\n",
    "    # ***************************************************\n",
    "    train_poly = build_poly(train_x, degree)\n",
    "    test_poly = build_poly(test_x, degree)\n",
    "    \n",
    "    rmse_tr = np.zeros(len(lambdas))\n",
    "    rmse_te = np.zeros(len(lambdas))\n",
    "    for ind, lambda_ in enumerate(lambdas):\n",
    "        # ***************************************************\n",
    "        # INSERT YOUR CODE HERE\n",
    "        # ridge regression with a given lambda\n",
    "        # ***************************************************\n",
    "        rmse_tr[ind], w = ridge_regression(train_y, train_poly, lambda_)\n",
    "        rmse_te[ind] = compute_loss_rmse(test_y, test_poly, w)\n",
    "        \n",
    "        print(\"proportion={p}, degree={d}, lambda={l:.6f}, Training RMSE={tr:.3f}, Testing RMSE={te:.3f}\".format(\n",
    "               p=ratio, d=degree, l=lambda_, tr=rmse_tr[ind], te=rmse_te[ind]))\n",
    "        \n",
    "    # Plot the obtained results\n",
    "    plot_train_test(rmse_tr, rmse_te, lambdas, degree)\n"
   ]
  },
  {
   "cell_type": "code",
   "execution_count": 192,
   "metadata": {},
   "outputs": [
    {
     "name": "stdout",
     "output_type": "stream",
     "text": [
      "proportion=0.5, degree=7, lambda=0.000010, Training RMSE=0.229, Testing RMSE=0.303\n",
      "proportion=0.5, degree=7, lambda=0.000023, Training RMSE=0.230, Testing RMSE=0.300\n",
      "proportion=0.5, degree=7, lambda=0.000052, Training RMSE=0.232, Testing RMSE=0.300\n",
      "proportion=0.5, degree=7, lambda=0.000118, Training RMSE=0.232, Testing RMSE=0.300\n",
      "proportion=0.5, degree=7, lambda=0.000268, Training RMSE=0.233, Testing RMSE=0.299\n",
      "proportion=0.5, degree=7, lambda=0.000611, Training RMSE=0.233, Testing RMSE=0.297\n",
      "proportion=0.5, degree=7, lambda=0.001389, Training RMSE=0.234, Testing RMSE=0.295\n",
      "proportion=0.5, degree=7, lambda=0.003162, Training RMSE=0.234, Testing RMSE=0.294\n",
      "proportion=0.5, degree=7, lambda=0.007197, Training RMSE=0.235, Testing RMSE=0.294\n",
      "proportion=0.5, degree=7, lambda=0.016379, Training RMSE=0.237, Testing RMSE=0.296\n",
      "proportion=0.5, degree=7, lambda=0.037276, Training RMSE=0.241, Testing RMSE=0.302\n",
      "proportion=0.5, degree=7, lambda=0.084834, Training RMSE=0.254, Testing RMSE=0.319\n",
      "proportion=0.5, degree=7, lambda=0.193070, Training RMSE=0.280, Testing RMSE=0.349\n",
      "proportion=0.5, degree=7, lambda=0.439397, Training RMSE=0.313, Testing RMSE=0.386\n",
      "proportion=0.5, degree=7, lambda=1.000000, Training RMSE=0.343, Testing RMSE=0.417\n"
     ]
    },
    {
     "data": {
      "image/png": "[encoded data removed]",
      "text/plain": [
       "<Figure size 432x288 with 1 Axes>"
      ]
     },
     "metadata": {
      "needs_background": "light"
     },
     "output_type": "display_data"
    }
   ],
   "source": [
    "seed = 56\n",
    "degree = 7\n",
    "split_ratio = 0.5\n",
    "ridge_regression_demo(x, y, degree, split_ratio, seed)"
   ]
  }
 ],
 "metadata": {
  "anaconda-cloud": {},
  "kernelspec": {
   "display_name": "Python 3",
   "language": "python",
   "name": "python3"
  },
  "language_info": {
   "codemirror_mode": {
    "name": "ipython",
    "version": 3
   },
   "file_extension": ".py",
   "mimetype": "text/x-python",
   "name": "python",
   "nbconvert_exporter": "python",
   "pygments_lexer": "ipython3",
   "version": "3.8.3"
  }
 },
 "nbformat": 4,
 "nbformat_minor": 1
}
